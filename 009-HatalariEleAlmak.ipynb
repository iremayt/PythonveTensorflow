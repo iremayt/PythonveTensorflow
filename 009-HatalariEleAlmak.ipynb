{
 "cells": [
  {
   "cell_type": "markdown",
   "id": "5811d2fb",
   "metadata": {},
   "source": [
    "# Hatalari Ele Almak: try & except & else & finally\n",
    "## try & except"
   ]
  },
  {
   "cell_type": "code",
   "execution_count": 8,
   "id": "b52c6ec6",
   "metadata": {},
   "outputs": [],
   "source": [
    "# orn1: hesap makinasi\n",
    "\n",
    "def hesapla(a, b, islem) :\n",
    "    if islem == \"+\" :\n",
    "        return (str(a) + \"+\" + str(b) + \"=\" + str(a+b))\n",
    "    \n",
    "    if islem == \"-\" :\n",
    "        return (f\"{a}-{b}={a-b}\")\n",
    "    \n",
    "    if islem == \"*\" :\n",
    "        return (str(a) + \"*\" + str(b) + \"=\" + str(a*b))\n",
    "    \n",
    "    if islem == \"/\" :\n",
    "        return (str(a) + \"/\" + str(b) + \"=\" + str(a/b))"
   ]
  },
  {
   "cell_type": "code",
   "execution_count": 9,
   "id": "062cce61",
   "metadata": {},
   "outputs": [
    {
     "name": "stdout",
     "output_type": "stream",
     "text": [
      "sayi1 giriniz: 20\n",
      "sayi2 giriniz: 10\n",
      "islem seciniz(+ - * /): -\n"
     ]
    },
    {
     "data": {
      "text/plain": [
       "'20-10=10'"
      ]
     },
     "execution_count": 9,
     "metadata": {},
     "output_type": "execute_result"
    }
   ],
   "source": [
    "a = int(input(\"sayi1 giriniz: \"))\n",
    "b = int(input(\"sayi2 giriniz: \"))\n",
    "islem = input(\"islem seciniz(+ - * /): \")\n",
    "hesapla(a, b, islem)"
   ]
  },
  {
   "cell_type": "code",
   "execution_count": 14,
   "id": "a857c156",
   "metadata": {},
   "outputs": [],
   "source": [
    "# orn2: hesap makinasi\n",
    "\n",
    "def hesapla(a, b, islem) :\n",
    "    \n",
    "    #kullanici verilen 4 islem disinda bir islem secerse:\n",
    "    if islem not in \"+-*/\" :\n",
    "        return \"Lutfen gosterilen islemlerden birini seciniz(+-*/): \"\n",
    "    \n",
    "    if islem == \"+\" :\n",
    "        return (str(a) + \"+\" + str(b) + \"=\" + str(a+b))\n",
    "    \n",
    "    if islem == \"-\" :\n",
    "        return (f\"{a}-{b}={a-b}\")\n",
    "    \n",
    "    if islem == \"*\" :\n",
    "        return (str(a) + \"*\" + str(b) + \"=\" + str(a*b))\n",
    "    \n",
    "    if islem == \"/\" :\n",
    "        return (str(a) + \"/\" + str(b) + \"=\" + str(a/b))"
   ]
  },
  {
   "cell_type": "code",
   "execution_count": null,
   "id": "d616be66",
   "metadata": {},
   "outputs": [
    {
     "name": "stdout",
     "output_type": "stream",
     "text": [
      "sayi1 giriniz: a\n",
      "Sayilari duzgun giriniz...\n",
      "sayi1 giriniz: a\n",
      "Sayilari duzgun giriniz...\n",
      "sayi1 giriniz: d\n",
      "Sayilari duzgun giriniz...\n",
      "sayi1 giriniz: 10\n",
      "sayi2 giriniz: c\n",
      "Sayilari duzgun giriniz...\n",
      "sayi1 giriniz: 10\n",
      "sayi2 giriniz: 20\n",
      "islem seciniz(+ - * /): c\n",
      "Lutfen gosterilen islemlerden birini seciniz(+-*/): \n",
      "sayi1 giriniz: 10\n",
      "sayi2 giriniz: 20\n",
      "islem seciniz(+ - * /): +\n",
      "10+20=30\n",
      "Sayilari duzgun giriniz...\n",
      "Sayilari duzgun giriniz...\n"
     ]
    }
   ],
   "source": [
    "#bir hesaplama yaptiktan snra program kapanmasin, tekrar basa donsun.\n",
    "#Dogru old. surece dvm et.\n",
    "while True:\n",
    "    \n",
    "    #su islemleri dene, yapamaz isen programi cokertme except e git.\n",
    "    try:\n",
    "        a = int(input(\"sayi1 giriniz: \"))\n",
    "        b = int(input(\"sayi2 giriniz: \"))\n",
    "        islem = input(\"islem seciniz(+ - * /): \")\n",
    "        print(hesapla(a, b, islem))\n",
    "        \n",
    "    except:\n",
    "        print(\"Sayilari duzgun giriniz...\")"
   ]
  },
  {
   "cell_type": "markdown",
   "id": "d02853f8",
   "metadata": {},
   "source": [
    "NOT: Calismaz ise durdurup tekrar baslatabilirsin: Kernel Interrupt--> Kernel Restart"
   ]
  },
  {
   "cell_type": "markdown",
   "id": "25daaf99",
   "metadata": {},
   "source": [
    "## try & except & else & finally"
   ]
  },
  {
   "cell_type": "code",
   "execution_count": 3,
   "id": "21e0a0e0",
   "metadata": {},
   "outputs": [],
   "source": [
    "def toplama(num1, num2):\n",
    "    return num1+num2"
   ]
  },
  {
   "cell_type": "code",
   "execution_count": 4,
   "id": "4eae6eb5",
   "metadata": {},
   "outputs": [
    {
     "name": "stdout",
     "output_type": "stream",
     "text": [
      "numara1 giriniz: 10\n",
      "numara2 giriniz: 20\n"
     ]
    },
    {
     "data": {
      "text/plain": [
       "30"
      ]
     },
     "execution_count": 4,
     "metadata": {},
     "output_type": "execute_result"
    }
   ],
   "source": [
    "x = int(input(\"numara1 giriniz: \"))\n",
    "y = int(input(\"numara2 giriniz: \"))\n",
    "toplama(x, y)"
   ]
  },
  {
   "cell_type": "code",
   "execution_count": 11,
   "id": "12fbed75",
   "metadata": {},
   "outputs": [
    {
     "name": "stdout",
     "output_type": "stream",
     "text": [
      "numara1 giriniz: ali\n",
      "Gercek bir numara giriniz: \n",
      "finally cagirildi\n",
      "numara1 giriniz: 10\n",
      "numara2 giriniz: 20\n",
      "30\n",
      "tesekkurler\n",
      "finally cagirildi\n"
     ]
    }
   ],
   "source": [
    "while True: #program dogru old. surece dvm etsin, bitmesin.\n",
    "    try: #kullanicidan numara iste, int e cevirmeyi dene:\n",
    "        x = int(input(\"numara1 giriniz: \"))\n",
    "        y = int(input(\"numara2 giriniz: \"))\n",
    "        print(toplama(x, y))\n",
    "    \n",
    "    except: #bir sorun cikarsa sunu yazdir:\n",
    "        print(\"Gercek bir numara giriniz: \")\n",
    "        continue #dongunun basina don ve dvm et. \n",
    "        #continue-break-pass dongulerde kullanilir.While da bir dongu.\n",
    "        #Continue:Dongunun basina don ve devam et.-Break: Dur ve donguden cik.-Pass: Gormezden gel, dikkate alma, gec.\n",
    "        \n",
    "    else: \n",
    "        print(\"tesekkurler\")\n",
    "        break #dur ve donguden cik.\n",
    "        \n",
    "    finally: #ne olursa olsun yazdirir:\n",
    "        print(\"finally cagirildi\")\n",
    "        \n",
    "        "
   ]
  },
  {
   "cell_type": "code",
   "execution_count": null,
   "id": "f98f8492",
   "metadata": {},
   "outputs": [],
   "source": []
  }
 ],
 "metadata": {
  "kernelspec": {
   "display_name": "Python 3 (ipykernel)",
   "language": "python",
   "name": "python3"
  },
  "language_info": {
   "codemirror_mode": {
    "name": "ipython",
    "version": 3
   },
   "file_extension": ".py",
   "mimetype": "text/x-python",
   "name": "python",
   "nbconvert_exporter": "python",
   "pygments_lexer": "ipython3",
   "version": "3.9.7"
  }
 },
 "nbformat": 4,
 "nbformat_minor": 5
}
