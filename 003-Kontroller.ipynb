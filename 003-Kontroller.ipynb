{
 "cells": [
  {
   "cell_type": "markdown",
   "id": "fa1ab5e3",
   "metadata": {},
   "source": [
    "# Kiyaslamalar"
   ]
  },
  {
   "cell_type": "code",
   "execution_count": 1,
   "id": "18aad6ea",
   "metadata": {},
   "outputs": [],
   "source": [
    "x = 10\n",
    "y = 8"
   ]
  },
  {
   "cell_type": "code",
   "execution_count": 3,
   "id": "04bf086c",
   "metadata": {},
   "outputs": [
    {
     "data": {
      "text/plain": [
       "False"
      ]
     },
     "execution_count": 3,
     "metadata": {},
     "output_type": "execute_result"
    }
   ],
   "source": [
    "x == y #esit mi? - hyr, esit dgl."
   ]
  },
  {
   "cell_type": "code",
   "execution_count": 5,
   "id": "86bb764d",
   "metadata": {},
   "outputs": [
    {
     "data": {
      "text/plain": [
       "True"
      ]
     },
     "execution_count": 5,
     "metadata": {},
     "output_type": "execute_result"
    }
   ],
   "source": [
    "x != y #esit dgl mi? - evt, esit dgl."
   ]
  },
  {
   "cell_type": "code",
   "execution_count": 6,
   "id": "feebdd0e",
   "metadata": {},
   "outputs": [
    {
     "data": {
      "text/plain": [
       "True"
      ]
     },
     "execution_count": 6,
     "metadata": {},
     "output_type": "execute_result"
    }
   ],
   "source": [
    "3 > 1 and 3 > 2 #and"
   ]
  },
  {
   "cell_type": "code",
   "execution_count": 7,
   "id": "eceaab9d",
   "metadata": {},
   "outputs": [
    {
     "data": {
      "text/plain": [
       "False"
      ]
     },
     "execution_count": 7,
     "metadata": {},
     "output_type": "execute_result"
    }
   ],
   "source": [
    "1 > 3 and 3 > 2"
   ]
  },
  {
   "cell_type": "code",
   "execution_count": 8,
   "id": "9b6f0ef6",
   "metadata": {},
   "outputs": [
    {
     "data": {
      "text/plain": [
       "True"
      ]
     },
     "execution_count": 8,
     "metadata": {},
     "output_type": "execute_result"
    }
   ],
   "source": [
    "1 > 3 or 3 > 2 #or"
   ]
  },
  {
   "cell_type": "code",
   "execution_count": 9,
   "id": "83a12efa",
   "metadata": {},
   "outputs": [
    {
     "data": {
      "text/plain": [
       "True"
      ]
     },
     "execution_count": 9,
     "metadata": {},
     "output_type": "execute_result"
    }
   ],
   "source": [
    "5 == 5 #esit mi? - evt, esit."
   ]
  },
  {
   "cell_type": "code",
   "execution_count": 13,
   "id": "54d909be",
   "metadata": {},
   "outputs": [
    {
     "data": {
      "text/plain": [
       "False"
      ]
     },
     "execution_count": 13,
     "metadata": {},
     "output_type": "execute_result"
    }
   ],
   "source": [
    "not 5 == 5 #ters anlam katar.true ise false, false ise true.\n",
    "#not true"
   ]
  },
  {
   "cell_type": "code",
   "execution_count": 14,
   "id": "54acd486",
   "metadata": {},
   "outputs": [
    {
     "data": {
      "text/plain": [
       "True"
      ]
     },
     "execution_count": 14,
     "metadata": {},
     "output_type": "execute_result"
    }
   ],
   "source": [
    "not 5 == 4\n",
    "#not false"
   ]
  },
  {
   "cell_type": "markdown",
   "id": "16aeea37",
   "metadata": {},
   "source": [
    "# Eger Kontrolleri (if-elif-else statements)"
   ]
  },
  {
   "cell_type": "code",
   "execution_count": 19,
   "id": "5af934fb",
   "metadata": {},
   "outputs": [
    {
     "name": "stdout",
     "output_type": "stream",
     "text": [
      "kosulun disina ciktik\n"
     ]
    }
   ],
   "source": [
    "if 3 > 4 : #python'da bosluklar onemli.\n",
    "    print(\"atil\")\n",
    "    print(\"kosul saglandi\")\n",
    "    \n",
    "print(\"kosulun disina ciktik\")"
   ]
  },
  {
   "cell_type": "code",
   "execution_count": 20,
   "id": "b7ff63dc",
   "metadata": {},
   "outputs": [
    {
     "name": "stdout",
     "output_type": "stream",
     "text": [
      "x, y den buyuk...\n"
     ]
    }
   ],
   "source": [
    "x = 5\n",
    "y = 4\n",
    "\n",
    "if x > y :\n",
    "    print(\"x, y den buyuk...\")\n",
    "elif y > x :\n",
    "    print(\"y, x den buyuk...\")\n",
    "else:\n",
    "    print(\"x ve y esit...\")"
   ]
  },
  {
   "cell_type": "code",
   "execution_count": 21,
   "id": "45dbdce9",
   "metadata": {},
   "outputs": [
    {
     "name": "stdout",
     "output_type": "stream",
     "text": [
      "Super kahraman sec...batman\n"
     ]
    }
   ],
   "source": [
    "benimKahramanim = input(\"Super kahraman sec...\")"
   ]
  },
  {
   "cell_type": "code",
   "execution_count": 22,
   "id": "eceaae08",
   "metadata": {},
   "outputs": [
    {
     "name": "stdout",
     "output_type": "stream",
     "text": [
      "batman sectin...\n"
     ]
    }
   ],
   "source": [
    "if benimKahramanim == \"batman\" :\n",
    "    print(\"batman sectin...\")\n",
    "elif benimKahramanim == \"superman\" :\n",
    "    print(\"keske batman secseydin...\")\n",
    "else :\n",
    "    print(\"tanimiyorum...\")"
   ]
  },
  {
   "cell_type": "code",
   "execution_count": 31,
   "id": "c44a8de2",
   "metadata": {},
   "outputs": [],
   "source": [
    "karakterCanli = True"
   ]
  },
  {
   "cell_type": "code",
   "execution_count": 32,
   "id": "26d845a1",
   "metadata": {},
   "outputs": [
    {
     "name": "stdout",
     "output_type": "stream",
     "text": [
      "karakter yasiyor...\n"
     ]
    }
   ],
   "source": [
    "if karakterCanli : # Sadece bool için: \"if karakterCanli == true ise sunu yap\" ile ayni anlama gelir.\n",
    "    print(\"karakter yasiyor...\")\n",
    "else :\n",
    "    print(\"karakter yasamiyor...\")"
   ]
  },
  {
   "cell_type": "code",
   "execution_count": 33,
   "id": "0d9e1bd9",
   "metadata": {},
   "outputs": [
    {
     "name": "stdout",
     "output_type": "stream",
     "text": [
      "karakter yasiyor...\n"
     ]
    }
   ],
   "source": [
    "if not karakterCanli : # Sadece bool için: \"if karakterCanli == true ise sunu yap\" ile ayni anlama gelir.\n",
    "    print(\"karakter yasamiyor...\")\n",
    "else :\n",
    "    print(\"karakter yasiyor...\")"
   ]
  },
  {
   "cell_type": "code",
   "execution_count": 1,
   "id": "123f8696",
   "metadata": {},
   "outputs": [],
   "source": [
    "#str ifadelerde buyuk/kucuk harf onemli.\n",
    "benimString = \"atil samancioglu\""
   ]
  },
  {
   "cell_type": "code",
   "execution_count": 2,
   "id": "18ffa3a0",
   "metadata": {},
   "outputs": [
    {
     "name": "stdout",
     "output_type": "stream",
     "text": [
      "varmiş...\n"
     ]
    }
   ],
   "source": [
    "if \"samancioglu\" in benimString :\n",
    "    print(\"varmiş...\")\n",
    "else :\n",
    "    print(\"yokmus...\")"
   ]
  },
  {
   "cell_type": "code",
   "execution_count": 3,
   "id": "b19e96d4",
   "metadata": {},
   "outputs": [
    {
     "name": "stdout",
     "output_type": "stream",
     "text": [
      "yokmus...\n"
     ]
    }
   ],
   "source": [
    "if \"Atil\" in benimString :\n",
    "    print(\"varmiş...\")\n",
    "else :\n",
    "    print(\"yokmus...\")"
   ]
  },
  {
   "cell_type": "code",
   "execution_count": 4,
   "id": "09706f0f",
   "metadata": {},
   "outputs": [
    {
     "name": "stdout",
     "output_type": "stream",
     "text": [
      "varmiş...\n"
     ]
    }
   ],
   "source": [
    "if \"cioglu\" in benimString :\n",
    "    print(\"varmiş...\")\n",
    "else :\n",
    "    print(\"yokmus...\")"
   ]
  },
  {
   "cell_type": "code",
   "execution_count": 20,
   "id": "019038dc",
   "metadata": {},
   "outputs": [],
   "source": [
    "benimListem = [10,20,30,40,\"a\"]"
   ]
  },
  {
   "cell_type": "code",
   "execution_count": 21,
   "id": "fb82c059",
   "metadata": {},
   "outputs": [
    {
     "name": "stdout",
     "output_type": "stream",
     "text": [
      "evt var...\n"
     ]
    }
   ],
   "source": [
    "if 10 in benimListem :\n",
    "    print(\"evt var...\")"
   ]
  },
  {
   "cell_type": "code",
   "execution_count": 23,
   "id": "8ca479e2",
   "metadata": {},
   "outputs": [
    {
     "name": "stdout",
     "output_type": "stream",
     "text": [
      "evt var...\n"
     ]
    }
   ],
   "source": [
    "if \"a\" in benimListem :\n",
    "    print(\"evt var...\")"
   ]
  },
  {
   "cell_type": "code",
   "execution_count": 25,
   "id": "59e3fe1e",
   "metadata": {},
   "outputs": [
    {
     "name": "stdout",
     "output_type": "stream",
     "text": [
      "hyr yok...\n"
     ]
    }
   ],
   "source": [
    "if \"A\" in benimListem :\n",
    "    print(\"evt var...\")\n",
    "else :\n",
    "    print(\"hyr yok...\")"
   ]
  },
  {
   "cell_type": "code",
   "execution_count": 26,
   "id": "4cf81deb",
   "metadata": {},
   "outputs": [],
   "source": [
    "benimSozluk = {\"muz\": 100, \"elma\": 200}"
   ]
  },
  {
   "cell_type": "code",
   "execution_count": 29,
   "id": "2ba6679d",
   "metadata": {},
   "outputs": [
    {
     "name": "stdout",
     "output_type": "stream",
     "text": [
      "varmis...\n"
     ]
    }
   ],
   "source": [
    "if \"muz\" in benimSozluk.keys() :\n",
    "    print(\"varmis...\")"
   ]
  },
  {
   "cell_type": "code",
   "execution_count": 30,
   "id": "1b173540",
   "metadata": {},
   "outputs": [],
   "source": [
    "if \"Muz\" in benimSozluk.keys() :\n",
    "    print(\"varmis...\")"
   ]
  },
  {
   "cell_type": "code",
   "execution_count": 31,
   "id": "d7713782",
   "metadata": {},
   "outputs": [],
   "source": [
    "if 250 in benimSozluk.values() :\n",
    "    print(\"varmis...\")"
   ]
  },
  {
   "cell_type": "markdown",
   "id": "35c316b9",
   "metadata": {},
   "source": [
    "# For Dongusu:"
   ]
  },
  {
   "cell_type": "code",
   "execution_count": 37,
   "id": "7fac70ae",
   "metadata": {},
   "outputs": [],
   "source": [
    "benimListem = [10,20,30,40,50]"
   ]
  },
  {
   "cell_type": "code",
   "execution_count": 38,
   "id": "c7007568",
   "metadata": {},
   "outputs": [
    {
     "data": {
      "text/plain": [
       "16.666666666666668"
      ]
     },
     "execution_count": 38,
     "metadata": {},
     "output_type": "execute_result"
    }
   ],
   "source": [
    "benimListem[0] * 5/3"
   ]
  },
  {
   "cell_type": "code",
   "execution_count": 39,
   "id": "fe0fd26f",
   "metadata": {},
   "outputs": [
    {
     "name": "stdout",
     "output_type": "stream",
     "text": [
      "10\n",
      "20\n",
      "30\n",
      "40\n",
      "50\n"
     ]
    }
   ],
   "source": [
    "for numara in benimListem :\n",
    "    print(numara)"
   ]
  },
  {
   "cell_type": "code",
   "execution_count": 41,
   "id": "1c0205d6",
   "metadata": {},
   "outputs": [
    {
     "name": "stdout",
     "output_type": "stream",
     "text": [
      "dongu basladi\n",
      "10\n",
      "20\n",
      "30\n",
      "40\n",
      "50\n",
      "dongu bitti\n"
     ]
    }
   ],
   "source": [
    "print(\"dongu basladi\")\n",
    "for numara in benimListem :\n",
    "    print(numara)\n",
    "print(\"dongu bitti\")"
   ]
  },
  {
   "cell_type": "code",
   "execution_count": 42,
   "id": "315b7d9e",
   "metadata": {},
   "outputs": [],
   "source": [
    "# orn: cift sayilari yazdir:\n",
    "yeniListe = [1,2,3,4,5,6]"
   ]
  },
  {
   "cell_type": "code",
   "execution_count": 43,
   "id": "f9ae8091",
   "metadata": {},
   "outputs": [
    {
     "name": "stdout",
     "output_type": "stream",
     "text": [
      "2\n",
      "4\n",
      "6\n"
     ]
    }
   ],
   "source": [
    "for rakam in yeniListe :\n",
    "    if rakam % 2 == 0:\n",
    "        print(rakam)"
   ]
  },
  {
   "cell_type": "code",
   "execution_count": 44,
   "id": "9bee88ba",
   "metadata": {},
   "outputs": [],
   "source": [
    "# orn: kelimenin harflerini yazdir:\n",
    "yeniString = \"atil\""
   ]
  },
  {
   "cell_type": "code",
   "execution_count": 45,
   "id": "5f54ad71",
   "metadata": {},
   "outputs": [
    {
     "name": "stdout",
     "output_type": "stream",
     "text": [
      "a\n",
      "t\n",
      "i\n",
      "l\n"
     ]
    }
   ],
   "source": [
    "for harf in yeniString :\n",
    "    print(harf)"
   ]
  },
  {
   "cell_type": "code",
   "execution_count": 54,
   "id": "e7184237",
   "metadata": {},
   "outputs": [],
   "source": [
    "# orn: tuple'da for kullanimi:\n",
    "benimTuple = (1,2,3,4,5)"
   ]
  },
  {
   "cell_type": "code",
   "execution_count": 55,
   "id": "a62dde3a",
   "metadata": {},
   "outputs": [
    {
     "name": "stdout",
     "output_type": "stream",
     "text": [
      "1\n",
      "2\n",
      "3\n",
      "4\n",
      "5\n"
     ]
    }
   ],
   "source": [
    "for eleman in benimTuple :\n",
    "    print(eleman)"
   ]
  },
  {
   "cell_type": "code",
   "execution_count": 56,
   "id": "8282b958",
   "metadata": {},
   "outputs": [
    {
     "name": "stdout",
     "output_type": "stream",
     "text": [
      "-9\n",
      "-8\n",
      "-7\n",
      "-6\n",
      "-5\n"
     ]
    }
   ],
   "source": [
    "for eleman in benimTuple :\n",
    "    print(eleman-10)"
   ]
  },
  {
   "cell_type": "code",
   "execution_count": 57,
   "id": "028dab43",
   "metadata": {},
   "outputs": [],
   "source": [
    "# orn: liste icinde tuple varsa for kullanimi:\n",
    "koordinatListesi = [(10.2, 15.2), (32.4, 16.2), (40.2, 20.2)]"
   ]
  },
  {
   "cell_type": "code",
   "execution_count": 60,
   "id": "adc680f9",
   "metadata": {},
   "outputs": [
    {
     "name": "stdout",
     "output_type": "stream",
     "text": [
      "(10.2, 15.2)\n",
      "(32.4, 16.2)\n",
      "(40.2, 20.2)\n"
     ]
    }
   ],
   "source": [
    "for eleman in koordinatListesi : #eleman dediklerimizin her biri aslinda bir liste.\n",
    "    print(eleman)"
   ]
  },
  {
   "cell_type": "code",
   "execution_count": 62,
   "id": "7168b2da",
   "metadata": {},
   "outputs": [
    {
     "name": "stdout",
     "output_type": "stream",
     "text": [
      "10.2\n",
      "32.4\n",
      "40.2\n"
     ]
    }
   ],
   "source": [
    "for eleman in koordinatListesi : #orn1:listeleri, degisken kullanarak cagirma:\n",
    "    print(eleman[0])"
   ]
  },
  {
   "cell_type": "code",
   "execution_count": 63,
   "id": "2110e54a",
   "metadata": {},
   "outputs": [
    {
     "name": "stdout",
     "output_type": "stream",
     "text": [
      "10.2\n",
      "32.4\n",
      "40.2\n"
     ]
    }
   ],
   "source": [
    "for (x, y) in koordinatListesi : #orn2:listeleri, tuple kullanarak cagirma:\n",
    "    print(x)"
   ]
  },
  {
   "cell_type": "code",
   "execution_count": 64,
   "id": "0ac28cca",
   "metadata": {},
   "outputs": [
    {
     "name": "stdout",
     "output_type": "stream",
     "text": [
      "15.2\n",
      "16.2\n",
      "20.2\n"
     ]
    }
   ],
   "source": [
    "for (x, y) in koordinatListesi : \n",
    "    print(y)"
   ]
  },
  {
   "cell_type": "code",
   "execution_count": 68,
   "id": "26c8f9fb",
   "metadata": {},
   "outputs": [],
   "source": [
    "# orn: sozluklerde, elemanlari tuple kullanarak cagirma:\n",
    "benimSozluk = {\"muz\": 150, \"portakal\": 250, \"elma\": 400}"
   ]
  },
  {
   "cell_type": "code",
   "execution_count": 69,
   "id": "c8064502",
   "metadata": {},
   "outputs": [
    {
     "name": "stdout",
     "output_type": "stream",
     "text": [
      "muz\n",
      "portakal\n",
      "elma\n"
     ]
    }
   ],
   "source": [
    "for (anahtar, deger) in benimSozluk.items():\n",
    "    print(anahtar)"
   ]
  },
  {
   "cell_type": "code",
   "execution_count": 70,
   "id": "3c529c03",
   "metadata": {},
   "outputs": [
    {
     "name": "stdout",
     "output_type": "stream",
     "text": [
      "150\n",
      "250\n",
      "400\n"
     ]
    }
   ],
   "source": [
    "for (anahtar, deger) in benimSozluk.items():\n",
    "    print(deger)"
   ]
  },
  {
   "cell_type": "markdown",
   "id": "2d096335",
   "metadata": {},
   "source": [
    "# Continue-Break-Pass:"
   ]
  },
  {
   "cell_type": "markdown",
   "id": "c9c583c8",
   "metadata": {},
   "source": [
    "Continue:Dongunun basina don ve devam et.- \n",
    "Break: Dur ve donguden cik.- \n",
    "Pass: Gormezden gel, dikkate alma, gec."
   ]
  },
  {
   "cell_type": "code",
   "execution_count": 80,
   "id": "859e48ef",
   "metadata": {},
   "outputs": [],
   "source": [
    "benimListem = [5, 10, 15, 20, 25, 30]"
   ]
  },
  {
   "cell_type": "code",
   "execution_count": 81,
   "id": "31cba8b5",
   "metadata": {},
   "outputs": [
    {
     "name": "stdout",
     "output_type": "stream",
     "text": [
      "5\n",
      "10\n"
     ]
    }
   ],
   "source": [
    "for numara in benimListem :\n",
    "    if numara == 15 :\n",
    "        break #numara 15 ise donguden cik.\n",
    "    print(numara)"
   ]
  },
  {
   "cell_type": "code",
   "execution_count": 82,
   "id": "ae39a770",
   "metadata": {},
   "outputs": [
    {
     "name": "stdout",
     "output_type": "stream",
     "text": [
      "5\n",
      "10\n",
      "20\n",
      "25\n",
      "30\n"
     ]
    }
   ],
   "source": [
    "for numara in benimListem :\n",
    "    if numara == 15 :\n",
    "        continue #numara 15 ise, dongunun basina don ve dvm et.\n",
    "    print(numara)"
   ]
  },
  {
   "cell_type": "code",
   "execution_count": 83,
   "id": "cc8c92fe",
   "metadata": {},
   "outputs": [
    {
     "ename": "IndentationError",
     "evalue": "expected an indented block (Temp/ipykernel_628/433545866.py, line 1)",
     "output_type": "error",
     "traceback": [
      "\u001b[1;36m  File \u001b[1;32m\"C:\\Users\\irema\\AppData\\Local\\Temp/ipykernel_628/433545866.py\"\u001b[1;36m, line \u001b[1;32m1\u001b[0m\n\u001b[1;33m    for numara in benimListem :\u001b[0m\n\u001b[1;37m                               ^\u001b[0m\n\u001b[1;31mIndentationError\u001b[0m\u001b[1;31m:\u001b[0m expected an indented block\n"
     ]
    }
   ],
   "source": [
    "for numara in benimListem :"
   ]
  },
  {
   "cell_type": "code",
   "execution_count": 84,
   "id": "fe6b34d7",
   "metadata": {},
   "outputs": [],
   "source": [
    "for numara in benimListem :\n",
    "    pass #gec, gormezden gel, dikkate alma. hatayi gormezden geldi."
   ]
  },
  {
   "cell_type": "markdown",
   "id": "e168246f",
   "metadata": {},
   "source": [
    "# While Dongusu:"
   ]
  },
  {
   "cell_type": "markdown",
   "id": "87687661",
   "metadata": {},
   "source": [
    "Kosul tuttugu surece dvm eder."
   ]
  },
  {
   "cell_type": "code",
   "execution_count": 85,
   "id": "eb98516d",
   "metadata": {},
   "outputs": [
    {
     "name": "stdout",
     "output_type": "stream",
     "text": [
      "0\n",
      "1\n",
      "2\n",
      "3\n",
      "4\n"
     ]
    }
   ],
   "source": [
    "x = 0\n",
    "while x<5 :\n",
    "    print(x)\n",
    "    x = x + 1"
   ]
  },
  {
   "cell_type": "code",
   "execution_count": 89,
   "id": "b8dbd8a1",
   "metadata": {},
   "outputs": [],
   "source": [
    "benimListem = [1,2,3,4,5]"
   ]
  },
  {
   "cell_type": "code",
   "execution_count": 90,
   "id": "a24bde4d",
   "metadata": {},
   "outputs": [
    {
     "name": "stdout",
     "output_type": "stream",
     "text": [
      "3 hala var\n",
      "3 hala var\n",
      "3 hala var\n"
     ]
    }
   ],
   "source": [
    "while 3 in benimListem :\n",
    "    print(\"3 hala var\")\n",
    "    benimListem.pop() #5 i atti, 4 u atti, 3 u atti, 3 artik yok dongu bitti."
   ]
  },
  {
   "cell_type": "code",
   "execution_count": 97,
   "id": "87b347e7",
   "metadata": {},
   "outputs": [
    {
     "name": "stdout",
     "output_type": "stream",
     "text": [
      "0\n",
      "1\n",
      "2\n",
      "3\n"
     ]
    }
   ],
   "source": [
    "numara = 0\n",
    "\n",
    "while numara < 5 :\n",
    "    if numara == 4 :\n",
    "        break #numara 4 old.da donguden cik.\n",
    "    print(numara)\n",
    "    numara = numara + 1"
   ]
  },
  {
   "cell_type": "code",
   "execution_count": 98,
   "id": "a6aec95a",
   "metadata": {},
   "outputs": [
    {
     "ename": "TypeError",
     "evalue": "can only concatenate str (not \"int\") to str",
     "output_type": "error",
     "traceback": [
      "\u001b[1;31m---------------------------------------------------------------------------\u001b[0m",
      "\u001b[1;31mTypeError\u001b[0m                                 Traceback (most recent call last)",
      "\u001b[1;32m~\\AppData\\Local\\Temp/ipykernel_628/617040798.py\u001b[0m in \u001b[0;36m<module>\u001b[1;34m\u001b[0m\n\u001b[0;32m      2\u001b[0m \u001b[1;33m\u001b[0m\u001b[0m\n\u001b[0;32m      3\u001b[0m \u001b[1;32mwhile\u001b[0m \u001b[0myeniDegisken\u001b[0m \u001b[1;33m<\u001b[0m \u001b[1;36m15\u001b[0m \u001b[1;33m:\u001b[0m\u001b[1;33m\u001b[0m\u001b[1;33m\u001b[0m\u001b[0m\n\u001b[1;32m----> 4\u001b[1;33m     \u001b[0mprint\u001b[0m\u001b[1;33m(\u001b[0m\u001b[1;34m\"guncel deger: \"\u001b[0m \u001b[1;33m+\u001b[0m \u001b[0myeniDegisken\u001b[0m\u001b[1;33m)\u001b[0m\u001b[1;33m\u001b[0m\u001b[1;33m\u001b[0m\u001b[0m\n\u001b[0m\u001b[0;32m      5\u001b[0m     \u001b[0myeniDegisken\u001b[0m \u001b[1;33m=\u001b[0m \u001b[0myeniDegisken\u001b[0m \u001b[1;33m+\u001b[0m \u001b[1;36m1\u001b[0m\u001b[1;33m\u001b[0m\u001b[1;33m\u001b[0m\u001b[0m\n",
      "\u001b[1;31mTypeError\u001b[0m: can only concatenate str (not \"int\") to str"
     ]
    }
   ],
   "source": [
    "yeniDegisken = 0\n",
    "\n",
    "while yeniDegisken < 15 :\n",
    "    print(\"guncel deger: \" + yeniDegisken) #not: str+str birlesir, ama str+int birlestiremez.\n",
    "    yeniDegisken = yeniDegisken + 1"
   ]
  },
  {
   "cell_type": "code",
   "execution_count": 100,
   "id": "be90e8ed",
   "metadata": {},
   "outputs": [
    {
     "name": "stdout",
     "output_type": "stream",
     "text": [
      "guncel deger: 0\n",
      "guncel deger: 1\n",
      "guncel deger: 2\n",
      "guncel deger: 3\n",
      "guncel deger: 4\n",
      "guncel deger: 5\n",
      "guncel deger: 6\n",
      "guncel deger: 7\n",
      "guncel deger: 8\n",
      "guncel deger: 9\n"
     ]
    }
   ],
   "source": [
    "yeniDegisken = 0\n",
    "\n",
    "while yeniDegisken < 10 :\n",
    "    print(\"guncel deger: \" + str(yeniDegisken)) #yontem1: degiskeni str e cevirme:\n",
    "    yeniDegisken = yeniDegisken + 1"
   ]
  },
  {
   "cell_type": "code",
   "execution_count": 104,
   "id": "92ed2326",
   "metadata": {},
   "outputs": [
    {
     "name": "stdout",
     "output_type": "stream",
     "text": [
      "guncel deger: 0\n",
      "guncel deger: 1\n",
      "guncel deger: 2\n",
      "guncel deger: 3\n",
      "guncel deger: 4\n",
      "guncel deger: 5\n",
      "guncel deger: 6\n",
      "guncel deger: 7\n",
      "guncel deger: 8\n",
      "guncel deger: 9\n"
     ]
    }
   ],
   "source": [
    "yeniDegisken = 0\n",
    "\n",
    "while yeniDegisken < 10 :\n",
    "    print(f\"guncel deger: {yeniDegisken}\") #yontem2: degiskeni format kullanarak cevirme. {} icini kod olarak anla demek:\n",
    "    yeniDegisken = yeniDegisken + 1"
   ]
  },
  {
   "cell_type": "code",
   "execution_count": null,
   "id": "7f5105bb",
   "metadata": {},
   "outputs": [],
   "source": []
  }
 ],
 "metadata": {
  "kernelspec": {
   "display_name": "Python 3 (ipykernel)",
   "language": "python",
   "name": "python3"
  },
  "language_info": {
   "codemirror_mode": {
    "name": "ipython",
    "version": 3
   },
   "file_extension": ".py",
   "mimetype": "text/x-python",
   "name": "python",
   "nbconvert_exporter": "python",
   "pygments_lexer": "ipython3",
   "version": "3.9.7"
  }
 },
 "nbformat": 4,
 "nbformat_minor": 5
}
