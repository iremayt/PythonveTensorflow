{
 "cells": [
  {
   "cell_type": "markdown",
   "id": "5bd7380f",
   "metadata": {},
   "source": [
    "# Fonksiyonlar:"
   ]
  },
  {
   "cell_type": "markdown",
   "id": "1d9f3d1c",
   "metadata": {},
   "source": [
    "Fonk. olust. icin def (define) kullanilir.\n",
    "Fonk.lar yalnizca cagirildiklarinda calisirlar. Fonklar; 1-kodlari duzenli tutar, 2-istenilen zmn cagirilabilir, 3-girdi/cikti vardir."
   ]
  },
  {
   "cell_type": "code",
   "execution_count": 6,
   "id": "6a7f9c20",
   "metadata": {},
   "outputs": [],
   "source": [
    "#fonk tanimlama:\n",
    "\n",
    "def fonksiyon1() :\n",
    "    print(\"ilk fonksiyon\")"
   ]
  },
  {
   "cell_type": "code",
   "execution_count": 7,
   "id": "498302c2",
   "metadata": {},
   "outputs": [
    {
     "name": "stdout",
     "output_type": "stream",
     "text": [
      "ilk fonksiyon\n"
     ]
    }
   ],
   "source": [
    "#fonk. cagirma:\n",
    "\n",
    "fonksiyon1()"
   ]
  },
  {
   "cell_type": "markdown",
   "id": "5a0a19f5",
   "metadata": {},
   "source": [
    "## Fonksiyonlarda girdi(input)-cikti(return):"
   ]
  },
  {
   "cell_type": "code",
   "execution_count": 1,
   "id": "1908ed2b",
   "metadata": {},
   "outputs": [],
   "source": [
    "def merhabaFonksiyonu(isim) : #bir parametre istedik.\n",
    "    print(\"merhaba\")\n",
    "    print(isim)"
   ]
  },
  {
   "cell_type": "code",
   "execution_count": 6,
   "id": "facb2ebf",
   "metadata": {},
   "outputs": [
    {
     "ename": "TypeError",
     "evalue": "merhabaFonksiyonu() missing 1 required positional argument: 'isim'",
     "output_type": "error",
     "traceback": [
      "\u001b[1;31m---------------------------------------------------------------------------\u001b[0m",
      "\u001b[1;31mTypeError\u001b[0m                                 Traceback (most recent call last)",
      "\u001b[1;32m~\\AppData\\Local\\Temp/ipykernel_6168/2987392954.py\u001b[0m in \u001b[0;36m<module>\u001b[1;34m\u001b[0m\n\u001b[0;32m      1\u001b[0m \u001b[1;31m#parametre isteyip, yazmaz isek:\u001b[0m\u001b[1;33m\u001b[0m\u001b[1;33m\u001b[0m\u001b[0m\n\u001b[0;32m      2\u001b[0m \u001b[1;33m\u001b[0m\u001b[0m\n\u001b[1;32m----> 3\u001b[1;33m \u001b[0mmerhabaFonksiyonu\u001b[0m\u001b[1;33m(\u001b[0m\u001b[1;33m)\u001b[0m\u001b[1;33m\u001b[0m\u001b[1;33m\u001b[0m\u001b[0m\n\u001b[0m\u001b[0;32m      4\u001b[0m \u001b[1;31m#fonksiyonda parametre tanimladigimiz icin, cagirirken de parametre girmemiz lazim.\u001b[0m\u001b[1;33m\u001b[0m\u001b[1;33m\u001b[0m\u001b[0m\n\u001b[0;32m      5\u001b[0m \u001b[1;31m#hata vermesini istemiyorsak, herhangi bir parametre verilmediginde kullanilmasi icin default bir deger tanimlayabiliriz.\u001b[0m\u001b[1;33m\u001b[0m\u001b[1;33m\u001b[0m\u001b[0m\n",
      "\u001b[1;31mTypeError\u001b[0m: merhabaFonksiyonu() missing 1 required positional argument: 'isim'"
     ]
    }
   ],
   "source": [
    "#parametre isteyip, yazmaz isek:\n",
    "\n",
    "merhabaFonksiyonu()\n",
    "#fonksiyonda parametre tanimladigimiz icin, cagirirken de parametre girmemiz lazim.\n",
    "#hata vermesini istemiyorsak, herhangi bir parametre verilmediginde kullanilmasi icin default bir deger tanimlayabiliriz."
   ]
  },
  {
   "cell_type": "code",
   "execution_count": 5,
   "id": "be72bea9",
   "metadata": {},
   "outputs": [
    {
     "name": "stdout",
     "output_type": "stream",
     "text": [
      "merhaba\n",
      "elif\n"
     ]
    }
   ],
   "source": [
    "#parametre girer isek:\n",
    "\n",
    "merhabaFonksiyonu(\"elif\")"
   ]
  },
  {
   "cell_type": "code",
   "execution_count": 7,
   "id": "24c1a11d",
   "metadata": {},
   "outputs": [],
   "source": [
    "#default deger ile fonksiyon tanimlama:\n",
    "\n",
    "def merhaba1(isim1 = \"elif\") :\n",
    "    print(\"merhaba\")\n",
    "    print(isim1)"
   ]
  },
  {
   "cell_type": "code",
   "execution_count": 8,
   "id": "3e82f580",
   "metadata": {},
   "outputs": [
    {
     "name": "stdout",
     "output_type": "stream",
     "text": [
      "merhaba\n",
      "elif\n"
     ]
    }
   ],
   "source": [
    "merhaba1() #default degeri cagirir"
   ]
  },
  {
   "cell_type": "code",
   "execution_count": 10,
   "id": "abff0742",
   "metadata": {},
   "outputs": [
    {
     "name": "stdout",
     "output_type": "stream",
     "text": [
      "merhaba\n",
      "kerem\n"
     ]
    }
   ],
   "source": [
    "merhaba1(\"kerem\") #verilen parametreyi kullanir"
   ]
  },
  {
   "cell_type": "code",
   "execution_count": 11,
   "id": "5663db91",
   "metadata": {},
   "outputs": [],
   "source": [
    "def toplama(num1, num2) :\n",
    "    sonuc = num1 + num2\n",
    "    print(sonuc)"
   ]
  },
  {
   "cell_type": "code",
   "execution_count": 12,
   "id": "bceb2509",
   "metadata": {},
   "outputs": [
    {
     "name": "stdout",
     "output_type": "stream",
     "text": [
      "30\n"
     ]
    }
   ],
   "source": [
    "toplama(10, 20)"
   ]
  },
  {
   "cell_type": "markdown",
   "id": "b31d3317",
   "metadata": {},
   "source": [
    "### return:"
   ]
  },
  {
   "cell_type": "code",
   "execution_count": 13,
   "id": "a5e97529",
   "metadata": {},
   "outputs": [
    {
     "name": "stdout",
     "output_type": "stream",
     "text": [
      "30\n"
     ]
    }
   ],
   "source": [
    "yeniDegisken = toplama(10, 20) #yukarida tanimlanan toplama fonk.unu degiskene atadik."
   ]
  },
  {
   "cell_type": "code",
   "execution_count": 15,
   "id": "425d7894",
   "metadata": {},
   "outputs": [],
   "source": [
    "yeniDegisken\n",
    "#herhangi bir sonuc gorulmez,\n",
    "#cunku yazdigimiz toplama fonk.nu herhangi bir deger dondurmuyor.\n",
    "#None donduruyor."
   ]
  },
  {
   "cell_type": "code",
   "execution_count": 16,
   "id": "583c2390",
   "metadata": {},
   "outputs": [],
   "source": [
    "def dondurmeliToplama(num1, num2) :\n",
    "    return num1 + num2"
   ]
  },
  {
   "cell_type": "code",
   "execution_count": 17,
   "id": "968196dd",
   "metadata": {},
   "outputs": [
    {
     "data": {
      "text/plain": [
       "30"
      ]
     },
     "execution_count": 17,
     "metadata": {},
     "output_type": "execute_result"
    }
   ],
   "source": [
    "dondurmeliToplama(10, 20)"
   ]
  },
  {
   "cell_type": "code",
   "execution_count": 19,
   "id": "fc0ea9ac",
   "metadata": {},
   "outputs": [
    {
     "data": {
      "text/plain": [
       "30"
      ]
     },
     "execution_count": 19,
     "metadata": {},
     "output_type": "execute_result"
    }
   ],
   "source": [
    "yeniSonuc = dondurmeliToplama(10, 20)\n",
    "yeniSonuc\n",
    "#artik sonuc gorulur,\n",
    "#cunku yazdigimiz toplama fonk.nu bir deger donduruyor."
   ]
  },
  {
   "cell_type": "code",
   "execution_count": null,
   "id": "098eab1a",
   "metadata": {},
   "outputs": [],
   "source": []
  }
 ],
 "metadata": {
  "kernelspec": {
   "display_name": "Python 3 (ipykernel)",
   "language": "python",
   "name": "python3"
  },
  "language_info": {
   "codemirror_mode": {
    "name": "ipython",
    "version": 3
   },
   "file_extension": ".py",
   "mimetype": "text/x-python",
   "name": "python",
   "nbconvert_exporter": "python",
   "pygments_lexer": "ipython3",
   "version": "3.9.7"
  }
 },
 "nbformat": 4,
 "nbformat_minor": 5
}
