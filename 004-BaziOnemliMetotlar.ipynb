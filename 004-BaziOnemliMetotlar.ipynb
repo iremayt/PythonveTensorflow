{
 "cells": [
  {
   "cell_type": "markdown",
   "id": "e99c62a6",
   "metadata": {},
   "source": [
    "# Veri Bilimi Onemli Metotlar"
   ]
  },
  {
   "cell_type": "markdown",
   "id": "983aeff6",
   "metadata": {},
   "source": [
    "## range:"
   ]
  },
  {
   "cell_type": "code",
   "execution_count": 9,
   "id": "a8f543e7",
   "metadata": {},
   "outputs": [
    {
     "data": {
      "text/plain": [
       "range(0, 15)"
      ]
     },
     "execution_count": 9,
     "metadata": {},
     "output_type": "execute_result"
    }
   ],
   "source": [
    "range(15) #0 dan 15 e kdr aralik olustur, 15 dahil dgl"
   ]
  },
  {
   "cell_type": "code",
   "execution_count": 10,
   "id": "bde40af9",
   "metadata": {},
   "outputs": [
    {
     "data": {
      "text/plain": [
       "[0, 1, 2, 3, 4]"
      ]
     },
     "execution_count": 10,
     "metadata": {},
     "output_type": "execute_result"
    }
   ],
   "source": [
    "list(range(5)) #olusan range i liste olarak tut."
   ]
  },
  {
   "cell_type": "code",
   "execution_count": 12,
   "id": "2aae0ca9",
   "metadata": {},
   "outputs": [
    {
     "data": {
      "text/plain": [
       "[5, 9, 13, 17]"
      ]
     },
     "execution_count": 12,
     "metadata": {},
     "output_type": "execute_result"
    }
   ],
   "source": [
    "list(range(5, 21, 4)) #5 ile basla, 21 e kdr, 4 er atla:"
   ]
  },
  {
   "cell_type": "code",
   "execution_count": 13,
   "id": "4e1d2da6",
   "metadata": {},
   "outputs": [
    {
     "name": "stdout",
     "output_type": "stream",
     "text": [
      "0\n",
      "5\n",
      "10\n",
      "15\n",
      "20\n"
     ]
    }
   ],
   "source": [
    "for numara in list(range(5)) :\n",
    "    print(numara * 5)"
   ]
  },
  {
   "cell_type": "markdown",
   "id": "350582ef",
   "metadata": {},
   "source": [
    "## enumerate:"
   ]
  },
  {
   "cell_type": "markdown",
   "id": "e7f7f46d",
   "metadata": {},
   "source": [
    "Liste icindeki indexlere ve elemanlara ayri ayri ulasmayi saglar."
   ]
  },
  {
   "cell_type": "code",
   "execution_count": 16,
   "id": "334a6614",
   "metadata": {},
   "outputs": [
    {
     "name": "stdout",
     "output_type": "stream",
     "text": [
      "guncel numara: 5 - guncel index: 0\n",
      "guncel numara: 6 - guncel index: 1\n",
      "guncel numara: 7 - guncel index: 2\n",
      "guncel numara: 8 - guncel index: 3\n",
      "guncel numara: 9 - guncel index: 4\n"
     ]
    }
   ],
   "source": [
    "#orn: uzun yol\n",
    "index = 0\n",
    "\n",
    "for numara in list(range(5, 10)) :\n",
    "    print(f\"guncel numara: {numara} - guncel index: {index}\")\n",
    "    index = index + 1"
   ]
  },
  {
   "cell_type": "code",
   "execution_count": 18,
   "id": "3470da4c",
   "metadata": {},
   "outputs": [
    {
     "name": "stdout",
     "output_type": "stream",
     "text": [
      "(0, 5)\n",
      "(1, 6)\n",
      "(2, 7)\n",
      "(3, 8)\n",
      "(4, 9)\n"
     ]
    }
   ],
   "source": [
    "#orn: kisa yol, enumerate kullanarak:\n",
    "for eleman in enumerate(list(range(5, 10))) : #elemanlarin her biri aslinda birer tuple.\n",
    "    print(eleman)"
   ]
  },
  {
   "cell_type": "code",
   "execution_count": 19,
   "id": "b640303b",
   "metadata": {},
   "outputs": [
    {
     "name": "stdout",
     "output_type": "stream",
     "text": [
      "5\n",
      "6\n",
      "7\n",
      "8\n",
      "9\n"
     ]
    }
   ],
   "source": [
    "for (index, numara) in enumerate(list(range(5, 10))) : #dolayisiyla tuple lari su sekilde de yazdirabiliriz.\n",
    "    print(numara)"
   ]
  },
  {
   "cell_type": "code",
   "execution_count": 20,
   "id": "96a96f30",
   "metadata": {},
   "outputs": [
    {
     "name": "stdout",
     "output_type": "stream",
     "text": [
      "0\n",
      "1\n",
      "2\n",
      "3\n",
      "4\n"
     ]
    }
   ],
   "source": [
    "for (index, numara) in enumerate(list(range(5, 10))) :\n",
    "    print(index)"
   ]
  },
  {
   "cell_type": "markdown",
   "id": "1f1c57de",
   "metadata": {},
   "source": [
    "# Random: randint, shuffle"
   ]
  },
  {
   "cell_type": "markdown",
   "id": "fe011434",
   "metadata": {},
   "source": [
    "En cok kullanilan kutuphanelerden biri. Random kutuphanesinden: randint, shuffle"
   ]
  },
  {
   "cell_type": "code",
   "execution_count": 21,
   "id": "84ae9f15",
   "metadata": {},
   "outputs": [],
   "source": [
    "from random import randint #belirli bir aralikta rastgele bir sayi getirir."
   ]
  },
  {
   "cell_type": "code",
   "execution_count": 26,
   "id": "52113460",
   "metadata": {},
   "outputs": [
    {
     "data": {
      "text/plain": [
       "89"
      ]
     },
     "execution_count": 26,
     "metadata": {},
     "output_type": "execute_result"
    }
   ],
   "source": [
    "randint(0, 100) #0 ile 100 arasinda rastgele bir sayi getir. her calistiginda farkli sonuc gelir."
   ]
  },
  {
   "cell_type": "code",
   "execution_count": 27,
   "id": "9568b9b7",
   "metadata": {},
   "outputs": [],
   "source": [
    "from random import shuffle #belirli bir nesneyi rastgele karistirir."
   ]
  },
  {
   "cell_type": "code",
   "execution_count": 29,
   "id": "ec728775",
   "metadata": {},
   "outputs": [
    {
     "data": {
      "text/plain": [
       "[0, 1, 2, 3, 4, 5, 6, 7, 8, 9]"
      ]
     },
     "execution_count": 29,
     "metadata": {},
     "output_type": "execute_result"
    }
   ],
   "source": [
    "yeniListe = list(range(0, 10))\n",
    "yeniListe"
   ]
  },
  {
   "cell_type": "code",
   "execution_count": 32,
   "id": "1586920f",
   "metadata": {},
   "outputs": [
    {
     "data": {
      "text/plain": [
       "[9, 7, 5, 8, 0, 1, 3, 6, 2, 4]"
      ]
     },
     "execution_count": 32,
     "metadata": {},
     "output_type": "execute_result"
    }
   ],
   "source": [
    "shuffle(yeniListe) #0 dan 10 a kdr elemanlarin oldugu listeyi rastgele karistirir. her calistiginda farkli sonuc gelir.\n",
    "yeniListe"
   ]
  }
 ],
 "metadata": {
  "kernelspec": {
   "display_name": "Python 3 (ipykernel)",
   "language": "python",
   "name": "python3"
  },
  "language_info": {
   "codemirror_mode": {
    "name": "ipython",
    "version": 3
   },
   "file_extension": ".py",
   "mimetype": "text/x-python",
   "name": "python",
   "nbconvert_exporter": "python",
   "pygments_lexer": "ipython3",
   "version": "3.9.7"
  }
 },
 "nbformat": 4,
 "nbformat_minor": 5
}
