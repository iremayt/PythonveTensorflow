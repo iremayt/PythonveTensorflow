{
 "cells": [
  {
   "cell_type": "markdown",
   "id": "c38c6edf",
   "metadata": {},
   "source": [
    "# Obje Odakli Programlama (OOP)"
   ]
  },
  {
   "cell_type": "markdown",
   "id": "de8d9a22",
   "metadata": {},
   "source": [
    "## OOP Nedir\n",
    "## Sinif Nedir?\n",
    "\n",
    "-Java, c++, C#, Python, PHP, R, Javascript, Objectpascal, Matlob gibi bazi diller obj. odakli prog. icerir.\n",
    "\n",
    "-string, int, list...: aslinda birer siniftir."
   ]
  },
  {
   "cell_type": "markdown",
   "id": "283e132e",
   "metadata": {},
   "source": [
    "## instance & attribute\n",
    "\n",
    "instance: nesne, ornek\n",
    "\n",
    "attribute: sinifin kendi ozellikleri"
   ]
  },
  {
   "cell_type": "code",
   "execution_count": 3,
   "id": "7c9ff2a5",
   "metadata": {},
   "outputs": [],
   "source": [
    "benimListem = list()\n",
    "benimListem.append(\"a\")\n",
    "#benimListem: instance\n",
    "#.append(): attribute"
   ]
  },
  {
   "cell_type": "code",
   "execution_count": 5,
   "id": "d7709aed",
   "metadata": {},
   "outputs": [],
   "source": [
    "#Sinif tanimlama: Siniflarin ilk harfi buyuk yazilir.\n",
    "\n",
    "class SuperKahraman() : #SuperKahraman adinda bir sinif olusturduk.\n",
    "    def __init__(self, isimx, yasx, meslekx) :\n",
    "        print(\"init cagirildi\")\n",
    "        self.isim = isimx  #self.isim, self.yas, self.meslek = attributelar\n",
    "        self.yas = yasx    #isim, yas, meslek = alinan argumanlar\n",
    "        self.meslek = meslekx\n",
    "        \n",
    "        #init(initilizer) ztn tanimli bir fonksiyondur. Baslatmaktan gelir.\n",
    "        #__init__():SuperKahraman sinifindan herhangi bir obje olusturuldugunda bu fonk.nu cagir demek.\n",
    "        \n",
    "        #(self): default ol. yazilir. \n",
    "        #Siniftan olusturulmus obj.nin icindeki isim, yas, meslek attributelarinin tanimlanmasina yrdmci olur.\n",
    "        #Boylece objeye referans-->(superman.isim) verebiliriz"
   ]
  },
  {
   "cell_type": "code",
   "execution_count": 9,
   "id": "67c30b39",
   "metadata": {},
   "outputs": [
    {
     "name": "stdout",
     "output_type": "stream",
     "text": [
      "init cagirildi\n"
     ]
    }
   ],
   "source": [
    "superman = SuperKahraman(\"superman\", 30, \"gazeteci\") \n",
    "#(\"superman\", 30, \"gazeteci\")=(isimx, yasx, meslekx) i tanimlar.\n",
    "#superman ise SuperKahraman sinifindan olusturulmus bir objeyi tanimlar."
   ]
  },
  {
   "cell_type": "code",
   "execution_count": 10,
   "id": "4e64083f",
   "metadata": {},
   "outputs": [
    {
     "data": {
      "text/plain": [
       "'superman'"
      ]
     },
     "execution_count": 10,
     "metadata": {},
     "output_type": "execute_result"
    }
   ],
   "source": [
    "superman.isim #init icerisindeki self.isim kismi = superman.isim i tanimlayan kisim."
   ]
  },
  {
   "cell_type": "code",
   "execution_count": 11,
   "id": "c59dd80f",
   "metadata": {},
   "outputs": [
    {
     "data": {
      "text/plain": [
       "'gazeteci'"
      ]
     },
     "execution_count": 11,
     "metadata": {},
     "output_type": "execute_result"
    }
   ],
   "source": [
    "superman.meslek"
   ]
  },
  {
   "cell_type": "code",
   "execution_count": 13,
   "id": "f9b28b2a",
   "metadata": {},
   "outputs": [
    {
     "data": {
      "text/plain": [
       "'Clark Kent'"
      ]
     },
     "execution_count": 13,
     "metadata": {},
     "output_type": "execute_result"
    }
   ],
   "source": [
    "superman.isim = \"Clark Kent\" #istersek degisiklik yapabiliriz.\n",
    "superman.isim"
   ]
  },
  {
   "cell_type": "markdown",
   "id": "b57bd37e",
   "metadata": {},
   "source": [
    "## Sinif metotlari:"
   ]
  },
  {
   "cell_type": "code",
   "execution_count": 39,
   "id": "1133ce75",
   "metadata": {},
   "outputs": [],
   "source": [
    "class SuperKahraman():\n",
    "    def __init__(self, isimx, yasx, meslekx):\n",
    "        print(\"init cagirildi...\")\n",
    "        self.isim = isimx\n",
    "        self.yas = yasx\n",
    "        self.meslek = meslekx\n",
    "\n",
    "    def ornekMetot(self):\n",
    "        print(f\"Ben bir kahramanim ve meslegim: {self.meslek}\") #yukaridan self.meslek aldik = {self.meslek} icine."
   ]
  },
  {
   "cell_type": "code",
   "execution_count": 40,
   "id": "533fd953",
   "metadata": {},
   "outputs": [
    {
     "name": "stdout",
     "output_type": "stream",
     "text": [
      "init cagirildi...\n"
     ]
    }
   ],
   "source": [
    "superman = SuperKahraman(\"superman\", 30, \"gazeteci\")"
   ]
  },
  {
   "cell_type": "code",
   "execution_count": 41,
   "id": "24fd1015",
   "metadata": {},
   "outputs": [
    {
     "name": "stdout",
     "output_type": "stream",
     "text": [
      "Ben bir kahramanim ve meslegim: gazeteci\n"
     ]
    }
   ],
   "source": [
    "superman.ornekMetot()"
   ]
  },
  {
   "cell_type": "markdown",
   "id": "c752ff90",
   "metadata": {},
   "source": [
    "## Default degerler:"
   ]
  },
  {
   "cell_type": "code",
   "execution_count": 42,
   "id": "6b4b4c79",
   "metadata": {},
   "outputs": [],
   "source": [
    "class Kopek():\n",
    "    def __init__(self, yasx):\n",
    "        self.yas = yasx"
   ]
  },
  {
   "cell_type": "code",
   "execution_count": 43,
   "id": "382caeb6",
   "metadata": {},
   "outputs": [
    {
     "ename": "TypeError",
     "evalue": "__init__() missing 1 required positional argument: 'yasx'",
     "output_type": "error",
     "traceback": [
      "\u001b[1;31m---------------------------------------------------------------------------\u001b[0m",
      "\u001b[1;31mTypeError\u001b[0m                                 Traceback (most recent call last)",
      "\u001b[1;32m~\\AppData\\Local\\Temp/ipykernel_1496/3138393100.py\u001b[0m in \u001b[0;36m<module>\u001b[1;34m\u001b[0m\n\u001b[1;32m----> 1\u001b[1;33m \u001b[0mbenimKopek\u001b[0m \u001b[1;33m=\u001b[0m \u001b[0mKopek\u001b[0m\u001b[1;33m(\u001b[0m\u001b[1;33m)\u001b[0m\u001b[1;33m\u001b[0m\u001b[1;33m\u001b[0m\u001b[0m\n\u001b[0m",
      "\u001b[1;31mTypeError\u001b[0m: __init__() missing 1 required positional argument: 'yasx'"
     ]
    }
   ],
   "source": [
    "benimKopek = Kopek() #(yasx) degerini vermedigimiz icin hata verir."
   ]
  },
  {
   "cell_type": "code",
   "execution_count": 44,
   "id": "4fb17a16",
   "metadata": {},
   "outputs": [
    {
     "data": {
      "text/plain": [
       "3"
      ]
     },
     "execution_count": 44,
     "metadata": {},
     "output_type": "execute_result"
    }
   ],
   "source": [
    "benimKopek = Kopek(3)\n",
    "benimKopek.yas"
   ]
  },
  {
   "cell_type": "code",
   "execution_count": 45,
   "id": "5ca48a2c",
   "metadata": {},
   "outputs": [],
   "source": [
    "#herhangi bir deger verilmezse default deger atanabilir:\n",
    "\n",
    "class Kopek():\n",
    "    def __init__(self, yasx = 5):\n",
    "        self.yas = yasx"
   ]
  },
  {
   "cell_type": "code",
   "execution_count": 46,
   "id": "3e4f3863",
   "metadata": {},
   "outputs": [],
   "source": [
    "benimKopek = Kopek() #default deger atandigi icin hata vermez."
   ]
  },
  {
   "cell_type": "code",
   "execution_count": 47,
   "id": "2868c9dc",
   "metadata": {},
   "outputs": [
    {
     "data": {
      "text/plain": [
       "5"
      ]
     },
     "execution_count": 47,
     "metadata": {},
     "output_type": "execute_result"
    }
   ],
   "source": [
    "benimKopek.yas"
   ]
  },
  {
   "cell_type": "markdown",
   "id": "8b623eed",
   "metadata": {},
   "source": [
    "## Inheritance (miras almak):"
   ]
  },
  {
   "cell_type": "code",
   "execution_count": 63,
   "id": "f9be5ff1",
   "metadata": {},
   "outputs": [],
   "source": [
    "class Hayvan():\n",
    "    def __init__(self):\n",
    "        print(\"Hayvan sinifi init cagirildi...\")\n",
    "        \n",
    "    def metot1(self):\n",
    "        print(\"Hayvan sinifi metot1 cagirildi...\")\n",
    "        \n",
    "    def metot2(self):\n",
    "        print(\"Hayvan sinifi metot2 cagirildi...\")"
   ]
  },
  {
   "cell_type": "code",
   "execution_count": 64,
   "id": "4a0c64dd",
   "metadata": {},
   "outputs": [
    {
     "name": "stdout",
     "output_type": "stream",
     "text": [
      "Hayvan sinifi init cagirildi...\n"
     ]
    }
   ],
   "source": [
    "benimHayvanim = Hayvan()"
   ]
  },
  {
   "cell_type": "code",
   "execution_count": 65,
   "id": "534d077c",
   "metadata": {},
   "outputs": [
    {
     "name": "stdout",
     "output_type": "stream",
     "text": [
      "Hayvan sinifi metot1 cagirildi...\n"
     ]
    }
   ],
   "source": [
    "benimHayvanim.metot1() #benimHayvanim. yazip tab'a basildiginda secenek olarak metot1&metot2 cikar."
   ]
  },
  {
   "cell_type": "code",
   "execution_count": 66,
   "id": "96797a18",
   "metadata": {},
   "outputs": [
    {
     "name": "stdout",
     "output_type": "stream",
     "text": [
      "Hayvan sinifi metot2 cagirildi...\n"
     ]
    }
   ],
   "source": [
    "benimHayvanim.metot2()"
   ]
  },
  {
   "cell_type": "code",
   "execution_count": 67,
   "id": "9e68e3d8",
   "metadata": {},
   "outputs": [],
   "source": [
    "class Kedi(Hayvan):\n",
    "    def __init__(self):\n",
    "        Hayvan.__init__(self) #Hayvan sinifinin init ini getir.\n",
    "        print(\"Kedi sinifi cagirildi...\")\n",
    "        \n",
    "    def miyavla(self):\n",
    "        print(\"Miyav...\")"
   ]
  },
  {
   "cell_type": "code",
   "execution_count": 68,
   "id": "6c49a2bd",
   "metadata": {},
   "outputs": [
    {
     "name": "stdout",
     "output_type": "stream",
     "text": [
      "Hayvan sinifi init cagirildi...\n",
      "Kedi sinifi cagirildi...\n"
     ]
    }
   ],
   "source": [
    "benimKedi = Kedi()"
   ]
  },
  {
   "cell_type": "code",
   "execution_count": 69,
   "id": "58cff2ec",
   "metadata": {},
   "outputs": [
    {
     "name": "stdout",
     "output_type": "stream",
     "text": [
      "Hayvan sinifi metot1 cagirildi...\n"
     ]
    }
   ],
   "source": [
    "benimKedi.metot1() #benimKedi. yazip tab'a basildiginda-->metot1&metot2&miyavla--> metot1 ve metot2 miras alindi."
   ]
  },
  {
   "cell_type": "code",
   "execution_count": 70,
   "id": "c5bf4f10",
   "metadata": {},
   "outputs": [
    {
     "name": "stdout",
     "output_type": "stream",
     "text": [
      "Miyav...\n"
     ]
    }
   ],
   "source": [
    "benimKedi.miyavla()"
   ]
  },
  {
   "cell_type": "code",
   "execution_count": 71,
   "id": "fed0745b",
   "metadata": {},
   "outputs": [],
   "source": [
    "#override\n",
    "\n",
    "class Kedi(Hayvan):\n",
    "    def __init__(self):\n",
    "        Hayvan.__init__(self) #Hayvan sinifinin init ini getir.\n",
    "        print(\"Kedi sinifi cagirildi...\")\n",
    "        \n",
    "    def miyavla(self):\n",
    "        print(\"Miyav...\")\n",
    "        \n",
    "    def metot1(self): #Hayvan sinifindaki metot1'in yerine, yeni bir metot1 tanimlasaydik.\n",
    "        print(\"Kedi sinifi metot1 cagirildi...\")"
   ]
  },
  {
   "cell_type": "code",
   "execution_count": 74,
   "id": "164cbbcd",
   "metadata": {},
   "outputs": [
    {
     "name": "stdout",
     "output_type": "stream",
     "text": [
      "Hayvan sinifi init cagirildi...\n",
      "Kedi sinifi cagirildi...\n"
     ]
    }
   ],
   "source": [
    "benimKedi = Kedi() #benimKediyi yeniden tanimladik."
   ]
  },
  {
   "cell_type": "code",
   "execution_count": 75,
   "id": "e4e030eb",
   "metadata": {},
   "outputs": [
    {
     "name": "stdout",
     "output_type": "stream",
     "text": [
      "Kedi sinifi metot1 cagirildi...\n"
     ]
    }
   ],
   "source": [
    "benimKedi.metot1() #Yeni istedigimiz zmn mevcut sinifin uzerine yazabiliriz. Buna override denir."
   ]
  },
  {
   "cell_type": "markdown",
   "id": "b566b0b2",
   "metadata": {},
   "source": [
    "# Polymorphism:\n",
    "\n",
    "Ayni isimdeki metot ya da fonksiyonlarin farkli amaca hizmet edebilmesine denir."
   ]
  },
  {
   "cell_type": "code",
   "execution_count": 101,
   "id": "1c88f49d",
   "metadata": {},
   "outputs": [],
   "source": [
    "class Elma():\n",
    "    def __init__(self, isimx):\n",
    "        self.isim = isimx\n",
    "        \n",
    "    def bilgiVer(self):\n",
    "        return self.isim + \" 100 kalori\"\n",
    "\n",
    "class Muz():\n",
    "    def __init__(self, isimx):\n",
    "        self.isim = isimx\n",
    "        \n",
    "    def bilgiVer(self):\n",
    "        return self.isim + \" 200 kalori\""
   ]
  },
  {
   "cell_type": "code",
   "execution_count": 102,
   "id": "156ef0e2",
   "metadata": {},
   "outputs": [],
   "source": [
    "benimElma = Elma(\"elma\") #Elma sinifindan"
   ]
  },
  {
   "cell_type": "code",
   "execution_count": 103,
   "id": "81ff6fdf",
   "metadata": {},
   "outputs": [
    {
     "data": {
      "text/plain": [
       "'elma 100 kalori'"
      ]
     },
     "execution_count": 103,
     "metadata": {},
     "output_type": "execute_result"
    }
   ],
   "source": [
    "benimElma.bilgiVer() #Elma sinifindan"
   ]
  },
  {
   "cell_type": "code",
   "execution_count": 104,
   "id": "37e98a8d",
   "metadata": {},
   "outputs": [],
   "source": [
    "benimMuz = Muz(\"muz\") #Muz sinifindan"
   ]
  },
  {
   "cell_type": "code",
   "execution_count": 105,
   "id": "2af5f895",
   "metadata": {},
   "outputs": [
    {
     "data": {
      "text/plain": [
       "'muz 200 kalori'"
      ]
     },
     "execution_count": 105,
     "metadata": {},
     "output_type": "execute_result"
    }
   ],
   "source": [
    "benimMuz.bilgiVer() #Muz sinifindan"
   ]
  },
  {
   "cell_type": "code",
   "execution_count": 108,
   "id": "5def672d",
   "metadata": {},
   "outputs": [],
   "source": [
    "meyveListesi = [benimElma, benimMuz] \n",
    "#[benimElma, benimMuz] birer objedir.\n",
    "#elma:Elma sinifindan, muz:Muz sinifindan bir obje."
   ]
  },
  {
   "cell_type": "code",
   "execution_count": 110,
   "id": "b2b9a8ab",
   "metadata": {},
   "outputs": [
    {
     "name": "stdout",
     "output_type": "stream",
     "text": [
      "elma 100 kalori\n",
      "muz 200 kalori\n"
     ]
    }
   ],
   "source": [
    "for meyve in meyveListesi:\n",
    "    print(meyve.bilgiVer())\n",
    "#bilgiVer() fonk.nu her 2 objede de var. 2side kndine has ozellikte calisti.\n",
    "#buna polymorphism denir."
   ]
  },
  {
   "cell_type": "code",
   "execution_count": 111,
   "id": "258444bd",
   "metadata": {},
   "outputs": [],
   "source": [
    "    def bilgiAl(meyve):\n",
    "        print(meyve.bilgiVer())"
   ]
  },
  {
   "cell_type": "code",
   "execution_count": 112,
   "id": "8947923d",
   "metadata": {},
   "outputs": [
    {
     "name": "stdout",
     "output_type": "stream",
     "text": [
      "muz 200 kalori\n"
     ]
    }
   ],
   "source": [
    "bilgiAl(benimMuz)"
   ]
  },
  {
   "cell_type": "code",
   "execution_count": 113,
   "id": "7fe800c0",
   "metadata": {},
   "outputs": [
    {
     "name": "stdout",
     "output_type": "stream",
     "text": [
      "elma 100 kalori\n"
     ]
    }
   ],
   "source": [
    "bilgiAl(benimElma)"
   ]
  },
  {
   "cell_type": "markdown",
   "id": "a1440944",
   "metadata": {},
   "source": [
    "## Ozel Metotlar:\n",
    "\n",
    "###  _ _init_ _: \n",
    "bulundugu siniftan bir obje olusturuldugunda cagirilan metot.\n",
    "\n",
    "###  _ _str_ _ : \n",
    "print() ile objeyi yazdirmak istedigimizde ne dondurulecegini veren metot.\n",
    "\n",
    "###  _ _len_ _: \n",
    "len() ile obje kulanildiginda ne dondurulecegini veren metot."
   ]
  },
  {
   "cell_type": "code",
   "execution_count": 114,
   "id": "5772bdb3",
   "metadata": {},
   "outputs": [],
   "source": [
    "class Meyve():\n",
    "    def __init__(self, isimx, kalorix):\n",
    "        self.isim = isimx\n",
    "        self.kalori = kalorix\n",
    "        \n",
    "    def __str__(self):\n",
    "        return f\"{self.isim} meyvesi su kdr kaloriye sahip: {self.kalori}\"\n",
    "    \n",
    "    def __len__(self):\n",
    "        return self.kalori"
   ]
  },
  {
   "cell_type": "code",
   "execution_count": 115,
   "id": "73748fa8",
   "metadata": {},
   "outputs": [],
   "source": [
    "muz = Meyve(\"Muz\", 150)"
   ]
  },
  {
   "cell_type": "code",
   "execution_count": 116,
   "id": "520e16a1",
   "metadata": {},
   "outputs": [
    {
     "data": {
      "text/plain": [
       "150"
      ]
     },
     "execution_count": 116,
     "metadata": {},
     "output_type": "execute_result"
    }
   ],
   "source": [
    "muz.kalori #init metodu uygulanir."
   ]
  },
  {
   "cell_type": "code",
   "execution_count": 117,
   "id": "5b81c967",
   "metadata": {},
   "outputs": [
    {
     "name": "stdout",
     "output_type": "stream",
     "text": [
      "Muz meyvesi su kdr kaloriye sahip: 150\n"
     ]
    }
   ],
   "source": [
    "print(muz) #str metodu uygulanir."
   ]
  },
  {
   "cell_type": "code",
   "execution_count": 118,
   "id": "81d932e0",
   "metadata": {},
   "outputs": [
    {
     "data": {
      "text/plain": [
       "150"
      ]
     },
     "execution_count": 118,
     "metadata": {},
     "output_type": "execute_result"
    }
   ],
   "source": [
    "len(muz) #len metodu uygulanir."
   ]
  },
  {
   "cell_type": "markdown",
   "id": "3386f0b1",
   "metadata": {},
   "source": [
    "NOT: Tüm metotları bilmemize imkan yok. Google'da aratabiliriz.\n",
    "\n",
    "Special methods in Python - Magic methods in Python - Dunder methods in Python"
   ]
  },
  {
   "cell_type": "markdown",
   "id": "0deb03c7",
   "metadata": {},
   "source": [
    "# Kutuphaneler"
   ]
  },
  {
   "cell_type": "markdown",
   "id": "2cca933f",
   "metadata": {},
   "source": [
    "-Python web development libraries\n",
    "\n",
    "-Python data science libraries sek.de arama yapilabilir.\n",
    "\n",
    "--En cok kullanilan kutuphaneler:\n",
    "\n",
    "    -Numpy\n",
    "    -Pandas\n",
    "    -Matplotlib\n",
    "    -Tensorflow\n",
    "    \n",
    "--Installation kisminda nasil yükleme yapilacagi bilgisi yazar:\n",
    "\n",
    "    -Anaconda kullananlar icin conda:\n",
    "    -Kullanmayanlar icin ... seklinde 2 sekilde yazar.\n",
    "    \n",
    "    --baslat-->cmd yaz terminali ac-->terminale yaz."
   ]
  },
  {
   "cell_type": "markdown",
   "id": "0983e555",
   "metadata": {},
   "source": [
    "# Moduller ve Paketler\n",
    "-Moduller: Tek basina python dosyalari\n",
    "\n",
    "-Paketler: Daha genis kapsamli python dosyalari"
   ]
  },
  {
   "cell_type": "code",
   "execution_count": null,
   "id": "0b6ede5c",
   "metadata": {},
   "outputs": [],
   "source": []
  }
 ],
 "metadata": {
  "kernelspec": {
   "display_name": "Python 3 (ipykernel)",
   "language": "python",
   "name": "python3"
  },
  "language_info": {
   "codemirror_mode": {
    "name": "ipython",
    "version": 3
   },
   "file_extension": ".py",
   "mimetype": "text/x-python",
   "name": "python",
   "nbconvert_exporter": "python",
   "pygments_lexer": "ipython3",
   "version": "3.9.7"
  }
 },
 "nbformat": 4,
 "nbformat_minor": 5
}
