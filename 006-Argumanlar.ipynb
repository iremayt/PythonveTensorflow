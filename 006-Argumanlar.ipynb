{
 "cells": [
  {
   "cell_type": "markdown",
   "id": "dd57bba3",
   "metadata": {},
   "source": [
    "# Sayisiz Arguman"
   ]
  },
  {
   "cell_type": "markdown",
   "id": "ca3517ef",
   "metadata": {},
   "source": [
    "## args (argumanlar) & kwargs (keyword argumanlar) :"
   ]
  },
  {
   "cell_type": "code",
   "execution_count": 2,
   "id": "73bf5870",
   "metadata": {},
   "outputs": [],
   "source": [
    "def toplama2(*args) :\n",
    "    return sum(args)"
   ]
  },
  {
   "cell_type": "code",
   "execution_count": 3,
   "id": "4fd15030",
   "metadata": {},
   "outputs": [
    {
     "data": {
      "text/plain": [
       "210"
      ]
     },
     "execution_count": 3,
     "metadata": {},
     "output_type": "execute_result"
    }
   ],
   "source": [
    "toplama2(10, 20, 30, 40, 50, 60)"
   ]
  },
  {
   "cell_type": "code",
   "execution_count": 12,
   "id": "6f0472f1",
   "metadata": {},
   "outputs": [],
   "source": [
    "# args lari return edince tuple dondurur:\n",
    "#bu da tuple i bir degiskene kaydetmeye olanak tanir.\n",
    "\n",
    "def fonk1(*args) :\n",
    "    return args"
   ]
  },
  {
   "cell_type": "code",
   "execution_count": 13,
   "id": "7ea647c9",
   "metadata": {},
   "outputs": [
    {
     "data": {
      "text/plain": [
       "tuple"
      ]
     },
     "execution_count": 13,
     "metadata": {},
     "output_type": "execute_result"
    }
   ],
   "source": [
    "type(fonk1(20, 30, 40))"
   ]
  },
  {
   "cell_type": "code",
   "execution_count": 14,
   "id": "10ffaeae",
   "metadata": {},
   "outputs": [],
   "source": [
    "# args lari return etmeyince sadece yazdirir. Bir anlami yoktur o tuple in:\n",
    "\n",
    "def fonk1(*args) :\n",
    "    print(args)"
   ]
  },
  {
   "cell_type": "code",
   "execution_count": 15,
   "id": "2f11c709",
   "metadata": {},
   "outputs": [
    {
     "name": "stdout",
     "output_type": "stream",
     "text": [
      "(20, 30, 40)\n"
     ]
    },
    {
     "data": {
      "text/plain": [
       "NoneType"
      ]
     },
     "execution_count": 15,
     "metadata": {},
     "output_type": "execute_result"
    }
   ],
   "source": [
    "type(fonk1(20, 30, 40))"
   ]
  },
  {
   "cell_type": "code",
   "execution_count": 22,
   "id": "76f3ccda",
   "metadata": {},
   "outputs": [
    {
     "data": {
      "text/plain": [
       "int"
      ]
     },
     "execution_count": 22,
     "metadata": {},
     "output_type": "execute_result"
    }
   ],
   "source": [
    "type(toplama2(1, 2, 3, 4)) #sonuc int;cunku fonksiyonda toplanan sayilarin sonucu int ol. return edilir."
   ]
  },
  {
   "cell_type": "code",
   "execution_count": 23,
   "id": "4385afc6",
   "metadata": {},
   "outputs": [
    {
     "data": {
      "text/plain": [
       "float"
      ]
     },
     "execution_count": 23,
     "metadata": {},
     "output_type": "execute_result"
    }
   ],
   "source": [
    "type(toplama2(1.5, 2, 3, 4)) #sonuc float;cunku fonksiyonda toplanan sayilarin sonucu float ol. return edilir."
   ]
  },
  {
   "cell_type": "code",
   "execution_count": 16,
   "id": "08e952ff",
   "metadata": {},
   "outputs": [],
   "source": [
    "# kwargs lari return edince ise dict dondurur:\n",
    "\n",
    "def fonk2(**kwargs) :\n",
    "    return kwargs"
   ]
  },
  {
   "cell_type": "code",
   "execution_count": 17,
   "id": "89c5c7e9",
   "metadata": {},
   "outputs": [
    {
     "data": {
      "text/plain": [
       "dict"
      ]
     },
     "execution_count": 17,
     "metadata": {},
     "output_type": "execute_result"
    }
   ],
   "source": [
    "type(fonk2(muz = 100, elma = 200, ananas = 300))"
   ]
  },
  {
   "cell_type": "code",
   "execution_count": 20,
   "id": "d399b9f4",
   "metadata": {},
   "outputs": [],
   "source": [
    "# kwargs lari return etmeyince sadece yazdirir. Bir anlami yoktur o dict nin:\n",
    "\n",
    "def fonk2(**kwargs) :\n",
    "    print(kwargs)"
   ]
  },
  {
   "cell_type": "code",
   "execution_count": 21,
   "id": "8c38bd6f",
   "metadata": {},
   "outputs": [
    {
     "name": "stdout",
     "output_type": "stream",
     "text": [
      "{'muz': 100, 'elma': 200, 'ananas': 300}\n"
     ]
    },
    {
     "data": {
      "text/plain": [
       "NoneType"
      ]
     },
     "execution_count": 21,
     "metadata": {},
     "output_type": "execute_result"
    }
   ],
   "source": [
    "type(fonk2(muz = 100, elma = 200, ananas = 300))"
   ]
  },
  {
   "cell_type": "code",
   "execution_count": 24,
   "id": "5a8d28a7",
   "metadata": {},
   "outputs": [],
   "source": [
    "def keyWordKontrol(**kwargs) :\n",
    "    if \"melis\" in kwargs :\n",
    "        print(\"melis var...\")\n",
    "    else :\n",
    "        print(\"melis yok...\")"
   ]
  },
  {
   "cell_type": "code",
   "execution_count": 25,
   "id": "33b401c1",
   "metadata": {},
   "outputs": [
    {
     "name": "stdout",
     "output_type": "stream",
     "text": [
      "melis yok...\n"
     ]
    }
   ],
   "source": [
    "keyWordKontrol(ahmet = 70, ayse = 50, kerem = 30)"
   ]
  },
  {
   "cell_type": "code",
   "execution_count": null,
   "id": "02d1f67e",
   "metadata": {},
   "outputs": [],
   "source": []
  }
 ],
 "metadata": {
  "kernelspec": {
   "display_name": "Python 3 (ipykernel)",
   "language": "python",
   "name": "python3"
  },
  "language_info": {
   "codemirror_mode": {
    "name": "ipython",
    "version": 3
   },
   "file_extension": ".py",
   "mimetype": "text/x-python",
   "name": "python",
   "nbconvert_exporter": "python",
   "pygments_lexer": "ipython3",
   "version": "3.9.7"
  }
 },
 "nbformat": 4,
 "nbformat_minor": 5
}
