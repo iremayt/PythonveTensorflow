{
 "cells": [
  {
   "cell_type": "markdown",
   "id": "c5f792ba",
   "metadata": {},
   "source": [
    "# Onemli Fonksiyonlar"
   ]
  },
  {
   "cell_type": "markdown",
   "id": "07fe294d",
   "metadata": {},
   "source": [
    "## zip:"
   ]
  },
  {
   "cell_type": "markdown",
   "id": "ed71e4e5",
   "metadata": {},
   "source": [
    "Birlestime, sikistirme islemi."
   ]
  },
  {
   "cell_type": "code",
   "execution_count": 1,
   "id": "2d03209f",
   "metadata": {},
   "outputs": [],
   "source": [
    "yemekListesi = [\"muz\", \"ananas\", \"elma\"]\n",
    "kaloriListesi = [100, 200, 300]\n",
    "gunListesi = [\"pzt\", \"sali\", \"cars\"]"
   ]
  },
  {
   "cell_type": "code",
   "execution_count": 2,
   "id": "58ab7e6b",
   "metadata": {},
   "outputs": [
    {
     "data": {
      "text/plain": [
       "[('muz', 100, 'pzt'), ('ananas', 200, 'sali'), ('elma', 300, 'cars')]"
      ]
     },
     "execution_count": 2,
     "metadata": {},
     "output_type": "execute_result"
    }
   ],
   "source": [
    "list(zip(yemekListesi, kaloriListesi, gunListesi))\n",
    "#birlestirme isleminden snra her biri birer tuple olarak tutulur.\n",
    "#orn ('muz', 100, 'pzt') bir tuple, ('ananas', 200, 'sali') ayri bir tuple."
   ]
  },
  {
   "cell_type": "code",
   "execution_count": 3,
   "id": "be3f86b0",
   "metadata": {},
   "outputs": [
    {
     "data": {
      "text/plain": [
       "['y', 'a', 's', 'a', 'r', ' ', 'k', 'e', 'm', 'a', 'l']"
      ]
     },
     "execution_count": 3,
     "metadata": {},
     "output_type": "execute_result"
    }
   ],
   "source": [
    "# orn: uzun yol\n",
    "listeOrnegi = []\n",
    "\n",
    "benimString = \"yasar kemal\"\n",
    "\n",
    "for harf in benimString :\n",
    "    listeOrnegi.append(harf)\n",
    "\n",
    "listeOrnegi"
   ]
  },
  {
   "cell_type": "code",
   "execution_count": 4,
   "id": "9f36fbc8",
   "metadata": {},
   "outputs": [
    {
     "data": {
      "text/plain": [
       "['y', 'a', 's', 'a', 'r', ' ', 'k', 'e', 'm', 'a', 'l']"
      ]
     },
     "execution_count": 4,
     "metadata": {},
     "output_type": "execute_result"
    }
   ],
   "source": [
    "# orn: kisa yol\n",
    "benimString1 = \"yasar kemal\"\n",
    "\n",
    "listeOrnegi1 = [eleman for eleman in benimString1]\n",
    "#listeOrnegi1: bu bir liste [] olacak diyorum.\n",
    "#for eleman in benimString1: benimString1 icerisindeki her bir elemani al,\n",
    "#eleman: eleman olarak listeOrnegi1 listesine ekle.\n",
    "\n",
    "listeOrnegi1"
   ]
  },
  {
   "cell_type": "code",
   "execution_count": 5,
   "id": "91506051",
   "metadata": {},
   "outputs": [
    {
     "data": {
      "text/plain": [
       "[0, 5, 10, 15, 20]"
      ]
     },
     "execution_count": 5,
     "metadata": {},
     "output_type": "execute_result"
    }
   ],
   "source": [
    "listeOrnegi2 = [numara * 5 for numara in list(range(0, 5))]\n",
    "#listeOrnegi2: bu bir liste [] olacak\n",
    "#for numara in list(range(0, 5)): [0,1,2,3,4] listesi icerisindeki her bir numarayi al,\n",
    "#numara * 5: numara*5 olarak listeOrnegi2 listesine ekle.\n",
    "\n",
    "listeOrnegi2"
   ]
  },
  {
   "cell_type": "markdown",
   "id": "e8b3fa96",
   "metadata": {},
   "source": [
    "## map:"
   ]
  },
  {
   "cell_type": "markdown",
   "id": "5fde0870",
   "metadata": {},
   "source": [
    "1 liste ile 1 fonk. uyguladiktan sonra tekrar onu listeye cevirmeye yardimci olur. map fonksiyonu sonucu bool ol. verir."
   ]
  },
  {
   "cell_type": "code",
   "execution_count": 6,
   "id": "098d5455",
   "metadata": {},
   "outputs": [],
   "source": [
    "def bolmeIslemi(numara) :\n",
    "    return numara / 2"
   ]
  },
  {
   "cell_type": "code",
   "execution_count": 7,
   "id": "505f0af7",
   "metadata": {},
   "outputs": [],
   "source": [
    "benimListem = [1, 2, 3, 4, 5, 6, 7, 8, 9, 10]"
   ]
  },
  {
   "cell_type": "code",
   "execution_count": 9,
   "id": "fdbf0e23",
   "metadata": {},
   "outputs": [],
   "source": [
    "#orn: uzun yol\n",
    "\n",
    "yeniListe = []\n",
    "\n",
    "for eleman in benimListem :\n",
    "    yeniListe.append(bolmeIslemi(eleman))"
   ]
  },
  {
   "cell_type": "code",
   "execution_count": 10,
   "id": "7582b4ef",
   "metadata": {},
   "outputs": [
    {
     "data": {
      "text/plain": [
       "[0.5, 1.0, 1.5, 2.0, 2.5, 3.0, 3.5, 4.0, 4.5, 5.0]"
      ]
     },
     "execution_count": 10,
     "metadata": {},
     "output_type": "execute_result"
    }
   ],
   "source": [
    "yeniListe"
   ]
  },
  {
   "cell_type": "code",
   "execution_count": 11,
   "id": "50b73bd7",
   "metadata": {},
   "outputs": [
    {
     "data": {
      "text/plain": [
       "[0.5, 1.0, 1.5, 2.0, 2.5, 3.0, 3.5, 4.0, 4.5, 5.0]"
      ]
     },
     "execution_count": 11,
     "metadata": {},
     "output_type": "execute_result"
    }
   ],
   "source": [
    "#orn: kisa yol\n",
    "\n",
    "list(map(bolmeIslemi, benimListem))\n",
    "#map(hangi fonksiyonu uygulamak istiyorum, bu fonksiyonu hangi listeye uygulamak istiyorum)"
   ]
  },
  {
   "cell_type": "code",
   "execution_count": 20,
   "id": "f60b97c7",
   "metadata": {},
   "outputs": [],
   "source": [
    "# orn:\n",
    "\n",
    "def kontrolFonk(string) :\n",
    "    return \"a\" in string"
   ]
  },
  {
   "cell_type": "code",
   "execution_count": 21,
   "id": "08df6b04",
   "metadata": {},
   "outputs": [],
   "source": [
    "stringListe = [\"atil\", \"seyma\", \"atlas\", \"zeynep\", \"mehmet\", \"ahmet\", \"levent\"]"
   ]
  },
  {
   "cell_type": "code",
   "execution_count": 22,
   "id": "149931bf",
   "metadata": {},
   "outputs": [
    {
     "data": {
      "text/plain": [
       "[True, True, True, False, False, True, False]"
      ]
     },
     "execution_count": 22,
     "metadata": {},
     "output_type": "execute_result"
    }
   ],
   "source": [
    "sonucListesi = list(map(kontrolFonk, stringListe)) #map sonuclari bool ol. verir.\n",
    "sonucListesi"
   ]
  },
  {
   "cell_type": "code",
   "execution_count": 23,
   "id": "74ec685e",
   "metadata": {},
   "outputs": [
    {
     "data": {
      "text/plain": [
       "4"
      ]
     },
     "execution_count": 23,
     "metadata": {},
     "output_type": "execute_result"
    }
   ],
   "source": [
    "sonucListesi.count(True)"
   ]
  },
  {
   "cell_type": "markdown",
   "id": "1463e07c",
   "metadata": {},
   "source": [
    "## filter:"
   ]
  },
  {
   "cell_type": "markdown",
   "id": "40f892e8",
   "metadata": {},
   "source": [
    "filtreleme yapar. sonucunda bool dgi, liste gosterir.False lari filtreler, True lari dondurur."
   ]
  },
  {
   "cell_type": "code",
   "execution_count": 25,
   "id": "f09db9d2",
   "metadata": {},
   "outputs": [
    {
     "data": {
      "text/plain": [
       "['atil', 'seyma', 'atlas', 'ahmet']"
      ]
     },
     "execution_count": 25,
     "metadata": {},
     "output_type": "execute_result"
    }
   ],
   "source": [
    "list(filter(kontrolFonk, stringListe)) #bool dgl, liste dondurur.\n",
    "#filter(hangi fonksiyonu uygulamak istiyorum, bu fonksiyonu hangi listeye uygulamak istiyorum)"
   ]
  },
  {
   "cell_type": "markdown",
   "id": "cbca7c0e",
   "metadata": {},
   "source": [
    "## lambda:"
   ]
  },
  {
   "cell_type": "markdown",
   "id": "1a122a90",
   "metadata": {},
   "source": [
    "fonk.nu tek satirda yazmaya yarar."
   ]
  },
  {
   "cell_type": "code",
   "execution_count": 26,
   "id": "167083be",
   "metadata": {},
   "outputs": [],
   "source": [
    "carpma = lambda numara: numara * 3"
   ]
  },
  {
   "cell_type": "code",
   "execution_count": 27,
   "id": "5f4f64ff",
   "metadata": {},
   "outputs": [
    {
     "data": {
      "text/plain": [
       "30"
      ]
     },
     "execution_count": 27,
     "metadata": {},
     "output_type": "execute_result"
    }
   ],
   "source": [
    "carpma(10)"
   ]
  },
  {
   "cell_type": "code",
   "execution_count": 47,
   "id": "76de2a9c",
   "metadata": {},
   "outputs": [],
   "source": [
    "ornekListe = [10, 20, 30]"
   ]
  },
  {
   "cell_type": "code",
   "execution_count": 48,
   "id": "1836b78c",
   "metadata": {},
   "outputs": [
    {
     "data": {
      "text/plain": [
       "[40, 80, 120]"
      ]
     },
     "execution_count": 48,
     "metadata": {},
     "output_type": "execute_result"
    }
   ],
   "source": [
    "list(map(lambda numara: numara * 4, ornekListe))"
   ]
  },
  {
   "cell_type": "code",
   "execution_count": null,
   "id": "2c44bfef",
   "metadata": {},
   "outputs": [],
   "source": []
  }
 ],
 "metadata": {
  "kernelspec": {
   "display_name": "Python 3 (ipykernel)",
   "language": "python",
   "name": "python3"
  },
  "language_info": {
   "codemirror_mode": {
    "name": "ipython",
    "version": 3
   },
   "file_extension": ".py",
   "mimetype": "text/x-python",
   "name": "python",
   "nbconvert_exporter": "python",
   "pygments_lexer": "ipython3",
   "version": "3.9.7"
  }
 },
 "nbformat": 4,
 "nbformat_minor": 5
}
