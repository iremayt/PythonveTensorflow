{
 "cells": [
  {
   "cell_type": "markdown",
   "id": "865514b4",
   "metadata": {},
   "source": [
    "# Kapsam(Scope): Global & Local & Enclosing"
   ]
  },
  {
   "cell_type": "markdown",
   "id": "d8a0d649",
   "metadata": {},
   "source": [
    "Olusturulan objelerin ya da degiskenlerin kapsamini, nerede calistirilabilecegini ve nereden ulasilebilecegini belirten tanım."
   ]
  },
  {
   "cell_type": "code",
   "execution_count": 4,
   "id": "76bfce26",
   "metadata": {},
   "outputs": [],
   "source": [
    "benimAdim = \"mert\" #Global\n",
    "\n",
    "def benimFonk() :\n",
    "    benimAdim = \"mahmut\" #Enclosing\n",
    "    \n",
    "    def icFonk() :\n",
    "        benimAdim = \"ayse\" #Local\n",
    "        print(benimAdim)\n",
    "        \n",
    "    icFonk() #fonk.u cagirdik; cunku fonk.lar cagirmadan calismaz."
   ]
  },
  {
   "cell_type": "code",
   "execution_count": 6,
   "id": "c663a07b",
   "metadata": {},
   "outputs": [
    {
     "name": "stdout",
     "output_type": "stream",
     "text": [
      "ayse\n"
     ]
    }
   ],
   "source": [
    "benimFonk() #benimFonk un icinde icFonk cagirildi.Dolayisiyla ayse yazdirdi."
   ]
  },
  {
   "cell_type": "code",
   "execution_count": 8,
   "id": "5302940a",
   "metadata": {},
   "outputs": [
    {
     "name": "stdout",
     "output_type": "stream",
     "text": [
      "mert\n"
     ]
    }
   ],
   "source": [
    "print(benimAdim) #globalde cagirsaydik mert yazardi."
   ]
  },
  {
   "cell_type": "markdown",
   "id": "84572c83",
   "metadata": {},
   "source": [
    "NOT: LOCAL, ENCLOSING, GLOBAL, BUILT-IN -->\n",
    "Cagirdigimiz yerde LOCALde var mi? Varsa(ayse) onu al, yoksa bir ustte ENCLOSINGde var mi? Varsa(mahmut) onu al, yoksa bir ustte GLOBALde var mi? Varsa(mert) onu al, yoksa bir ustte BUILT-INde yani pythonda boyle bir sey var mi? Varsa onu al, yoksa hata verir. --> Yani bir ust seviyede tanimlanan degisken bir alt seviyede de kullanilabilir."
   ]
  },
  {
   "cell_type": "code",
   "execution_count": 9,
   "id": "5c4f5cc1",
   "metadata": {},
   "outputs": [],
   "source": [
    "y = 10\n",
    "\n",
    "def yeniFonk(y) :\n",
    "    print(y)\n",
    "    y = 5\n",
    "    print(y)\n",
    "    return y"
   ]
  },
  {
   "cell_type": "code",
   "execution_count": 10,
   "id": "e35bbe0e",
   "metadata": {},
   "outputs": [
    {
     "name": "stdout",
     "output_type": "stream",
     "text": [
      "3\n",
      "5\n"
     ]
    },
    {
     "data": {
      "text/plain": [
       "5"
      ]
     },
     "execution_count": 10,
     "metadata": {},
     "output_type": "execute_result"
    }
   ],
   "source": [
    "yeniFonk(3)"
   ]
  },
  {
   "cell_type": "code",
   "execution_count": 11,
   "id": "6f7efc5a",
   "metadata": {},
   "outputs": [
    {
     "data": {
      "text/plain": [
       "10"
      ]
     },
     "execution_count": 11,
     "metadata": {},
     "output_type": "execute_result"
    }
   ],
   "source": [
    "y"
   ]
  },
  {
   "cell_type": "code",
   "execution_count": 12,
   "id": "ca6ee513",
   "metadata": {},
   "outputs": [],
   "source": [
    "#Fonk. icindeki islem ile globaldeki degiskenin degerini de degistirmek istersem, nasil yapilir?:\n",
    "\n",
    "y = 10\n",
    "\n",
    "def ornekFonk() :\n",
    "    global y #global de y diye bir degiskenim var, ben bunu kullanacagim dedim.\n",
    "    y = 5\n",
    "    print(y)"
   ]
  },
  {
   "cell_type": "code",
   "execution_count": 13,
   "id": "8267ef31",
   "metadata": {},
   "outputs": [
    {
     "name": "stdout",
     "output_type": "stream",
     "text": [
      "5\n"
     ]
    }
   ],
   "source": [
    "ornekFonk()"
   ]
  },
  {
   "cell_type": "code",
   "execution_count": 15,
   "id": "044f8f20",
   "metadata": {},
   "outputs": [
    {
     "data": {
      "text/plain": [
       "5"
      ]
     },
     "execution_count": 15,
     "metadata": {},
     "output_type": "execute_result"
    }
   ],
   "source": [
    "y #global deki y nin degeri de degisti."
   ]
  },
  {
   "cell_type": "code",
   "execution_count": null,
   "id": "adab3ee9",
   "metadata": {},
   "outputs": [],
   "source": []
  }
 ],
 "metadata": {
  "kernelspec": {
   "display_name": "Python 3 (ipykernel)",
   "language": "python",
   "name": "python3"
  },
  "language_info": {
   "codemirror_mode": {
    "name": "ipython",
    "version": 3
   },
   "file_extension": ".py",
   "mimetype": "text/x-python",
   "name": "python",
   "nbconvert_exporter": "python",
   "pygments_lexer": "ipython3",
   "version": "3.9.7"
  }
 },
 "nbformat": 4,
 "nbformat_minor": 5
}
