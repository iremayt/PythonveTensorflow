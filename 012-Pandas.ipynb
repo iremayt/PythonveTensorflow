{
 "cells": [
  {
   "cell_type": "markdown",
   "id": "dc9d1917",
   "metadata": {},
   "source": [
    "# Pandas\n",
    "\n",
    "-Kurulum: pandas.pydata.org da yazar.\n",
    "\n",
    "    -Windows kullananlar icin:\n",
    "    \n",
    "        --baslat-->cmd yaz-->terminali calistir-->asagidakileri yaz.\n",
    "            conda install numpy\n",
    "            conda install matplotlib\n",
    "            conda install pandas\n",
    " \n",
    "-Pandas: Veri biliminin Excel'i gibidir.\n",
    "\n",
    "-Kullanimi: pandas.pydata.org-->documentation da yazar.\n",
    "\n",
    "-Pandas kutuphanesini kullanmak icin: import pandas as pd"
   ]
  },
  {
   "cell_type": "code",
   "execution_count": 6,
   "id": "78491074",
   "metadata": {},
   "outputs": [],
   "source": [
    "import numpy as np\n",
    "import pandas as pd"
   ]
  },
  {
   "cell_type": "markdown",
   "id": "51df8f56",
   "metadata": {},
   "source": [
    "## Series:"
   ]
  },
  {
   "cell_type": "code",
   "execution_count": 7,
   "id": "3d66eef2",
   "metadata": {},
   "outputs": [],
   "source": [
    "benimSozluk = {\"atil\": 50, \"zeynep\": 40, \"mehmet\": 30}"
   ]
  },
  {
   "cell_type": "code",
   "execution_count": 8,
   "id": "8581de85",
   "metadata": {},
   "outputs": [
    {
     "data": {
      "text/plain": [
       "atil      50\n",
       "zeynep    40\n",
       "mehmet    30\n",
       "dtype: int64"
      ]
     },
     "execution_count": 8,
     "metadata": {},
     "output_type": "execute_result"
    }
   ],
   "source": [
    "pd.Series(benimSozluk)"
   ]
  },
  {
   "cell_type": "code",
   "execution_count": 9,
   "id": "3a2e57ec",
   "metadata": {},
   "outputs": [],
   "source": [
    "benimYaslar = [50, 40, 30]\n",
    "benimIsimler = [\"atil\", \"zeynep\", \"mehmet\"]"
   ]
  },
  {
   "cell_type": "code",
   "execution_count": 10,
   "id": "9e7dc0e7",
   "metadata": {},
   "outputs": [
    {
     "data": {
      "text/plain": [
       "0    50\n",
       "1    40\n",
       "2    30\n",
       "dtype: int64"
      ]
     },
     "execution_count": 10,
     "metadata": {},
     "output_type": "execute_result"
    }
   ],
   "source": [
    "pd.Series(benimYaslar) #index no lari otomatik verildi"
   ]
  },
  {
   "cell_type": "code",
   "execution_count": 11,
   "id": "1e607357",
   "metadata": {},
   "outputs": [
    {
     "data": {
      "text/plain": [
       "atil      50\n",
       "zeynep    40\n",
       "mehmet    30\n",
       "dtype: int64"
      ]
     },
     "execution_count": 11,
     "metadata": {},
     "output_type": "execute_result"
    }
   ],
   "source": [
    "pd.Series(data = benimYaslar, index = benimIsimler) #index ve data biz belirledik"
   ]
  },
  {
   "cell_type": "code",
   "execution_count": 12,
   "id": "98602269",
   "metadata": {},
   "outputs": [],
   "source": [
    "numpyDizisi = np.array([50, 40, 30])"
   ]
  },
  {
   "cell_type": "code",
   "execution_count": 13,
   "id": "34b783fe",
   "metadata": {},
   "outputs": [
    {
     "data": {
      "text/plain": [
       "0    50\n",
       "1    40\n",
       "2    30\n",
       "dtype: int32"
      ]
     },
     "execution_count": 13,
     "metadata": {},
     "output_type": "execute_result"
    }
   ],
   "source": [
    "pd.Series(numpyDizisi)"
   ]
  },
  {
   "cell_type": "code",
   "execution_count": 14,
   "id": "6d85dc20",
   "metadata": {},
   "outputs": [
    {
     "data": {
      "text/plain": [
       "atil      50\n",
       "zeynep    40\n",
       "mehmet    30\n",
       "dtype: int32"
      ]
     },
     "execution_count": 14,
     "metadata": {},
     "output_type": "execute_result"
    }
   ],
   "source": [
    "pd.Series(numpyDizisi, benimIsimler) #pd.Series(data, index)"
   ]
  },
  {
   "cell_type": "markdown",
   "id": "53c4779b",
   "metadata": {},
   "source": [
    "## Series Ozellikleri:"
   ]
  },
  {
   "cell_type": "code",
   "execution_count": 15,
   "id": "cd84b136",
   "metadata": {},
   "outputs": [
    {
     "data": {
      "text/plain": [
       "1     atil\n",
       "2    atlas\n",
       "3    osman\n",
       "dtype: object"
      ]
     },
     "execution_count": 15,
     "metadata": {},
     "output_type": "execute_result"
    }
   ],
   "source": [
    "pd.Series([\"atil\", \"atlas\", \"osman\"], [1, 2, 3]) #pd.Series(data, index)"
   ]
  },
  {
   "cell_type": "code",
   "execution_count": 16,
   "id": "d6e440df",
   "metadata": {},
   "outputs": [],
   "source": [
    "yarismaSonucu1 = pd.Series([10, 5, 1], [\"atil\", \"atlas\", \"osman\"])\n",
    "yarismaSonucu2 = pd.Series([20, 10, 8], [\"atil\", \"atlas\", \"osman\"])"
   ]
  },
  {
   "cell_type": "code",
   "execution_count": 17,
   "id": "5bdaf981",
   "metadata": {},
   "outputs": [
    {
     "data": {
      "text/plain": [
       "10"
      ]
     },
     "execution_count": 17,
     "metadata": {},
     "output_type": "execute_result"
    }
   ],
   "source": [
    "yarismaSonucu2[\"atlas\"] #index(\"atlas\") verdik, data(10) geldi"
   ]
  },
  {
   "cell_type": "code",
   "execution_count": 18,
   "id": "612ed3cb",
   "metadata": {},
   "outputs": [
    {
     "data": {
      "text/plain": [
       "atil     30\n",
       "atlas    15\n",
       "osman     9\n",
       "dtype: int64"
      ]
     },
     "execution_count": 18,
     "metadata": {},
     "output_type": "execute_result"
    }
   ],
   "source": [
    "sonSonuc = yarismaSonucu1 + yarismaSonucu2 #Seriler direk toplanabilir\n",
    "sonSonuc"
   ]
  },
  {
   "cell_type": "code",
   "execution_count": 19,
   "id": "51376a2d",
   "metadata": {},
   "outputs": [],
   "source": [
    "farkliSeries1 = pd.Series([20 ,30 ,40 , 50], [\"a\", \"b\", \"c\", \"d\"])\n",
    "farkliSeries2 = pd.Series([10 ,5 ,3 , 1], [\"a\", \"c\", \"f\", \"g\"])"
   ]
  },
  {
   "cell_type": "code",
   "execution_count": 20,
   "id": "43d2a59b",
   "metadata": {},
   "outputs": [
    {
     "data": {
      "text/plain": [
       "a    30.0\n",
       "b     NaN\n",
       "c    45.0\n",
       "d     NaN\n",
       "f     NaN\n",
       "g     NaN\n",
       "dtype: float64"
      ]
     },
     "execution_count": 20,
     "metadata": {},
     "output_type": "execute_result"
    }
   ],
   "source": [
    "farkliSeries1 + farkliSeries2 #Yalnizca indexleri kesişen degerleri topladi, digerleri Nan olarak geldi."
   ]
  },
  {
   "cell_type": "markdown",
   "id": "e85f1b80",
   "metadata": {},
   "source": [
    "## DataFrame:\n",
    "\n",
    "Serilerin birlestirilmis hali gbi dusunulebilir. Bir nevi bir tablo gibi."
   ]
  },
  {
   "cell_type": "code",
   "execution_count": 21,
   "id": "143c4819",
   "metadata": {},
   "outputs": [],
   "source": [
    "data = np.random.randn(4, 3) #4x3 luk rastgele float degerlerden olusan bir matris"
   ]
  },
  {
   "cell_type": "code",
   "execution_count": 22,
   "id": "337f863d",
   "metadata": {},
   "outputs": [
    {
     "data": {
      "text/html": [
       "<div>\n",
       "<style scoped>\n",
       "    .dataframe tbody tr th:only-of-type {\n",
       "        vertical-align: middle;\n",
       "    }\n",
       "\n",
       "    .dataframe tbody tr th {\n",
       "        vertical-align: top;\n",
       "    }\n",
       "\n",
       "    .dataframe thead th {\n",
       "        text-align: right;\n",
       "    }\n",
       "</style>\n",
       "<table border=\"1\" class=\"dataframe\">\n",
       "  <thead>\n",
       "    <tr style=\"text-align: right;\">\n",
       "      <th></th>\n",
       "      <th>0</th>\n",
       "      <th>1</th>\n",
       "      <th>2</th>\n",
       "    </tr>\n",
       "  </thead>\n",
       "  <tbody>\n",
       "    <tr>\n",
       "      <th>0</th>\n",
       "      <td>-1.063739</td>\n",
       "      <td>1.830444</td>\n",
       "      <td>0.020648</td>\n",
       "    </tr>\n",
       "    <tr>\n",
       "      <th>1</th>\n",
       "      <td>-1.657582</td>\n",
       "      <td>0.472745</td>\n",
       "      <td>-1.959529</td>\n",
       "    </tr>\n",
       "    <tr>\n",
       "      <th>2</th>\n",
       "      <td>1.618407</td>\n",
       "      <td>-0.670915</td>\n",
       "      <td>-1.317050</td>\n",
       "    </tr>\n",
       "    <tr>\n",
       "      <th>3</th>\n",
       "      <td>1.462490</td>\n",
       "      <td>0.178898</td>\n",
       "      <td>-0.387530</td>\n",
       "    </tr>\n",
       "  </tbody>\n",
       "</table>\n",
       "</div>"
      ],
      "text/plain": [
       "          0         1         2\n",
       "0 -1.063739  1.830444  0.020648\n",
       "1 -1.657582  0.472745 -1.959529\n",
       "2  1.618407 -0.670915 -1.317050\n",
       "3  1.462490  0.178898 -0.387530"
      ]
     },
     "execution_count": 22,
     "metadata": {},
     "output_type": "execute_result"
    }
   ],
   "source": [
    "dataFrame = pd.DataFrame(data)\n",
    "dataFrame\n",
    "\n",
    "#yukaridaki 0,1,2: kolonlar --> Kolonlarin her biri aslinda birer Seri.\n",
    "#soldaki 0,1,2,3: indexler"
   ]
  },
  {
   "cell_type": "code",
   "execution_count": 23,
   "id": "23331a2c",
   "metadata": {},
   "outputs": [
    {
     "data": {
      "text/plain": [
       "0   -1.063739\n",
       "1   -1.657582\n",
       "2    1.618407\n",
       "3    1.462490\n",
       "Name: 0, dtype: float64"
      ]
     },
     "execution_count": 23,
     "metadata": {},
     "output_type": "execute_result"
    }
   ],
   "source": [
    "dataFrame[0] #0. kolonu getir"
   ]
  },
  {
   "cell_type": "code",
   "execution_count": 24,
   "id": "fbf5aff8",
   "metadata": {},
   "outputs": [
    {
     "data": {
      "text/html": [
       "<div>\n",
       "<style scoped>\n",
       "    .dataframe tbody tr th:only-of-type {\n",
       "        vertical-align: middle;\n",
       "    }\n",
       "\n",
       "    .dataframe tbody tr th {\n",
       "        vertical-align: top;\n",
       "    }\n",
       "\n",
       "    .dataframe thead th {\n",
       "        text-align: right;\n",
       "    }\n",
       "</style>\n",
       "<table border=\"1\" class=\"dataframe\">\n",
       "  <thead>\n",
       "    <tr style=\"text-align: right;\">\n",
       "      <th></th>\n",
       "      <th>maas</th>\n",
       "      <th>yas</th>\n",
       "      <th>saat</th>\n",
       "    </tr>\n",
       "  </thead>\n",
       "  <tbody>\n",
       "    <tr>\n",
       "      <th>atil</th>\n",
       "      <td>-1.063739</td>\n",
       "      <td>1.830444</td>\n",
       "      <td>0.020648</td>\n",
       "    </tr>\n",
       "    <tr>\n",
       "      <th>zeynep</th>\n",
       "      <td>-1.657582</td>\n",
       "      <td>0.472745</td>\n",
       "      <td>-1.959529</td>\n",
       "    </tr>\n",
       "    <tr>\n",
       "      <th>atlas</th>\n",
       "      <td>1.618407</td>\n",
       "      <td>-0.670915</td>\n",
       "      <td>-1.317050</td>\n",
       "    </tr>\n",
       "    <tr>\n",
       "      <th>mehmet</th>\n",
       "      <td>1.462490</td>\n",
       "      <td>0.178898</td>\n",
       "      <td>-0.387530</td>\n",
       "    </tr>\n",
       "  </tbody>\n",
       "</table>\n",
       "</div>"
      ],
      "text/plain": [
       "            maas       yas      saat\n",
       "atil   -1.063739  1.830444  0.020648\n",
       "zeynep -1.657582  0.472745 -1.959529\n",
       "atlas   1.618407 -0.670915 -1.317050\n",
       "mehmet  1.462490  0.178898 -0.387530"
      ]
     },
     "execution_count": 24,
     "metadata": {},
     "output_type": "execute_result"
    }
   ],
   "source": [
    "yeniDataFrame = pd.DataFrame(data, index = [\"atil\", \"zeynep\", \"atlas\", \"mehmet\"], \n",
    "                             columns = [\"maas\", \"yas\", \"saat\"]) #pd.DataFrame(data, index, columns)\n",
    "yeniDataFrame"
   ]
  },
  {
   "cell_type": "code",
   "execution_count": 25,
   "id": "adbc04a9",
   "metadata": {},
   "outputs": [
    {
     "data": {
      "text/plain": [
       "atil      1.830444\n",
       "zeynep    0.472745\n",
       "atlas    -0.670915\n",
       "mehmet    0.178898\n",
       "Name: yas, dtype: float64"
      ]
     },
     "execution_count": 25,
     "metadata": {},
     "output_type": "execute_result"
    }
   ],
   "source": [
    "yeniDataFrame[\"yas\"] #kolon indexi yas olan kolonu getir"
   ]
  },
  {
   "cell_type": "code",
   "execution_count": 26,
   "id": "6c6aa797",
   "metadata": {},
   "outputs": [
    {
     "data": {
      "text/html": [
       "<div>\n",
       "<style scoped>\n",
       "    .dataframe tbody tr th:only-of-type {\n",
       "        vertical-align: middle;\n",
       "    }\n",
       "\n",
       "    .dataframe tbody tr th {\n",
       "        vertical-align: top;\n",
       "    }\n",
       "\n",
       "    .dataframe thead th {\n",
       "        text-align: right;\n",
       "    }\n",
       "</style>\n",
       "<table border=\"1\" class=\"dataframe\">\n",
       "  <thead>\n",
       "    <tr style=\"text-align: right;\">\n",
       "      <th></th>\n",
       "      <th>maas</th>\n",
       "      <th>yas</th>\n",
       "    </tr>\n",
       "  </thead>\n",
       "  <tbody>\n",
       "    <tr>\n",
       "      <th>atil</th>\n",
       "      <td>-1.063739</td>\n",
       "      <td>1.830444</td>\n",
       "    </tr>\n",
       "    <tr>\n",
       "      <th>zeynep</th>\n",
       "      <td>-1.657582</td>\n",
       "      <td>0.472745</td>\n",
       "    </tr>\n",
       "    <tr>\n",
       "      <th>atlas</th>\n",
       "      <td>1.618407</td>\n",
       "      <td>-0.670915</td>\n",
       "    </tr>\n",
       "    <tr>\n",
       "      <th>mehmet</th>\n",
       "      <td>1.462490</td>\n",
       "      <td>0.178898</td>\n",
       "    </tr>\n",
       "  </tbody>\n",
       "</table>\n",
       "</div>"
      ],
      "text/plain": [
       "            maas       yas\n",
       "atil   -1.063739  1.830444\n",
       "zeynep -1.657582  0.472745\n",
       "atlas   1.618407 -0.670915\n",
       "mehmet  1.462490  0.178898"
      ]
     },
     "execution_count": 26,
     "metadata": {},
     "output_type": "execute_result"
    }
   ],
   "source": [
    "yeniDataFrame[[\"maas\", \"yas\"]] #2 kolon getir"
   ]
  },
  {
   "cell_type": "code",
   "execution_count": 27,
   "id": "8609f492",
   "metadata": {},
   "outputs": [
    {
     "data": {
      "text/plain": [
       "maas   -1.063739\n",
       "yas     1.830444\n",
       "saat    0.020648\n",
       "Name: atil, dtype: float64"
      ]
     },
     "execution_count": 27,
     "metadata": {},
     "output_type": "execute_result"
    }
   ],
   "source": [
    "#.loc: locate\n",
    "\n",
    "yeniDataFrame.loc[\"atil\"] #atil satirindaki verileri getirir"
   ]
  },
  {
   "cell_type": "code",
   "execution_count": 28,
   "id": "cac29ff9",
   "metadata": {},
   "outputs": [
    {
     "data": {
      "text/plain": [
       "maas   -1.063739\n",
       "yas     1.830444\n",
       "saat    0.020648\n",
       "Name: atil, dtype: float64"
      ]
     },
     "execution_count": 28,
     "metadata": {},
     "output_type": "execute_result"
    }
   ],
   "source": [
    "#.iloc: index bazli lokasyon. index mantigi da DataFrame'de calismaya dvm eder.\n",
    "\n",
    "yeniDataFrame.iloc[0] #atilin verileri gelir"
   ]
  },
  {
   "cell_type": "code",
   "execution_count": 29,
   "id": "13b4afe3",
   "metadata": {},
   "outputs": [
    {
     "data": {
      "text/html": [
       "<div>\n",
       "<style scoped>\n",
       "    .dataframe tbody tr th:only-of-type {\n",
       "        vertical-align: middle;\n",
       "    }\n",
       "\n",
       "    .dataframe tbody tr th {\n",
       "        vertical-align: top;\n",
       "    }\n",
       "\n",
       "    .dataframe thead th {\n",
       "        text-align: right;\n",
       "    }\n",
       "</style>\n",
       "<table border=\"1\" class=\"dataframe\">\n",
       "  <thead>\n",
       "    <tr style=\"text-align: right;\">\n",
       "      <th></th>\n",
       "      <th>maas</th>\n",
       "      <th>yas</th>\n",
       "      <th>saat</th>\n",
       "      <th>emekli yasi</th>\n",
       "    </tr>\n",
       "  </thead>\n",
       "  <tbody>\n",
       "    <tr>\n",
       "      <th>atil</th>\n",
       "      <td>-1.063739</td>\n",
       "      <td>1.830444</td>\n",
       "      <td>0.020648</td>\n",
       "      <td>3.660887</td>\n",
       "    </tr>\n",
       "    <tr>\n",
       "      <th>zeynep</th>\n",
       "      <td>-1.657582</td>\n",
       "      <td>0.472745</td>\n",
       "      <td>-1.959529</td>\n",
       "      <td>0.945489</td>\n",
       "    </tr>\n",
       "    <tr>\n",
       "      <th>atlas</th>\n",
       "      <td>1.618407</td>\n",
       "      <td>-0.670915</td>\n",
       "      <td>-1.317050</td>\n",
       "      <td>-1.341830</td>\n",
       "    </tr>\n",
       "    <tr>\n",
       "      <th>mehmet</th>\n",
       "      <td>1.462490</td>\n",
       "      <td>0.178898</td>\n",
       "      <td>-0.387530</td>\n",
       "      <td>0.357796</td>\n",
       "    </tr>\n",
       "  </tbody>\n",
       "</table>\n",
       "</div>"
      ],
      "text/plain": [
       "            maas       yas      saat  emekli yasi\n",
       "atil   -1.063739  1.830444  0.020648     3.660887\n",
       "zeynep -1.657582  0.472745 -1.959529     0.945489\n",
       "atlas   1.618407 -0.670915 -1.317050    -1.341830\n",
       "mehmet  1.462490  0.178898 -0.387530     0.357796"
      ]
     },
     "execution_count": 29,
     "metadata": {},
     "output_type": "execute_result"
    }
   ],
   "source": [
    "#DataFrame'e yeni kolon ekleme:\n",
    "\n",
    "yeniDataFrame[\"emekli yasi\"] = yeniDataFrame[\"yas\"] + yeniDataFrame[\"yas\"] #[\"emekliyasi\"]: kolon indexi\n",
    "yeniDataFrame"
   ]
  },
  {
   "cell_type": "code",
   "execution_count": 30,
   "id": "77369fd0",
   "metadata": {},
   "outputs": [
    {
     "data": {
      "text/html": [
       "<div>\n",
       "<style scoped>\n",
       "    .dataframe tbody tr th:only-of-type {\n",
       "        vertical-align: middle;\n",
       "    }\n",
       "\n",
       "    .dataframe tbody tr th {\n",
       "        vertical-align: top;\n",
       "    }\n",
       "\n",
       "    .dataframe thead th {\n",
       "        text-align: right;\n",
       "    }\n",
       "</style>\n",
       "<table border=\"1\" class=\"dataframe\">\n",
       "  <thead>\n",
       "    <tr style=\"text-align: right;\">\n",
       "      <th></th>\n",
       "      <th>maas</th>\n",
       "      <th>yas</th>\n",
       "      <th>saat</th>\n",
       "    </tr>\n",
       "  </thead>\n",
       "  <tbody>\n",
       "    <tr>\n",
       "      <th>atil</th>\n",
       "      <td>-1.063739</td>\n",
       "      <td>1.830444</td>\n",
       "      <td>0.020648</td>\n",
       "    </tr>\n",
       "    <tr>\n",
       "      <th>zeynep</th>\n",
       "      <td>-1.657582</td>\n",
       "      <td>0.472745</td>\n",
       "      <td>-1.959529</td>\n",
       "    </tr>\n",
       "    <tr>\n",
       "      <th>atlas</th>\n",
       "      <td>1.618407</td>\n",
       "      <td>-0.670915</td>\n",
       "      <td>-1.317050</td>\n",
       "    </tr>\n",
       "    <tr>\n",
       "      <th>mehmet</th>\n",
       "      <td>1.462490</td>\n",
       "      <td>0.178898</td>\n",
       "      <td>-0.387530</td>\n",
       "    </tr>\n",
       "  </tbody>\n",
       "</table>\n",
       "</div>"
      ],
      "text/plain": [
       "            maas       yas      saat\n",
       "atil   -1.063739  1.830444  0.020648\n",
       "zeynep -1.657582  0.472745 -1.959529\n",
       "atlas   1.618407 -0.670915 -1.317050\n",
       "mehmet  1.462490  0.178898 -0.387530"
      ]
     },
     "execution_count": 30,
     "metadata": {},
     "output_type": "execute_result"
    }
   ],
   "source": [
    "#DataFrame'den kolon silme:\n",
    "\n",
    "yeniDataFrame.drop(\"emekli yasi\", axis = 1) \n",
    "#axis = 1:kolon #kolondan emekliyasi verilerini sil\n",
    "#orj veriyi etkilemez"
   ]
  },
  {
   "cell_type": "code",
   "execution_count": 31,
   "id": "ab967fbd",
   "metadata": {},
   "outputs": [
    {
     "data": {
      "text/html": [
       "<div>\n",
       "<style scoped>\n",
       "    .dataframe tbody tr th:only-of-type {\n",
       "        vertical-align: middle;\n",
       "    }\n",
       "\n",
       "    .dataframe tbody tr th {\n",
       "        vertical-align: top;\n",
       "    }\n",
       "\n",
       "    .dataframe thead th {\n",
       "        text-align: right;\n",
       "    }\n",
       "</style>\n",
       "<table border=\"1\" class=\"dataframe\">\n",
       "  <thead>\n",
       "    <tr style=\"text-align: right;\">\n",
       "      <th></th>\n",
       "      <th>maas</th>\n",
       "      <th>yas</th>\n",
       "      <th>saat</th>\n",
       "      <th>emekli yasi</th>\n",
       "    </tr>\n",
       "  </thead>\n",
       "  <tbody>\n",
       "    <tr>\n",
       "      <th>atil</th>\n",
       "      <td>-1.063739</td>\n",
       "      <td>1.830444</td>\n",
       "      <td>0.020648</td>\n",
       "      <td>3.660887</td>\n",
       "    </tr>\n",
       "    <tr>\n",
       "      <th>zeynep</th>\n",
       "      <td>-1.657582</td>\n",
       "      <td>0.472745</td>\n",
       "      <td>-1.959529</td>\n",
       "      <td>0.945489</td>\n",
       "    </tr>\n",
       "    <tr>\n",
       "      <th>atlas</th>\n",
       "      <td>1.618407</td>\n",
       "      <td>-0.670915</td>\n",
       "      <td>-1.317050</td>\n",
       "      <td>-1.341830</td>\n",
       "    </tr>\n",
       "  </tbody>\n",
       "</table>\n",
       "</div>"
      ],
      "text/plain": [
       "            maas       yas      saat  emekli yasi\n",
       "atil   -1.063739  1.830444  0.020648     3.660887\n",
       "zeynep -1.657582  0.472745 -1.959529     0.945489\n",
       "atlas   1.618407 -0.670915 -1.317050    -1.341830"
      ]
     },
     "execution_count": 31,
     "metadata": {},
     "output_type": "execute_result"
    }
   ],
   "source": [
    "#DataFrame'den satir silme:\n",
    "\n",
    "yeniDataFrame.drop(\"mehmet\", axis = 0) \n",
    "#axis = 0:satir #satirdan mehmetin verilerini sil\n",
    "#orj veriyi etkilemez"
   ]
  },
  {
   "cell_type": "code",
   "execution_count": 32,
   "id": "90dec1d6",
   "metadata": {},
   "outputs": [
    {
     "data": {
      "text/html": [
       "<div>\n",
       "<style scoped>\n",
       "    .dataframe tbody tr th:only-of-type {\n",
       "        vertical-align: middle;\n",
       "    }\n",
       "\n",
       "    .dataframe tbody tr th {\n",
       "        vertical-align: top;\n",
       "    }\n",
       "\n",
       "    .dataframe thead th {\n",
       "        text-align: right;\n",
       "    }\n",
       "</style>\n",
       "<table border=\"1\" class=\"dataframe\">\n",
       "  <thead>\n",
       "    <tr style=\"text-align: right;\">\n",
       "      <th></th>\n",
       "      <th>maas</th>\n",
       "      <th>yas</th>\n",
       "      <th>saat</th>\n",
       "      <th>emekli yasi</th>\n",
       "    </tr>\n",
       "  </thead>\n",
       "  <tbody>\n",
       "    <tr>\n",
       "      <th>atil</th>\n",
       "      <td>-1.063739</td>\n",
       "      <td>1.830444</td>\n",
       "      <td>0.020648</td>\n",
       "      <td>3.660887</td>\n",
       "    </tr>\n",
       "    <tr>\n",
       "      <th>zeynep</th>\n",
       "      <td>-1.657582</td>\n",
       "      <td>0.472745</td>\n",
       "      <td>-1.959529</td>\n",
       "      <td>0.945489</td>\n",
       "    </tr>\n",
       "    <tr>\n",
       "      <th>atlas</th>\n",
       "      <td>1.618407</td>\n",
       "      <td>-0.670915</td>\n",
       "      <td>-1.317050</td>\n",
       "      <td>-1.341830</td>\n",
       "    </tr>\n",
       "    <tr>\n",
       "      <th>mehmet</th>\n",
       "      <td>1.462490</td>\n",
       "      <td>0.178898</td>\n",
       "      <td>-0.387530</td>\n",
       "      <td>0.357796</td>\n",
       "    </tr>\n",
       "  </tbody>\n",
       "</table>\n",
       "</div>"
      ],
      "text/plain": [
       "            maas       yas      saat  emekli yasi\n",
       "atil   -1.063739  1.830444  0.020648     3.660887\n",
       "zeynep -1.657582  0.472745 -1.959529     0.945489\n",
       "atlas   1.618407 -0.670915 -1.317050    -1.341830\n",
       "mehmet  1.462490  0.178898 -0.387530     0.357796"
      ]
     },
     "execution_count": 32,
     "metadata": {},
     "output_type": "execute_result"
    }
   ],
   "source": [
    "#orj veride herhangi bir silinme olmaz\n",
    "#emekliyasi ve mehmet duruyor\n",
    "\n",
    "yeniDataFrame "
   ]
  },
  {
   "cell_type": "code",
   "execution_count": 33,
   "id": "a38db9c4",
   "metadata": {},
   "outputs": [
    {
     "data": {
      "text/html": [
       "<div>\n",
       "<style scoped>\n",
       "    .dataframe tbody tr th:only-of-type {\n",
       "        vertical-align: middle;\n",
       "    }\n",
       "\n",
       "    .dataframe tbody tr th {\n",
       "        vertical-align: top;\n",
       "    }\n",
       "\n",
       "    .dataframe thead th {\n",
       "        text-align: right;\n",
       "    }\n",
       "</style>\n",
       "<table border=\"1\" class=\"dataframe\">\n",
       "  <thead>\n",
       "    <tr style=\"text-align: right;\">\n",
       "      <th></th>\n",
       "      <th>maas</th>\n",
       "      <th>yas</th>\n",
       "      <th>saat</th>\n",
       "    </tr>\n",
       "  </thead>\n",
       "  <tbody>\n",
       "    <tr>\n",
       "      <th>atil</th>\n",
       "      <td>-1.063739</td>\n",
       "      <td>1.830444</td>\n",
       "      <td>0.020648</td>\n",
       "    </tr>\n",
       "    <tr>\n",
       "      <th>zeynep</th>\n",
       "      <td>-1.657582</td>\n",
       "      <td>0.472745</td>\n",
       "      <td>-1.959529</td>\n",
       "    </tr>\n",
       "    <tr>\n",
       "      <th>atlas</th>\n",
       "      <td>1.618407</td>\n",
       "      <td>-0.670915</td>\n",
       "      <td>-1.317050</td>\n",
       "    </tr>\n",
       "    <tr>\n",
       "      <th>mehmet</th>\n",
       "      <td>1.462490</td>\n",
       "      <td>0.178898</td>\n",
       "      <td>-0.387530</td>\n",
       "    </tr>\n",
       "  </tbody>\n",
       "</table>\n",
       "</div>"
      ],
      "text/plain": [
       "            maas       yas      saat\n",
       "atil   -1.063739  1.830444  0.020648\n",
       "zeynep -1.657582  0.472745 -1.959529\n",
       "atlas   1.618407 -0.670915 -1.317050\n",
       "mehmet  1.462490  0.178898 -0.387530"
      ]
     },
     "execution_count": 33,
     "metadata": {},
     "output_type": "execute_result"
    }
   ],
   "source": [
    "# silme isleminde, orj. veride degisiklik yapmak icin\n",
    "\n",
    "yeniDataFrame.drop(\"emekli yasi\", axis= 1, inplace= True) #inplace: yerinde degisiklik yap\n",
    "yeniDataFrame"
   ]
  },
  {
   "cell_type": "code",
   "execution_count": 34,
   "id": "13c994be",
   "metadata": {},
   "outputs": [
    {
     "data": {
      "text/plain": [
       "0.020647897977678926"
      ]
     },
     "execution_count": 34,
     "metadata": {},
     "output_type": "execute_result"
    }
   ],
   "source": [
    "yeniDataFrame.loc[\"atil\"][\"saat\"] #atilin calisma saati gelir"
   ]
  },
  {
   "cell_type": "code",
   "execution_count": 35,
   "id": "1ec0b4f7",
   "metadata": {},
   "outputs": [
    {
     "data": {
      "text/plain": [
       "0.020647897977678926"
      ]
     },
     "execution_count": 35,
     "metadata": {},
     "output_type": "execute_result"
    }
   ],
   "source": [
    "yeniDataFrame.loc[\"atil\", \"saat\"] #yukaridaki ile ayni isi yapar"
   ]
  },
  {
   "cell_type": "code",
   "execution_count": 36,
   "id": "7cceb0f1",
   "metadata": {},
   "outputs": [
    {
     "data": {
      "text/html": [
       "<div>\n",
       "<style scoped>\n",
       "    .dataframe tbody tr th:only-of-type {\n",
       "        vertical-align: middle;\n",
       "    }\n",
       "\n",
       "    .dataframe tbody tr th {\n",
       "        vertical-align: top;\n",
       "    }\n",
       "\n",
       "    .dataframe thead th {\n",
       "        text-align: right;\n",
       "    }\n",
       "</style>\n",
       "<table border=\"1\" class=\"dataframe\">\n",
       "  <thead>\n",
       "    <tr style=\"text-align: right;\">\n",
       "      <th></th>\n",
       "      <th>maas</th>\n",
       "      <th>yas</th>\n",
       "      <th>saat</th>\n",
       "    </tr>\n",
       "  </thead>\n",
       "  <tbody>\n",
       "    <tr>\n",
       "      <th>atil</th>\n",
       "      <td>True</td>\n",
       "      <td>False</td>\n",
       "      <td>False</td>\n",
       "    </tr>\n",
       "    <tr>\n",
       "      <th>zeynep</th>\n",
       "      <td>True</td>\n",
       "      <td>False</td>\n",
       "      <td>True</td>\n",
       "    </tr>\n",
       "    <tr>\n",
       "      <th>atlas</th>\n",
       "      <td>False</td>\n",
       "      <td>True</td>\n",
       "      <td>True</td>\n",
       "    </tr>\n",
       "    <tr>\n",
       "      <th>mehmet</th>\n",
       "      <td>False</td>\n",
       "      <td>False</td>\n",
       "      <td>True</td>\n",
       "    </tr>\n",
       "  </tbody>\n",
       "</table>\n",
       "</div>"
      ],
      "text/plain": [
       "         maas    yas   saat\n",
       "atil     True  False  False\n",
       "zeynep   True  False   True\n",
       "atlas   False   True   True\n",
       "mehmet  False  False   True"
      ]
     },
     "execution_count": 36,
     "metadata": {},
     "output_type": "execute_result"
    }
   ],
   "source": [
    "yeniDataFrame < 0"
   ]
  },
  {
   "cell_type": "code",
   "execution_count": 37,
   "id": "f2dd54bb",
   "metadata": {},
   "outputs": [
    {
     "data": {
      "text/html": [
       "<div>\n",
       "<style scoped>\n",
       "    .dataframe tbody tr th:only-of-type {\n",
       "        vertical-align: middle;\n",
       "    }\n",
       "\n",
       "    .dataframe tbody tr th {\n",
       "        vertical-align: top;\n",
       "    }\n",
       "\n",
       "    .dataframe thead th {\n",
       "        text-align: right;\n",
       "    }\n",
       "</style>\n",
       "<table border=\"1\" class=\"dataframe\">\n",
       "  <thead>\n",
       "    <tr style=\"text-align: right;\">\n",
       "      <th></th>\n",
       "      <th>maas</th>\n",
       "      <th>yas</th>\n",
       "      <th>saat</th>\n",
       "    </tr>\n",
       "  </thead>\n",
       "  <tbody>\n",
       "    <tr>\n",
       "      <th>atil</th>\n",
       "      <td>True</td>\n",
       "      <td>False</td>\n",
       "      <td>False</td>\n",
       "    </tr>\n",
       "    <tr>\n",
       "      <th>zeynep</th>\n",
       "      <td>True</td>\n",
       "      <td>False</td>\n",
       "      <td>True</td>\n",
       "    </tr>\n",
       "    <tr>\n",
       "      <th>atlas</th>\n",
       "      <td>False</td>\n",
       "      <td>True</td>\n",
       "      <td>True</td>\n",
       "    </tr>\n",
       "    <tr>\n",
       "      <th>mehmet</th>\n",
       "      <td>False</td>\n",
       "      <td>False</td>\n",
       "      <td>True</td>\n",
       "    </tr>\n",
       "  </tbody>\n",
       "</table>\n",
       "</div>"
      ],
      "text/plain": [
       "         maas    yas   saat\n",
       "atil     True  False  False\n",
       "zeynep   True  False   True\n",
       "atlas   False   True   True\n",
       "mehmet  False  False   True"
      ]
     },
     "execution_count": 37,
     "metadata": {},
     "output_type": "execute_result"
    }
   ],
   "source": [
    "booleanFrame = yeniDataFrame < 0\n",
    "booleanFrame"
   ]
  },
  {
   "cell_type": "code",
   "execution_count": 38,
   "id": "475f1606",
   "metadata": {},
   "outputs": [
    {
     "data": {
      "text/html": [
       "<div>\n",
       "<style scoped>\n",
       "    .dataframe tbody tr th:only-of-type {\n",
       "        vertical-align: middle;\n",
       "    }\n",
       "\n",
       "    .dataframe tbody tr th {\n",
       "        vertical-align: top;\n",
       "    }\n",
       "\n",
       "    .dataframe thead th {\n",
       "        text-align: right;\n",
       "    }\n",
       "</style>\n",
       "<table border=\"1\" class=\"dataframe\">\n",
       "  <thead>\n",
       "    <tr style=\"text-align: right;\">\n",
       "      <th></th>\n",
       "      <th>maas</th>\n",
       "      <th>yas</th>\n",
       "      <th>saat</th>\n",
       "    </tr>\n",
       "  </thead>\n",
       "  <tbody>\n",
       "    <tr>\n",
       "      <th>atil</th>\n",
       "      <td>-1.063739</td>\n",
       "      <td>1.830444</td>\n",
       "      <td>0.020648</td>\n",
       "    </tr>\n",
       "    <tr>\n",
       "      <th>zeynep</th>\n",
       "      <td>-1.657582</td>\n",
       "      <td>0.472745</td>\n",
       "      <td>-1.959529</td>\n",
       "    </tr>\n",
       "    <tr>\n",
       "      <th>atlas</th>\n",
       "      <td>1.618407</td>\n",
       "      <td>-0.670915</td>\n",
       "      <td>-1.317050</td>\n",
       "    </tr>\n",
       "    <tr>\n",
       "      <th>mehmet</th>\n",
       "      <td>1.462490</td>\n",
       "      <td>0.178898</td>\n",
       "      <td>-0.387530</td>\n",
       "    </tr>\n",
       "  </tbody>\n",
       "</table>\n",
       "</div>"
      ],
      "text/plain": [
       "            maas       yas      saat\n",
       "atil   -1.063739  1.830444  0.020648\n",
       "zeynep -1.657582  0.472745 -1.959529\n",
       "atlas   1.618407 -0.670915 -1.317050\n",
       "mehmet  1.462490  0.178898 -0.387530"
      ]
     },
     "execution_count": 38,
     "metadata": {},
     "output_type": "execute_result"
    }
   ],
   "source": [
    "yeniDataFrame #orj. duruyor"
   ]
  },
  {
   "cell_type": "code",
   "execution_count": 39,
   "id": "3e57a037",
   "metadata": {},
   "outputs": [
    {
     "data": {
      "text/html": [
       "<div>\n",
       "<style scoped>\n",
       "    .dataframe tbody tr th:only-of-type {\n",
       "        vertical-align: middle;\n",
       "    }\n",
       "\n",
       "    .dataframe tbody tr th {\n",
       "        vertical-align: top;\n",
       "    }\n",
       "\n",
       "    .dataframe thead th {\n",
       "        text-align: right;\n",
       "    }\n",
       "</style>\n",
       "<table border=\"1\" class=\"dataframe\">\n",
       "  <thead>\n",
       "    <tr style=\"text-align: right;\">\n",
       "      <th></th>\n",
       "      <th>maas</th>\n",
       "      <th>yas</th>\n",
       "      <th>saat</th>\n",
       "    </tr>\n",
       "  </thead>\n",
       "  <tbody>\n",
       "    <tr>\n",
       "      <th>atil</th>\n",
       "      <td>-1.063739</td>\n",
       "      <td>NaN</td>\n",
       "      <td>NaN</td>\n",
       "    </tr>\n",
       "    <tr>\n",
       "      <th>zeynep</th>\n",
       "      <td>-1.657582</td>\n",
       "      <td>NaN</td>\n",
       "      <td>-1.959529</td>\n",
       "    </tr>\n",
       "    <tr>\n",
       "      <th>atlas</th>\n",
       "      <td>NaN</td>\n",
       "      <td>-0.670915</td>\n",
       "      <td>-1.317050</td>\n",
       "    </tr>\n",
       "    <tr>\n",
       "      <th>mehmet</th>\n",
       "      <td>NaN</td>\n",
       "      <td>NaN</td>\n",
       "      <td>-0.387530</td>\n",
       "    </tr>\n",
       "  </tbody>\n",
       "</table>\n",
       "</div>"
      ],
      "text/plain": [
       "            maas       yas      saat\n",
       "atil   -1.063739       NaN       NaN\n",
       "zeynep -1.657582       NaN -1.959529\n",
       "atlas        NaN -0.670915 -1.317050\n",
       "mehmet       NaN       NaN -0.387530"
      ]
     },
     "execution_count": 39,
     "metadata": {},
     "output_type": "execute_result"
    }
   ],
   "source": [
    "yeniDataFrame[booleanFrame] #yalnizca 0 dan kucuklerin degerini verir\n",
    "#veya yeniDataFrame[yeniDataFrame < 0]"
   ]
  },
  {
   "cell_type": "code",
   "execution_count": 40,
   "id": "a00d2b59",
   "metadata": {},
   "outputs": [
    {
     "data": {
      "text/html": [
       "<div>\n",
       "<style scoped>\n",
       "    .dataframe tbody tr th:only-of-type {\n",
       "        vertical-align: middle;\n",
       "    }\n",
       "\n",
       "    .dataframe tbody tr th {\n",
       "        vertical-align: top;\n",
       "    }\n",
       "\n",
       "    .dataframe thead th {\n",
       "        text-align: right;\n",
       "    }\n",
       "</style>\n",
       "<table border=\"1\" class=\"dataframe\">\n",
       "  <thead>\n",
       "    <tr style=\"text-align: right;\">\n",
       "      <th></th>\n",
       "      <th>maas</th>\n",
       "      <th>yas</th>\n",
       "      <th>saat</th>\n",
       "    </tr>\n",
       "  </thead>\n",
       "  <tbody>\n",
       "    <tr>\n",
       "      <th>atil</th>\n",
       "      <td>-1.063739</td>\n",
       "      <td>1.830444</td>\n",
       "      <td>0.020648</td>\n",
       "    </tr>\n",
       "    <tr>\n",
       "      <th>zeynep</th>\n",
       "      <td>-1.657582</td>\n",
       "      <td>0.472745</td>\n",
       "      <td>-1.959529</td>\n",
       "    </tr>\n",
       "    <tr>\n",
       "      <th>mehmet</th>\n",
       "      <td>1.462490</td>\n",
       "      <td>0.178898</td>\n",
       "      <td>-0.387530</td>\n",
       "    </tr>\n",
       "  </tbody>\n",
       "</table>\n",
       "</div>"
      ],
      "text/plain": [
       "            maas       yas      saat\n",
       "atil   -1.063739  1.830444  0.020648\n",
       "zeynep -1.657582  0.472745 -1.959529\n",
       "mehmet  1.462490  0.178898 -0.387530"
      ]
     },
     "execution_count": 40,
     "metadata": {},
     "output_type": "execute_result"
    }
   ],
   "source": [
    "yeniDataFrame[yeniDataFrame[\"yas\"] > 0] #sadece yasi>0 olanlari gosterir"
   ]
  },
  {
   "cell_type": "markdown",
   "id": "c015d062",
   "metadata": {},
   "source": [
    "## index degistirme:"
   ]
  },
  {
   "cell_type": "code",
   "execution_count": 41,
   "id": "26faa453",
   "metadata": {},
   "outputs": [
    {
     "data": {
      "text/html": [
       "<div>\n",
       "<style scoped>\n",
       "    .dataframe tbody tr th:only-of-type {\n",
       "        vertical-align: middle;\n",
       "    }\n",
       "\n",
       "    .dataframe tbody tr th {\n",
       "        vertical-align: top;\n",
       "    }\n",
       "\n",
       "    .dataframe thead th {\n",
       "        text-align: right;\n",
       "    }\n",
       "</style>\n",
       "<table border=\"1\" class=\"dataframe\">\n",
       "  <thead>\n",
       "    <tr style=\"text-align: right;\">\n",
       "      <th></th>\n",
       "      <th>index</th>\n",
       "      <th>maas</th>\n",
       "      <th>yas</th>\n",
       "      <th>saat</th>\n",
       "    </tr>\n",
       "  </thead>\n",
       "  <tbody>\n",
       "    <tr>\n",
       "      <th>0</th>\n",
       "      <td>atil</td>\n",
       "      <td>-1.063739</td>\n",
       "      <td>1.830444</td>\n",
       "      <td>0.020648</td>\n",
       "    </tr>\n",
       "    <tr>\n",
       "      <th>1</th>\n",
       "      <td>zeynep</td>\n",
       "      <td>-1.657582</td>\n",
       "      <td>0.472745</td>\n",
       "      <td>-1.959529</td>\n",
       "    </tr>\n",
       "    <tr>\n",
       "      <th>2</th>\n",
       "      <td>atlas</td>\n",
       "      <td>1.618407</td>\n",
       "      <td>-0.670915</td>\n",
       "      <td>-1.317050</td>\n",
       "    </tr>\n",
       "    <tr>\n",
       "      <th>3</th>\n",
       "      <td>mehmet</td>\n",
       "      <td>1.462490</td>\n",
       "      <td>0.178898</td>\n",
       "      <td>-0.387530</td>\n",
       "    </tr>\n",
       "  </tbody>\n",
       "</table>\n",
       "</div>"
      ],
      "text/plain": [
       "    index      maas       yas      saat\n",
       "0    atil -1.063739  1.830444  0.020648\n",
       "1  zeynep -1.657582  0.472745 -1.959529\n",
       "2   atlas  1.618407 -0.670915 -1.317050\n",
       "3  mehmet  1.462490  0.178898 -0.387530"
      ]
     },
     "execution_count": 41,
     "metadata": {},
     "output_type": "execute_result"
    }
   ],
   "source": [
    "yeniDataFrame.reset_index()\n",
    "#orj. degistirmek icin inplace=True yapmak lazim. Yoksa orj.ni etkilemez."
   ]
  },
  {
   "cell_type": "code",
   "execution_count": 42,
   "id": "6d2e6b71",
   "metadata": {},
   "outputs": [
    {
     "data": {
      "text/html": [
       "<div>\n",
       "<style scoped>\n",
       "    .dataframe tbody tr th:only-of-type {\n",
       "        vertical-align: middle;\n",
       "    }\n",
       "\n",
       "    .dataframe tbody tr th {\n",
       "        vertical-align: top;\n",
       "    }\n",
       "\n",
       "    .dataframe thead th {\n",
       "        text-align: right;\n",
       "    }\n",
       "</style>\n",
       "<table border=\"1\" class=\"dataframe\">\n",
       "  <thead>\n",
       "    <tr style=\"text-align: right;\">\n",
       "      <th></th>\n",
       "      <th>maas</th>\n",
       "      <th>yas</th>\n",
       "      <th>saat</th>\n",
       "    </tr>\n",
       "  </thead>\n",
       "  <tbody>\n",
       "    <tr>\n",
       "      <th>atil</th>\n",
       "      <td>-1.063739</td>\n",
       "      <td>1.830444</td>\n",
       "      <td>0.020648</td>\n",
       "    </tr>\n",
       "    <tr>\n",
       "      <th>zeynep</th>\n",
       "      <td>-1.657582</td>\n",
       "      <td>0.472745</td>\n",
       "      <td>-1.959529</td>\n",
       "    </tr>\n",
       "    <tr>\n",
       "      <th>atlas</th>\n",
       "      <td>1.618407</td>\n",
       "      <td>-0.670915</td>\n",
       "      <td>-1.317050</td>\n",
       "    </tr>\n",
       "    <tr>\n",
       "      <th>mehmet</th>\n",
       "      <td>1.462490</td>\n",
       "      <td>0.178898</td>\n",
       "      <td>-0.387530</td>\n",
       "    </tr>\n",
       "  </tbody>\n",
       "</table>\n",
       "</div>"
      ],
      "text/plain": [
       "            maas       yas      saat\n",
       "atil   -1.063739  1.830444  0.020648\n",
       "zeynep -1.657582  0.472745 -1.959529\n",
       "atlas   1.618407 -0.670915 -1.317050\n",
       "mehmet  1.462490  0.178898 -0.387530"
      ]
     },
     "execution_count": 42,
     "metadata": {},
     "output_type": "execute_result"
    }
   ],
   "source": [
    "yeniDataFrame"
   ]
  },
  {
   "cell_type": "code",
   "execution_count": 43,
   "id": "7628032a",
   "metadata": {},
   "outputs": [
    {
     "data": {
      "text/html": [
       "<div>\n",
       "<style scoped>\n",
       "    .dataframe tbody tr th:only-of-type {\n",
       "        vertical-align: middle;\n",
       "    }\n",
       "\n",
       "    .dataframe tbody tr th {\n",
       "        vertical-align: top;\n",
       "    }\n",
       "\n",
       "    .dataframe thead th {\n",
       "        text-align: right;\n",
       "    }\n",
       "</style>\n",
       "<table border=\"1\" class=\"dataframe\">\n",
       "  <thead>\n",
       "    <tr style=\"text-align: right;\">\n",
       "      <th></th>\n",
       "      <th>maas</th>\n",
       "      <th>yas</th>\n",
       "      <th>saat</th>\n",
       "    </tr>\n",
       "    <tr>\n",
       "      <th>yeni index</th>\n",
       "      <th></th>\n",
       "      <th></th>\n",
       "      <th></th>\n",
       "    </tr>\n",
       "  </thead>\n",
       "  <tbody>\n",
       "    <tr>\n",
       "      <th>ati</th>\n",
       "      <td>-1.063739</td>\n",
       "      <td>1.830444</td>\n",
       "      <td>0.020648</td>\n",
       "    </tr>\n",
       "    <tr>\n",
       "      <th>zey</th>\n",
       "      <td>-1.657582</td>\n",
       "      <td>0.472745</td>\n",
       "      <td>-1.959529</td>\n",
       "    </tr>\n",
       "    <tr>\n",
       "      <th>atl</th>\n",
       "      <td>1.618407</td>\n",
       "      <td>-0.670915</td>\n",
       "      <td>-1.317050</td>\n",
       "    </tr>\n",
       "    <tr>\n",
       "      <th>meh</th>\n",
       "      <td>1.462490</td>\n",
       "      <td>0.178898</td>\n",
       "      <td>-0.387530</td>\n",
       "    </tr>\n",
       "  </tbody>\n",
       "</table>\n",
       "</div>"
      ],
      "text/plain": [
       "                maas       yas      saat\n",
       "yeni index                              \n",
       "ati        -1.063739  1.830444  0.020648\n",
       "zey        -1.657582  0.472745 -1.959529\n",
       "atl         1.618407 -0.670915 -1.317050\n",
       "meh         1.462490  0.178898 -0.387530"
      ]
     },
     "execution_count": 43,
     "metadata": {},
     "output_type": "execute_result"
    }
   ],
   "source": [
    "yeniIndexListesi = [\"ati\", \"zey\", \"atl\", \"meh\"]\n",
    "yeniDataFrame[\"yeni index\"] = yeniIndexListesi #yeniIndexListesini once kolon ol. ekledik\n",
    "yeniDataFrame.set_index(\"yeni index\", inplace= True)\n",
    "yeniDataFrame"
   ]
  },
  {
   "cell_type": "markdown",
   "id": "39436129",
   "metadata": {},
   "source": [
    "## multi index:"
   ]
  },
  {
   "cell_type": "code",
   "execution_count": 44,
   "id": "5f767e39",
   "metadata": {},
   "outputs": [
    {
     "data": {
      "text/html": [
       "<div>\n",
       "<style scoped>\n",
       "    .dataframe tbody tr th:only-of-type {\n",
       "        vertical-align: middle;\n",
       "    }\n",
       "\n",
       "    .dataframe tbody tr th {\n",
       "        vertical-align: top;\n",
       "    }\n",
       "\n",
       "    .dataframe thead th {\n",
       "        text-align: right;\n",
       "    }\n",
       "</style>\n",
       "<table border=\"1\" class=\"dataframe\">\n",
       "  <thead>\n",
       "    <tr style=\"text-align: right;\">\n",
       "      <th></th>\n",
       "      <th>disindex</th>\n",
       "      <th>icindex</th>\n",
       "      <th></th>\n",
       "      <th></th>\n",
       "    </tr>\n",
       "  </thead>\n",
       "  <tbody>\n",
       "    <tr>\n",
       "      <th>0</th>\n",
       "      <td></td>\n",
       "      <td></td>\n",
       "      <td>yas</td>\n",
       "      <td>meslek</td>\n",
       "    </tr>\n",
       "    <tr>\n",
       "      <th>1</th>\n",
       "      <td></td>\n",
       "      <td>homer simpson</td>\n",
       "      <td>40</td>\n",
       "      <td>A</td>\n",
       "    </tr>\n",
       "    <tr>\n",
       "      <th>2</th>\n",
       "      <td>simpson</td>\n",
       "      <td>bart simpson</td>\n",
       "      <td>10</td>\n",
       "      <td>B</td>\n",
       "    </tr>\n",
       "    <tr>\n",
       "      <th>3</th>\n",
       "      <td></td>\n",
       "      <td>marge simpson</td>\n",
       "      <td>30</td>\n",
       "      <td>C</td>\n",
       "    </tr>\n",
       "    <tr>\n",
       "      <th>4</th>\n",
       "      <td></td>\n",
       "      <td>cartman</td>\n",
       "      <td>9</td>\n",
       "      <td>D</td>\n",
       "    </tr>\n",
       "    <tr>\n",
       "      <th>5</th>\n",
       "      <td>south park</td>\n",
       "      <td>kenny</td>\n",
       "      <td>10</td>\n",
       "      <td>E</td>\n",
       "    </tr>\n",
       "    <tr>\n",
       "      <th>6</th>\n",
       "      <td></td>\n",
       "      <td>kyle</td>\n",
       "      <td>11</td>\n",
       "      <td>F</td>\n",
       "    </tr>\n",
       "  </tbody>\n",
       "</table>\n",
       "</div>"
      ],
      "text/plain": [
       "     disindex        icindex             \n",
       "0                             yas  meslek\n",
       "1              homer simpson   40       A\n",
       "2     simpson   bart simpson   10       B\n",
       "3              marge simpson   30       C\n",
       "4                    cartman    9       D\n",
       "5  south park          kenny   10       E\n",
       "6                       kyle   11       F"
      ]
     },
     "execution_count": 44,
     "metadata": {},
     "output_type": "execute_result"
    }
   ],
   "source": [
    "#olusturmak istedigimiz tablo gorseli orn olmasi acisindan-->excelden okuduk\n",
    "data = pd.read_excel(\"pandasMultiIndex.xlsx\") \n",
    "data"
   ]
  },
  {
   "cell_type": "code",
   "execution_count": 45,
   "id": "62c17cb8",
   "metadata": {},
   "outputs": [
    {
     "data": {
      "text/plain": [
       "[('simpson', 'homer simpson'),\n",
       " ('simpson', 'bart simpson'),\n",
       " ('simpson', 'marge simpson'),\n",
       " ('south park', 'cartman'),\n",
       " ('south park', 'kenny'),\n",
       " ('south park', 'kyle')]"
      ]
     },
     "execution_count": 45,
     "metadata": {},
     "output_type": "execute_result"
    }
   ],
   "source": [
    "disIndexler = [\"simpson\",\"simpson\",\"simpson\",\"south park\",\"south park\",\"south park\"]\n",
    "icIndexler = [\"homer simpson\",\"bart simpson\",\"marge simpson\",\"cartman\",\"kenny\",\"kyle\"]\n",
    "birlesmisIndexler = list(zip(disIndexler, icIndexler)) #2 listeyi birlestir\n",
    "birlesmisIndexler"
   ]
  },
  {
   "cell_type": "code",
   "execution_count": 46,
   "id": "f60f433e",
   "metadata": {},
   "outputs": [
    {
     "data": {
      "text/plain": [
       "MultiIndex([(   'simpson', 'homer simpson'),\n",
       "            (   'simpson',  'bart simpson'),\n",
       "            (   'simpson', 'marge simpson'),\n",
       "            ('south park',       'cartman'),\n",
       "            ('south park',         'kenny'),\n",
       "            ('south park',          'kyle')],\n",
       "           )"
      ]
     },
     "execution_count": 46,
     "metadata": {},
     "output_type": "execute_result"
    }
   ],
   "source": [
    "birlesmisIndex = pd.MultiIndex.from_tuples(birlesmisIndexler) #MultiIndex #.from_tuples\n",
    "birlesmisIndex"
   ]
  },
  {
   "cell_type": "code",
   "execution_count": 47,
   "id": "0147df7f",
   "metadata": {},
   "outputs": [
    {
     "data": {
      "text/html": [
       "<div>\n",
       "<style scoped>\n",
       "    .dataframe tbody tr th:only-of-type {\n",
       "        vertical-align: middle;\n",
       "    }\n",
       "\n",
       "    .dataframe tbody tr th {\n",
       "        vertical-align: top;\n",
       "    }\n",
       "\n",
       "    .dataframe thead th {\n",
       "        text-align: right;\n",
       "    }\n",
       "</style>\n",
       "<table border=\"1\" class=\"dataframe\">\n",
       "  <thead>\n",
       "    <tr style=\"text-align: right;\">\n",
       "      <th></th>\n",
       "      <th></th>\n",
       "      <th>yas</th>\n",
       "      <th>meslek</th>\n",
       "    </tr>\n",
       "  </thead>\n",
       "  <tbody>\n",
       "    <tr>\n",
       "      <th rowspan=\"3\" valign=\"top\">simpson</th>\n",
       "      <th>homer simpson</th>\n",
       "      <td>40</td>\n",
       "      <td>A</td>\n",
       "    </tr>\n",
       "    <tr>\n",
       "      <th>bart simpson</th>\n",
       "      <td>10</td>\n",
       "      <td>B</td>\n",
       "    </tr>\n",
       "    <tr>\n",
       "      <th>marge simpson</th>\n",
       "      <td>30</td>\n",
       "      <td>C</td>\n",
       "    </tr>\n",
       "    <tr>\n",
       "      <th rowspan=\"3\" valign=\"top\">south park</th>\n",
       "      <th>cartman</th>\n",
       "      <td>9</td>\n",
       "      <td>D</td>\n",
       "    </tr>\n",
       "    <tr>\n",
       "      <th>kenny</th>\n",
       "      <td>10</td>\n",
       "      <td>E</td>\n",
       "    </tr>\n",
       "    <tr>\n",
       "      <th>kyle</th>\n",
       "      <td>11</td>\n",
       "      <td>F</td>\n",
       "    </tr>\n",
       "  </tbody>\n",
       "</table>\n",
       "</div>"
      ],
      "text/plain": [
       "                         yas meslek\n",
       "simpson    homer simpson  40      A\n",
       "           bart simpson   10      B\n",
       "           marge simpson  30      C\n",
       "south park cartman         9      D\n",
       "           kenny          10      E\n",
       "           kyle           11      F"
      ]
     },
     "execution_count": 47,
     "metadata": {},
     "output_type": "execute_result"
    }
   ],
   "source": [
    "cizgiFilmListem = [[40,\"A\"],[10,\"B\"],[30,\"C\"],[9,\"D\"],[10,\"E\"],[11,\"F\"]]\n",
    "cizgiFilmNumpyDizi = np.array(cizgiFilmListem)\n",
    "cizgiFilmDataFrame = pd.DataFrame(cizgiFilmNumpyDizi, index= birlesmisIndex, columns= [\"yas\",\"meslek\"])\n",
    "#pd.DataFrame(data,index,columns)\n",
    "cizgiFilmDataFrame"
   ]
  },
  {
   "cell_type": "code",
   "execution_count": 48,
   "id": "5ca27e3a",
   "metadata": {},
   "outputs": [
    {
     "data": {
      "text/html": [
       "<div>\n",
       "<style scoped>\n",
       "    .dataframe tbody tr th:only-of-type {\n",
       "        vertical-align: middle;\n",
       "    }\n",
       "\n",
       "    .dataframe tbody tr th {\n",
       "        vertical-align: top;\n",
       "    }\n",
       "\n",
       "    .dataframe thead th {\n",
       "        text-align: right;\n",
       "    }\n",
       "</style>\n",
       "<table border=\"1\" class=\"dataframe\">\n",
       "  <thead>\n",
       "    <tr style=\"text-align: right;\">\n",
       "      <th></th>\n",
       "      <th>yas</th>\n",
       "      <th>meslek</th>\n",
       "    </tr>\n",
       "  </thead>\n",
       "  <tbody>\n",
       "    <tr>\n",
       "      <th>homer simpson</th>\n",
       "      <td>40</td>\n",
       "      <td>A</td>\n",
       "    </tr>\n",
       "    <tr>\n",
       "      <th>bart simpson</th>\n",
       "      <td>10</td>\n",
       "      <td>B</td>\n",
       "    </tr>\n",
       "    <tr>\n",
       "      <th>marge simpson</th>\n",
       "      <td>30</td>\n",
       "      <td>C</td>\n",
       "    </tr>\n",
       "  </tbody>\n",
       "</table>\n",
       "</div>"
      ],
      "text/plain": [
       "              yas meslek\n",
       "homer simpson  40      A\n",
       "bart simpson   10      B\n",
       "marge simpson  30      C"
      ]
     },
     "execution_count": 48,
     "metadata": {},
     "output_type": "execute_result"
    }
   ],
   "source": [
    "cizgiFilmDataFrame.loc[\"simpson\"]"
   ]
  },
  {
   "cell_type": "code",
   "execution_count": 53,
   "id": "7a1693d0",
   "metadata": {},
   "outputs": [
    {
     "data": {
      "text/plain": [
       "yas       10\n",
       "meslek     E\n",
       "Name: kenny, dtype: object"
      ]
     },
     "execution_count": 53,
     "metadata": {},
     "output_type": "execute_result"
    }
   ],
   "source": [
    "cizgiFilmDataFrame.loc[\"south park\"].loc[\"kenny\"] #veya orn: .loc[\"south park\"].iloc[1]"
   ]
  },
  {
   "cell_type": "code",
   "execution_count": 56,
   "id": "30a62eda",
   "metadata": {},
   "outputs": [
    {
     "data": {
      "text/html": [
       "<div>\n",
       "<style scoped>\n",
       "    .dataframe tbody tr th:only-of-type {\n",
       "        vertical-align: middle;\n",
       "    }\n",
       "\n",
       "    .dataframe tbody tr th {\n",
       "        vertical-align: top;\n",
       "    }\n",
       "\n",
       "    .dataframe thead th {\n",
       "        text-align: right;\n",
       "    }\n",
       "</style>\n",
       "<table border=\"1\" class=\"dataframe\">\n",
       "  <thead>\n",
       "    <tr style=\"text-align: right;\">\n",
       "      <th></th>\n",
       "      <th></th>\n",
       "      <th>yas</th>\n",
       "      <th>meslek</th>\n",
       "    </tr>\n",
       "    <tr>\n",
       "      <th>film isim</th>\n",
       "      <th>karakter isim</th>\n",
       "      <th></th>\n",
       "      <th></th>\n",
       "    </tr>\n",
       "  </thead>\n",
       "  <tbody>\n",
       "    <tr>\n",
       "      <th rowspan=\"3\" valign=\"top\">simpson</th>\n",
       "      <th>homer simpson</th>\n",
       "      <td>40</td>\n",
       "      <td>A</td>\n",
       "    </tr>\n",
       "    <tr>\n",
       "      <th>bart simpson</th>\n",
       "      <td>10</td>\n",
       "      <td>B</td>\n",
       "    </tr>\n",
       "    <tr>\n",
       "      <th>marge simpson</th>\n",
       "      <td>30</td>\n",
       "      <td>C</td>\n",
       "    </tr>\n",
       "    <tr>\n",
       "      <th rowspan=\"3\" valign=\"top\">south park</th>\n",
       "      <th>cartman</th>\n",
       "      <td>9</td>\n",
       "      <td>D</td>\n",
       "    </tr>\n",
       "    <tr>\n",
       "      <th>kenny</th>\n",
       "      <td>10</td>\n",
       "      <td>E</td>\n",
       "    </tr>\n",
       "    <tr>\n",
       "      <th>kyle</th>\n",
       "      <td>11</td>\n",
       "      <td>F</td>\n",
       "    </tr>\n",
       "  </tbody>\n",
       "</table>\n",
       "</div>"
      ],
      "text/plain": [
       "                         yas meslek\n",
       "film isim  karakter isim           \n",
       "simpson    homer simpson  40      A\n",
       "           bart simpson   10      B\n",
       "           marge simpson  30      C\n",
       "south park cartman         9      D\n",
       "           kenny          10      E\n",
       "           kyle           11      F"
      ]
     },
     "execution_count": 56,
     "metadata": {},
     "output_type": "execute_result"
    }
   ],
   "source": [
    "#indexlerin basliklarini degistirme:\n",
    "\n",
    "cizgiFilmDataFrame.index.names = [\"film isim\", \"karakter isim\"]\n",
    "cizgiFilmDataFrame"
   ]
  },
  {
   "cell_type": "markdown",
   "id": "71ad75d0",
   "metadata": {},
   "source": [
    "## eksik veriler:"
   ]
  },
  {
   "cell_type": "code",
   "execution_count": 58,
   "id": "5dde173f",
   "metadata": {},
   "outputs": [
    {
     "data": {
      "text/html": [
       "<div>\n",
       "<style scoped>\n",
       "    .dataframe tbody tr th:only-of-type {\n",
       "        vertical-align: middle;\n",
       "    }\n",
       "\n",
       "    .dataframe tbody tr th {\n",
       "        vertical-align: top;\n",
       "    }\n",
       "\n",
       "    .dataframe thead th {\n",
       "        text-align: right;\n",
       "    }\n",
       "</style>\n",
       "<table border=\"1\" class=\"dataframe\">\n",
       "  <thead>\n",
       "    <tr style=\"text-align: right;\">\n",
       "      <th></th>\n",
       "      <th></th>\n",
       "      <th>ist.</th>\n",
       "      <th>ank.</th>\n",
       "      <th>izmir</th>\n",
       "    </tr>\n",
       "  </thead>\n",
       "  <tbody>\n",
       "    <tr>\n",
       "      <th>0</th>\n",
       "      <td>pzt.</td>\n",
       "      <td>30</td>\n",
       "      <td>20</td>\n",
       "      <td>40</td>\n",
       "    </tr>\n",
       "    <tr>\n",
       "      <th>1</th>\n",
       "      <td>sali</td>\n",
       "      <td>29</td>\n",
       "      <td>-</td>\n",
       "      <td>39</td>\n",
       "    </tr>\n",
       "    <tr>\n",
       "      <th>2</th>\n",
       "      <td>cars.</td>\n",
       "      <td>-</td>\n",
       "      <td>25</td>\n",
       "      <td>38</td>\n",
       "    </tr>\n",
       "  </tbody>\n",
       "</table>\n",
       "</div>"
      ],
      "text/plain": [
       "         ist. ank.  izmir\n",
       "0   pzt.   30   20     40\n",
       "1   sali   29    -     39\n",
       "2  cars.    -   25     38"
      ]
     },
     "execution_count": 58,
     "metadata": {},
     "output_type": "execute_result"
    }
   ],
   "source": [
    "#olusturmak istedigimiz tablo gorseli orn olmasi acisindan-->excelden okuduk\n",
    "data2 = pd.read_excel(\"pandasEksikVeri.xlsx\") \n",
    "data2"
   ]
  },
  {
   "cell_type": "code",
   "execution_count": 59,
   "id": "6082a48d",
   "metadata": {},
   "outputs": [
    {
     "data": {
      "text/html": [
       "<div>\n",
       "<style scoped>\n",
       "    .dataframe tbody tr th:only-of-type {\n",
       "        vertical-align: middle;\n",
       "    }\n",
       "\n",
       "    .dataframe tbody tr th {\n",
       "        vertical-align: top;\n",
       "    }\n",
       "\n",
       "    .dataframe thead th {\n",
       "        text-align: right;\n",
       "    }\n",
       "</style>\n",
       "<table border=\"1\" class=\"dataframe\">\n",
       "  <thead>\n",
       "    <tr style=\"text-align: right;\">\n",
       "      <th></th>\n",
       "      <th>ist</th>\n",
       "      <th>ank</th>\n",
       "      <th>izm</th>\n",
       "    </tr>\n",
       "  </thead>\n",
       "  <tbody>\n",
       "    <tr>\n",
       "      <th>0</th>\n",
       "      <td>30.0</td>\n",
       "      <td>20.0</td>\n",
       "      <td>40</td>\n",
       "    </tr>\n",
       "    <tr>\n",
       "      <th>1</th>\n",
       "      <td>29.0</td>\n",
       "      <td>NaN</td>\n",
       "      <td>39</td>\n",
       "    </tr>\n",
       "    <tr>\n",
       "      <th>2</th>\n",
       "      <td>NaN</td>\n",
       "      <td>25.0</td>\n",
       "      <td>38</td>\n",
       "    </tr>\n",
       "  </tbody>\n",
       "</table>\n",
       "</div>"
      ],
      "text/plain": [
       "    ist   ank  izm\n",
       "0  30.0  20.0   40\n",
       "1  29.0   NaN   39\n",
       "2   NaN  25.0   38"
      ]
     },
     "execution_count": 59,
     "metadata": {},
     "output_type": "execute_result"
    }
   ],
   "source": [
    "sozlukVerisi = {\"ist\": [30,29,np.nan],\n",
    "               \"ank\": [20,np.nan,25],\n",
    "               \"izm\": [40,39,38]}\n",
    "\n",
    "havaDurumuDataFrame = pd.DataFrame(sozlukVerisi)\n",
    "havaDurumuDataFrame"
   ]
  },
  {
   "cell_type": "code",
   "execution_count": 60,
   "id": "ab4833da",
   "metadata": {},
   "outputs": [
    {
     "data": {
      "text/html": [
       "<div>\n",
       "<style scoped>\n",
       "    .dataframe tbody tr th:only-of-type {\n",
       "        vertical-align: middle;\n",
       "    }\n",
       "\n",
       "    .dataframe tbody tr th {\n",
       "        vertical-align: top;\n",
       "    }\n",
       "\n",
       "    .dataframe thead th {\n",
       "        text-align: right;\n",
       "    }\n",
       "</style>\n",
       "<table border=\"1\" class=\"dataframe\">\n",
       "  <thead>\n",
       "    <tr style=\"text-align: right;\">\n",
       "      <th></th>\n",
       "      <th>ist</th>\n",
       "      <th>ank</th>\n",
       "      <th>izm</th>\n",
       "    </tr>\n",
       "  </thead>\n",
       "  <tbody>\n",
       "    <tr>\n",
       "      <th>0</th>\n",
       "      <td>30.0</td>\n",
       "      <td>20.0</td>\n",
       "      <td>40</td>\n",
       "    </tr>\n",
       "  </tbody>\n",
       "</table>\n",
       "</div>"
      ],
      "text/plain": [
       "    ist   ank  izm\n",
       "0  30.0  20.0   40"
      ]
     },
     "execution_count": 60,
     "metadata": {},
     "output_type": "execute_result"
    }
   ],
   "source": [
    "havaDurumuDataFrame.dropna() #bos deger olan satirlari at, orj.i etkilemez"
   ]
  },
  {
   "cell_type": "code",
   "execution_count": 62,
   "id": "59c72625",
   "metadata": {},
   "outputs": [
    {
     "data": {
      "text/html": [
       "<div>\n",
       "<style scoped>\n",
       "    .dataframe tbody tr th:only-of-type {\n",
       "        vertical-align: middle;\n",
       "    }\n",
       "\n",
       "    .dataframe tbody tr th {\n",
       "        vertical-align: top;\n",
       "    }\n",
       "\n",
       "    .dataframe thead th {\n",
       "        text-align: right;\n",
       "    }\n",
       "</style>\n",
       "<table border=\"1\" class=\"dataframe\">\n",
       "  <thead>\n",
       "    <tr style=\"text-align: right;\">\n",
       "      <th></th>\n",
       "      <th>ist</th>\n",
       "      <th>ank</th>\n",
       "      <th>izm</th>\n",
       "    </tr>\n",
       "  </thead>\n",
       "  <tbody>\n",
       "    <tr>\n",
       "      <th>0</th>\n",
       "      <td>30.0</td>\n",
       "      <td>20.0</td>\n",
       "      <td>40</td>\n",
       "    </tr>\n",
       "  </tbody>\n",
       "</table>\n",
       "</div>"
      ],
      "text/plain": [
       "    ist   ank  izm\n",
       "0  30.0  20.0   40"
      ]
     },
     "execution_count": 62,
     "metadata": {},
     "output_type": "execute_result"
    }
   ],
   "source": [
    "havaDurumuDataFrame.dropna(axis= 0) #yukarisi ile ayni.bos deger olan satirlari at, orj.i etkilemez"
   ]
  },
  {
   "cell_type": "code",
   "execution_count": 63,
   "id": "caa4c505",
   "metadata": {},
   "outputs": [
    {
     "data": {
      "text/html": [
       "<div>\n",
       "<style scoped>\n",
       "    .dataframe tbody tr th:only-of-type {\n",
       "        vertical-align: middle;\n",
       "    }\n",
       "\n",
       "    .dataframe tbody tr th {\n",
       "        vertical-align: top;\n",
       "    }\n",
       "\n",
       "    .dataframe thead th {\n",
       "        text-align: right;\n",
       "    }\n",
       "</style>\n",
       "<table border=\"1\" class=\"dataframe\">\n",
       "  <thead>\n",
       "    <tr style=\"text-align: right;\">\n",
       "      <th></th>\n",
       "      <th>izm</th>\n",
       "    </tr>\n",
       "  </thead>\n",
       "  <tbody>\n",
       "    <tr>\n",
       "      <th>0</th>\n",
       "      <td>40</td>\n",
       "    </tr>\n",
       "    <tr>\n",
       "      <th>1</th>\n",
       "      <td>39</td>\n",
       "    </tr>\n",
       "    <tr>\n",
       "      <th>2</th>\n",
       "      <td>38</td>\n",
       "    </tr>\n",
       "  </tbody>\n",
       "</table>\n",
       "</div>"
      ],
      "text/plain": [
       "   izm\n",
       "0   40\n",
       "1   39\n",
       "2   38"
      ]
     },
     "execution_count": 63,
     "metadata": {},
     "output_type": "execute_result"
    }
   ],
   "source": [
    "havaDurumuDataFrame.dropna(axis= 1) #bos deger olan kolonlari at, orj.i etkilemez"
   ]
  },
  {
   "cell_type": "code",
   "execution_count": 64,
   "id": "e0ddce94",
   "metadata": {},
   "outputs": [
    {
     "data": {
      "text/html": [
       "<div>\n",
       "<style scoped>\n",
       "    .dataframe tbody tr th:only-of-type {\n",
       "        vertical-align: middle;\n",
       "    }\n",
       "\n",
       "    .dataframe tbody tr th {\n",
       "        vertical-align: top;\n",
       "    }\n",
       "\n",
       "    .dataframe thead th {\n",
       "        text-align: right;\n",
       "    }\n",
       "</style>\n",
       "<table border=\"1\" class=\"dataframe\">\n",
       "  <thead>\n",
       "    <tr style=\"text-align: right;\">\n",
       "      <th></th>\n",
       "      <th>ist</th>\n",
       "      <th>ank</th>\n",
       "      <th>izm</th>\n",
       "      <th>ant</th>\n",
       "    </tr>\n",
       "  </thead>\n",
       "  <tbody>\n",
       "    <tr>\n",
       "      <th>0</th>\n",
       "      <td>30.0</td>\n",
       "      <td>20.0</td>\n",
       "      <td>40</td>\n",
       "      <td>45.0</td>\n",
       "    </tr>\n",
       "    <tr>\n",
       "      <th>1</th>\n",
       "      <td>29.0</td>\n",
       "      <td>NaN</td>\n",
       "      <td>39</td>\n",
       "      <td>NaN</td>\n",
       "    </tr>\n",
       "    <tr>\n",
       "      <th>2</th>\n",
       "      <td>NaN</td>\n",
       "      <td>25.0</td>\n",
       "      <td>38</td>\n",
       "      <td>NaN</td>\n",
       "    </tr>\n",
       "  </tbody>\n",
       "</table>\n",
       "</div>"
      ],
      "text/plain": [
       "    ist   ank  izm   ant\n",
       "0  30.0  20.0   40  45.0\n",
       "1  29.0   NaN   39   NaN\n",
       "2   NaN  25.0   38   NaN"
      ]
     },
     "execution_count": 64,
     "metadata": {},
     "output_type": "execute_result"
    }
   ],
   "source": [
    "sozlukVerisi2 = {\"ist\": [30,29,np.nan],\n",
    "               \"ank\": [20,np.nan,25],\n",
    "               \"izm\": [40,39,38],\n",
    "                \"ant\": [45,np.nan,np.nan]}\n",
    "\n",
    "havaDurumuDataFrame2 = pd.DataFrame(sozlukVerisi2)\n",
    "havaDurumuDataFrame2"
   ]
  },
  {
   "cell_type": "code",
   "execution_count": 67,
   "id": "ff8d47de",
   "metadata": {},
   "outputs": [
    {
     "data": {
      "text/html": [
       "<div>\n",
       "<style scoped>\n",
       "    .dataframe tbody tr th:only-of-type {\n",
       "        vertical-align: middle;\n",
       "    }\n",
       "\n",
       "    .dataframe tbody tr th {\n",
       "        vertical-align: top;\n",
       "    }\n",
       "\n",
       "    .dataframe thead th {\n",
       "        text-align: right;\n",
       "    }\n",
       "</style>\n",
       "<table border=\"1\" class=\"dataframe\">\n",
       "  <thead>\n",
       "    <tr style=\"text-align: right;\">\n",
       "      <th></th>\n",
       "      <th>ist</th>\n",
       "      <th>ank</th>\n",
       "      <th>izm</th>\n",
       "    </tr>\n",
       "  </thead>\n",
       "  <tbody>\n",
       "    <tr>\n",
       "      <th>0</th>\n",
       "      <td>30.0</td>\n",
       "      <td>20.0</td>\n",
       "      <td>40</td>\n",
       "    </tr>\n",
       "    <tr>\n",
       "      <th>1</th>\n",
       "      <td>29.0</td>\n",
       "      <td>NaN</td>\n",
       "      <td>39</td>\n",
       "    </tr>\n",
       "    <tr>\n",
       "      <th>2</th>\n",
       "      <td>NaN</td>\n",
       "      <td>25.0</td>\n",
       "      <td>38</td>\n",
       "    </tr>\n",
       "  </tbody>\n",
       "</table>\n",
       "</div>"
      ],
      "text/plain": [
       "    ist   ank  izm\n",
       "0  30.0  20.0   40\n",
       "1  29.0   NaN   39\n",
       "2   NaN  25.0   38"
      ]
     },
     "execution_count": 67,
     "metadata": {},
     "output_type": "execute_result"
    }
   ],
   "source": [
    "havaDurumuDataFrame2.dropna(axis= 1, thresh= 2)\n",
    "#axis=1: kolondan, tresh=2:2 veya dha fazla nan deger olanlari at, orj.i etkilemez"
   ]
  },
  {
   "cell_type": "code",
   "execution_count": 69,
   "id": "4dc9eba8",
   "metadata": {},
   "outputs": [
    {
     "data": {
      "text/html": [
       "<div>\n",
       "<style scoped>\n",
       "    .dataframe tbody tr th:only-of-type {\n",
       "        vertical-align: middle;\n",
       "    }\n",
       "\n",
       "    .dataframe tbody tr th {\n",
       "        vertical-align: top;\n",
       "    }\n",
       "\n",
       "    .dataframe thead th {\n",
       "        text-align: right;\n",
       "    }\n",
       "</style>\n",
       "<table border=\"1\" class=\"dataframe\">\n",
       "  <thead>\n",
       "    <tr style=\"text-align: right;\">\n",
       "      <th></th>\n",
       "      <th>ist</th>\n",
       "      <th>ank</th>\n",
       "      <th>izm</th>\n",
       "      <th>ant</th>\n",
       "    </tr>\n",
       "  </thead>\n",
       "  <tbody>\n",
       "    <tr>\n",
       "      <th>0</th>\n",
       "      <td>30.0</td>\n",
       "      <td>20.0</td>\n",
       "      <td>40</td>\n",
       "      <td>45.0</td>\n",
       "    </tr>\n",
       "    <tr>\n",
       "      <th>1</th>\n",
       "      <td>29.0</td>\n",
       "      <td>20.0</td>\n",
       "      <td>39</td>\n",
       "      <td>20.0</td>\n",
       "    </tr>\n",
       "    <tr>\n",
       "      <th>2</th>\n",
       "      <td>20.0</td>\n",
       "      <td>25.0</td>\n",
       "      <td>38</td>\n",
       "      <td>20.0</td>\n",
       "    </tr>\n",
       "  </tbody>\n",
       "</table>\n",
       "</div>"
      ],
      "text/plain": [
       "    ist   ank  izm   ant\n",
       "0  30.0  20.0   40  45.0\n",
       "1  29.0  20.0   39  20.0\n",
       "2  20.0  25.0   38  20.0"
      ]
     },
     "execution_count": 69,
     "metadata": {},
     "output_type": "execute_result"
    }
   ],
   "source": [
    "havaDurumuDataFrame2.fillna(20) #nan(bos) degerleri 20 ile doldur"
   ]
  },
  {
   "cell_type": "markdown",
   "id": "a4d4cd07",
   "metadata": {},
   "source": [
    "## gruplandirmak:"
   ]
  },
  {
   "cell_type": "code",
   "execution_count": 72,
   "id": "13e30752",
   "metadata": {},
   "outputs": [
    {
     "data": {
      "text/html": [
       "<div>\n",
       "<style scoped>\n",
       "    .dataframe tbody tr th:only-of-type {\n",
       "        vertical-align: middle;\n",
       "    }\n",
       "\n",
       "    .dataframe tbody tr th {\n",
       "        vertical-align: top;\n",
       "    }\n",
       "\n",
       "    .dataframe thead th {\n",
       "        text-align: right;\n",
       "    }\n",
       "</style>\n",
       "<table border=\"1\" class=\"dataframe\">\n",
       "  <thead>\n",
       "    <tr style=\"text-align: right;\">\n",
       "      <th></th>\n",
       "      <th>depart</th>\n",
       "      <th>calisan ismi</th>\n",
       "      <th>maas</th>\n",
       "    </tr>\n",
       "  </thead>\n",
       "  <tbody>\n",
       "    <tr>\n",
       "      <th>0</th>\n",
       "      <td>yazilim</td>\n",
       "      <td>ahm</td>\n",
       "      <td>1000</td>\n",
       "    </tr>\n",
       "    <tr>\n",
       "      <th>1</th>\n",
       "      <td>yazilim</td>\n",
       "      <td>meh</td>\n",
       "      <td>1500</td>\n",
       "    </tr>\n",
       "    <tr>\n",
       "      <th>2</th>\n",
       "      <td>pazar</td>\n",
       "      <td>ati</td>\n",
       "      <td>2000</td>\n",
       "    </tr>\n",
       "    <tr>\n",
       "      <th>3</th>\n",
       "      <td>pazar</td>\n",
       "      <td>bur</td>\n",
       "      <td>3000</td>\n",
       "    </tr>\n",
       "    <tr>\n",
       "      <th>4</th>\n",
       "      <td>hukuk</td>\n",
       "      <td>zey</td>\n",
       "      <td>4000</td>\n",
       "    </tr>\n",
       "    <tr>\n",
       "      <th>5</th>\n",
       "      <td>hukuk</td>\n",
       "      <td>fur</td>\n",
       "      <td>5000</td>\n",
       "    </tr>\n",
       "  </tbody>\n",
       "</table>\n",
       "</div>"
      ],
      "text/plain": [
       "    depart calisan ismi  maas\n",
       "0  yazilim          ahm  1000\n",
       "1  yazilim          meh  1500\n",
       "2    pazar          ati  2000\n",
       "3    pazar          bur  3000\n",
       "4    hukuk          zey  4000\n",
       "5    hukuk          fur  5000"
      ]
     },
     "execution_count": 72,
     "metadata": {},
     "output_type": "execute_result"
    }
   ],
   "source": [
    "maasSozluk = {\"depart\": [\"yazilim\",\"yazilim\",\"pazar\",\"pazar\",\"hukuk\",\"hukuk\"],\n",
    "             \"calisan ismi\": [\"ahm\",\"meh\",\"ati\",\"bur\",\"zey\",\"fur\"],\n",
    "             \"maas\": [1000,1500,2000,3000,4000,5000]\n",
    "             }\n",
    "\n",
    "maasDataFrame = pd.DataFrame(maasSozluk)\n",
    "maasDataFrame"
   ]
  },
  {
   "cell_type": "code",
   "execution_count": 75,
   "id": "62d22d9d",
   "metadata": {},
   "outputs": [],
   "source": [
    "grupObjesi = maasDataFrame.groupby(\"depart\") #departmanlara gore gruplandir.sql deki gibi"
   ]
  },
  {
   "cell_type": "code",
   "execution_count": 76,
   "id": "4c04cc25",
   "metadata": {},
   "outputs": [
    {
     "data": {
      "text/html": [
       "<div>\n",
       "<style scoped>\n",
       "    .dataframe tbody tr th:only-of-type {\n",
       "        vertical-align: middle;\n",
       "    }\n",
       "\n",
       "    .dataframe tbody tr th {\n",
       "        vertical-align: top;\n",
       "    }\n",
       "\n",
       "    .dataframe thead th {\n",
       "        text-align: right;\n",
       "    }\n",
       "</style>\n",
       "<table border=\"1\" class=\"dataframe\">\n",
       "  <thead>\n",
       "    <tr style=\"text-align: right;\">\n",
       "      <th></th>\n",
       "      <th>calisan ismi</th>\n",
       "      <th>maas</th>\n",
       "    </tr>\n",
       "    <tr>\n",
       "      <th>depart</th>\n",
       "      <th></th>\n",
       "      <th></th>\n",
       "    </tr>\n",
       "  </thead>\n",
       "  <tbody>\n",
       "    <tr>\n",
       "      <th>hukuk</th>\n",
       "      <td>2</td>\n",
       "      <td>2</td>\n",
       "    </tr>\n",
       "    <tr>\n",
       "      <th>pazar</th>\n",
       "      <td>2</td>\n",
       "      <td>2</td>\n",
       "    </tr>\n",
       "    <tr>\n",
       "      <th>yazilim</th>\n",
       "      <td>2</td>\n",
       "      <td>2</td>\n",
       "    </tr>\n",
       "  </tbody>\n",
       "</table>\n",
       "</div>"
      ],
      "text/plain": [
       "         calisan ismi  maas\n",
       "depart                     \n",
       "hukuk               2     2\n",
       "pazar               2     2\n",
       "yazilim             2     2"
      ]
     },
     "execution_count": 76,
     "metadata": {},
     "output_type": "execute_result"
    }
   ],
   "source": [
    "grupObjesi.count() #hangi departmanda, kac kisi var?"
   ]
  },
  {
   "cell_type": "code",
   "execution_count": 77,
   "id": "65a4bcdd",
   "metadata": {},
   "outputs": [
    {
     "data": {
      "text/html": [
       "<div>\n",
       "<style scoped>\n",
       "    .dataframe tbody tr th:only-of-type {\n",
       "        vertical-align: middle;\n",
       "    }\n",
       "\n",
       "    .dataframe tbody tr th {\n",
       "        vertical-align: top;\n",
       "    }\n",
       "\n",
       "    .dataframe thead th {\n",
       "        text-align: right;\n",
       "    }\n",
       "</style>\n",
       "<table border=\"1\" class=\"dataframe\">\n",
       "  <thead>\n",
       "    <tr style=\"text-align: right;\">\n",
       "      <th></th>\n",
       "      <th>maas</th>\n",
       "    </tr>\n",
       "    <tr>\n",
       "      <th>depart</th>\n",
       "      <th></th>\n",
       "    </tr>\n",
       "  </thead>\n",
       "  <tbody>\n",
       "    <tr>\n",
       "      <th>hukuk</th>\n",
       "      <td>4500.0</td>\n",
       "    </tr>\n",
       "    <tr>\n",
       "      <th>pazar</th>\n",
       "      <td>2500.0</td>\n",
       "    </tr>\n",
       "    <tr>\n",
       "      <th>yazilim</th>\n",
       "      <td>1250.0</td>\n",
       "    </tr>\n",
       "  </tbody>\n",
       "</table>\n",
       "</div>"
      ],
      "text/plain": [
       "           maas\n",
       "depart         \n",
       "hukuk    4500.0\n",
       "pazar    2500.0\n",
       "yazilim  1250.0"
      ]
     },
     "execution_count": 77,
     "metadata": {},
     "output_type": "execute_result"
    }
   ],
   "source": [
    "grupObjesi.mean() #departmanlarin ort. degeri"
   ]
  },
  {
   "cell_type": "code",
   "execution_count": 78,
   "id": "5dffa0fa",
   "metadata": {},
   "outputs": [
    {
     "data": {
      "text/html": [
       "<div>\n",
       "<style scoped>\n",
       "    .dataframe tbody tr th:only-of-type {\n",
       "        vertical-align: middle;\n",
       "    }\n",
       "\n",
       "    .dataframe tbody tr th {\n",
       "        vertical-align: top;\n",
       "    }\n",
       "\n",
       "    .dataframe thead th {\n",
       "        text-align: right;\n",
       "    }\n",
       "</style>\n",
       "<table border=\"1\" class=\"dataframe\">\n",
       "  <thead>\n",
       "    <tr style=\"text-align: right;\">\n",
       "      <th></th>\n",
       "      <th>calisan ismi</th>\n",
       "      <th>maas</th>\n",
       "    </tr>\n",
       "    <tr>\n",
       "      <th>depart</th>\n",
       "      <th></th>\n",
       "      <th></th>\n",
       "    </tr>\n",
       "  </thead>\n",
       "  <tbody>\n",
       "    <tr>\n",
       "      <th>hukuk</th>\n",
       "      <td>fur</td>\n",
       "      <td>4000</td>\n",
       "    </tr>\n",
       "    <tr>\n",
       "      <th>pazar</th>\n",
       "      <td>ati</td>\n",
       "      <td>2000</td>\n",
       "    </tr>\n",
       "    <tr>\n",
       "      <th>yazilim</th>\n",
       "      <td>ahm</td>\n",
       "      <td>1000</td>\n",
       "    </tr>\n",
       "  </tbody>\n",
       "</table>\n",
       "</div>"
      ],
      "text/plain": [
       "        calisan ismi  maas\n",
       "depart                    \n",
       "hukuk            fur  4000\n",
       "pazar            ati  2000\n",
       "yazilim          ahm  1000"
      ]
     },
     "execution_count": 78,
     "metadata": {},
     "output_type": "execute_result"
    }
   ],
   "source": [
    "grupObjesi.min() #her departmandaki min deger"
   ]
  },
  {
   "cell_type": "code",
   "execution_count": 79,
   "id": "93dda35e",
   "metadata": {},
   "outputs": [
    {
     "data": {
      "text/html": [
       "<div>\n",
       "<style scoped>\n",
       "    .dataframe tbody tr th:only-of-type {\n",
       "        vertical-align: middle;\n",
       "    }\n",
       "\n",
       "    .dataframe tbody tr th {\n",
       "        vertical-align: top;\n",
       "    }\n",
       "\n",
       "    .dataframe thead th {\n",
       "        text-align: right;\n",
       "    }\n",
       "</style>\n",
       "<table border=\"1\" class=\"dataframe\">\n",
       "  <thead>\n",
       "    <tr style=\"text-align: right;\">\n",
       "      <th></th>\n",
       "      <th>calisan ismi</th>\n",
       "      <th>maas</th>\n",
       "    </tr>\n",
       "    <tr>\n",
       "      <th>depart</th>\n",
       "      <th></th>\n",
       "      <th></th>\n",
       "    </tr>\n",
       "  </thead>\n",
       "  <tbody>\n",
       "    <tr>\n",
       "      <th>hukuk</th>\n",
       "      <td>zey</td>\n",
       "      <td>5000</td>\n",
       "    </tr>\n",
       "    <tr>\n",
       "      <th>pazar</th>\n",
       "      <td>bur</td>\n",
       "      <td>3000</td>\n",
       "    </tr>\n",
       "    <tr>\n",
       "      <th>yazilim</th>\n",
       "      <td>meh</td>\n",
       "      <td>1500</td>\n",
       "    </tr>\n",
       "  </tbody>\n",
       "</table>\n",
       "</div>"
      ],
      "text/plain": [
       "        calisan ismi  maas\n",
       "depart                    \n",
       "hukuk            zey  5000\n",
       "pazar            bur  3000\n",
       "yazilim          meh  1500"
      ]
     },
     "execution_count": 79,
     "metadata": {},
     "output_type": "execute_result"
    }
   ],
   "source": [
    "grupObjesi.max()  #her departmandaki max deger"
   ]
  },
  {
   "cell_type": "code",
   "execution_count": 80,
   "id": "54648aad",
   "metadata": {},
   "outputs": [
    {
     "data": {
      "text/html": [
       "<div>\n",
       "<style scoped>\n",
       "    .dataframe tbody tr th:only-of-type {\n",
       "        vertical-align: middle;\n",
       "    }\n",
       "\n",
       "    .dataframe tbody tr th {\n",
       "        vertical-align: top;\n",
       "    }\n",
       "\n",
       "    .dataframe thead tr th {\n",
       "        text-align: left;\n",
       "    }\n",
       "\n",
       "    .dataframe thead tr:last-of-type th {\n",
       "        text-align: right;\n",
       "    }\n",
       "</style>\n",
       "<table border=\"1\" class=\"dataframe\">\n",
       "  <thead>\n",
       "    <tr>\n",
       "      <th></th>\n",
       "      <th colspan=\"8\" halign=\"left\">maas</th>\n",
       "    </tr>\n",
       "    <tr>\n",
       "      <th></th>\n",
       "      <th>count</th>\n",
       "      <th>mean</th>\n",
       "      <th>std</th>\n",
       "      <th>min</th>\n",
       "      <th>25%</th>\n",
       "      <th>50%</th>\n",
       "      <th>75%</th>\n",
       "      <th>max</th>\n",
       "    </tr>\n",
       "    <tr>\n",
       "      <th>depart</th>\n",
       "      <th></th>\n",
       "      <th></th>\n",
       "      <th></th>\n",
       "      <th></th>\n",
       "      <th></th>\n",
       "      <th></th>\n",
       "      <th></th>\n",
       "      <th></th>\n",
       "    </tr>\n",
       "  </thead>\n",
       "  <tbody>\n",
       "    <tr>\n",
       "      <th>hukuk</th>\n",
       "      <td>2.0</td>\n",
       "      <td>4500.0</td>\n",
       "      <td>707.106781</td>\n",
       "      <td>4000.0</td>\n",
       "      <td>4250.0</td>\n",
       "      <td>4500.0</td>\n",
       "      <td>4750.0</td>\n",
       "      <td>5000.0</td>\n",
       "    </tr>\n",
       "    <tr>\n",
       "      <th>pazar</th>\n",
       "      <td>2.0</td>\n",
       "      <td>2500.0</td>\n",
       "      <td>707.106781</td>\n",
       "      <td>2000.0</td>\n",
       "      <td>2250.0</td>\n",
       "      <td>2500.0</td>\n",
       "      <td>2750.0</td>\n",
       "      <td>3000.0</td>\n",
       "    </tr>\n",
       "    <tr>\n",
       "      <th>yazilim</th>\n",
       "      <td>2.0</td>\n",
       "      <td>1250.0</td>\n",
       "      <td>353.553391</td>\n",
       "      <td>1000.0</td>\n",
       "      <td>1125.0</td>\n",
       "      <td>1250.0</td>\n",
       "      <td>1375.0</td>\n",
       "      <td>1500.0</td>\n",
       "    </tr>\n",
       "  </tbody>\n",
       "</table>\n",
       "</div>"
      ],
      "text/plain": [
       "         maas                                                            \n",
       "        count    mean         std     min     25%     50%     75%     max\n",
       "depart                                                                   \n",
       "hukuk     2.0  4500.0  707.106781  4000.0  4250.0  4500.0  4750.0  5000.0\n",
       "pazar     2.0  2500.0  707.106781  2000.0  2250.0  2500.0  2750.0  3000.0\n",
       "yazilim   2.0  1250.0  353.553391  1000.0  1125.0  1250.0  1375.0  1500.0"
      ]
     },
     "execution_count": 80,
     "metadata": {},
     "output_type": "execute_result"
    }
   ],
   "source": [
    "grupObjesi.describe() #tum tanimlamalari gosterir"
   ]
  },
  {
   "cell_type": "markdown",
   "id": "ba61eefc",
   "metadata": {},
   "source": [
    "## concat (concatenation):\n",
    "\n",
    "Kolon basliklari ayni olan verileri birlestirir.\n",
    "\n",
    "Hepsini tek bir data halinde gosterir."
   ]
  },
  {
   "cell_type": "code",
   "execution_count": 81,
   "id": "396e22cc",
   "metadata": {},
   "outputs": [],
   "source": [
    "import numpy as np\n",
    "import pandas as pd"
   ]
  },
  {
   "cell_type": "code",
   "execution_count": 88,
   "id": "8740e4d3",
   "metadata": {},
   "outputs": [
    {
     "data": {
      "text/html": [
       "<div>\n",
       "<style scoped>\n",
       "    .dataframe tbody tr th:only-of-type {\n",
       "        vertical-align: middle;\n",
       "    }\n",
       "\n",
       "    .dataframe tbody tr th {\n",
       "        vertical-align: top;\n",
       "    }\n",
       "\n",
       "    .dataframe thead th {\n",
       "        text-align: right;\n",
       "    }\n",
       "</style>\n",
       "<table border=\"1\" class=\"dataframe\">\n",
       "  <thead>\n",
       "    <tr style=\"text-align: right;\">\n",
       "      <th></th>\n",
       "      <th></th>\n",
       "      <th>.1</th>\n",
       "      <th>.2</th>\n",
       "      <th>.3</th>\n",
       "      <th>.4</th>\n",
       "      <th>.5</th>\n",
       "      <th>.6</th>\n",
       "      <th>.7</th>\n",
       "      <th>.8</th>\n",
       "      <th>.9</th>\n",
       "      <th>.10</th>\n",
       "      <th>.11</th>\n",
       "      <th>.12</th>\n",
       "      <th>.13</th>\n",
       "    </tr>\n",
       "  </thead>\n",
       "  <tbody>\n",
       "    <tr>\n",
       "      <th>0</th>\n",
       "      <td>index</td>\n",
       "      <td>isim</td>\n",
       "      <td>spor</td>\n",
       "      <td>kalori</td>\n",
       "      <td></td>\n",
       "      <td></td>\n",
       "      <td></td>\n",
       "      <td></td>\n",
       "      <td></td>\n",
       "      <td></td>\n",
       "      <td></td>\n",
       "      <td></td>\n",
       "      <td></td>\n",
       "      <td></td>\n",
       "    </tr>\n",
       "    <tr>\n",
       "      <th>1</th>\n",
       "      <td>0</td>\n",
       "      <td>ahm</td>\n",
       "      <td>kosu</td>\n",
       "      <td>100</td>\n",
       "      <td></td>\n",
       "      <td>index</td>\n",
       "      <td>isim</td>\n",
       "      <td>spor</td>\n",
       "      <td>kalori</td>\n",
       "      <td></td>\n",
       "      <td></td>\n",
       "      <td></td>\n",
       "      <td></td>\n",
       "      <td></td>\n",
       "    </tr>\n",
       "    <tr>\n",
       "      <th>2</th>\n",
       "      <td>1</td>\n",
       "      <td>meh</td>\n",
       "      <td>yuzme</td>\n",
       "      <td>200</td>\n",
       "      <td></td>\n",
       "      <td>4</td>\n",
       "      <td>osm</td>\n",
       "      <td>kosu</td>\n",
       "      <td>200</td>\n",
       "      <td></td>\n",
       "      <td>index</td>\n",
       "      <td>isim</td>\n",
       "      <td>spor</td>\n",
       "      <td>kalori</td>\n",
       "    </tr>\n",
       "    <tr>\n",
       "      <th>3</th>\n",
       "      <td>2</td>\n",
       "      <td>zey</td>\n",
       "      <td>kosu</td>\n",
       "      <td>250</td>\n",
       "      <td></td>\n",
       "      <td>5</td>\n",
       "      <td>lev</td>\n",
       "      <td>yuzme</td>\n",
       "      <td>100</td>\n",
       "      <td></td>\n",
       "      <td>8</td>\n",
       "      <td>ays</td>\n",
       "      <td>kosu</td>\n",
       "      <td>400</td>\n",
       "    </tr>\n",
       "    <tr>\n",
       "      <th>4</th>\n",
       "      <td>3</td>\n",
       "      <td>ati</td>\n",
       "      <td>basket</td>\n",
       "      <td>150</td>\n",
       "      <td></td>\n",
       "      <td>6</td>\n",
       "      <td>atlas</td>\n",
       "      <td>kosu</td>\n",
       "      <td>50</td>\n",
       "      <td></td>\n",
       "      <td>9</td>\n",
       "      <td>mah</td>\n",
       "      <td>yuzme</td>\n",
       "      <td>500</td>\n",
       "    </tr>\n",
       "    <tr>\n",
       "      <th>5</th>\n",
       "      <td></td>\n",
       "      <td></td>\n",
       "      <td></td>\n",
       "      <td></td>\n",
       "      <td></td>\n",
       "      <td>7</td>\n",
       "      <td>fat</td>\n",
       "      <td>basket</td>\n",
       "      <td>300</td>\n",
       "      <td></td>\n",
       "      <td>10</td>\n",
       "      <td>duy</td>\n",
       "      <td>basket</td>\n",
       "      <td>100</td>\n",
       "    </tr>\n",
       "    <tr>\n",
       "      <th>6</th>\n",
       "      <td></td>\n",
       "      <td></td>\n",
       "      <td></td>\n",
       "      <td></td>\n",
       "      <td></td>\n",
       "      <td></td>\n",
       "      <td></td>\n",
       "      <td></td>\n",
       "      <td></td>\n",
       "      <td></td>\n",
       "      <td>11</td>\n",
       "      <td>nur</td>\n",
       "      <td>tenis</td>\n",
       "      <td>200</td>\n",
       "    </tr>\n",
       "  </tbody>\n",
       "</table>\n",
       "</div>"
      ],
      "text/plain": [
       "            .1      .2      .3  .4     .5     .6      .7      .8  .9    .10  \\\n",
       "0  index  isim    spor  kalori                                                \n",
       "1      0   ahm    kosu     100      index   isim    spor  kalori              \n",
       "2      1   meh   yuzme     200          4    osm    kosu     200      index   \n",
       "3      2   zey    kosu     250          5    lev   yuzme     100          8   \n",
       "4      3   ati  basket     150          6  atlas    kosu      50          9   \n",
       "5                                       7    fat  basket     300         10   \n",
       "6                                                                        11   \n",
       "\n",
       "    .11     .12     .13  \n",
       "0                        \n",
       "1                        \n",
       "2  isim    spor  kalori  \n",
       "3   ays    kosu     400  \n",
       "4   mah   yuzme     500  \n",
       "5   duy  basket     100  \n",
       "6   nur   tenis     200  "
      ]
     },
     "execution_count": 88,
     "metadata": {},
     "output_type": "execute_result"
    }
   ],
   "source": [
    "#olusturmak istedigimiz tablo gorseli orn olmasi acisindan-->excelden okuduk\n",
    "data3 = pd.read_excel(\"pandasConcat.xlsx\") \n",
    "data3\n",
    "#her birini ayri tablo varsayalim:"
   ]
  },
  {
   "cell_type": "code",
   "execution_count": 89,
   "id": "5b7268d0",
   "metadata": {},
   "outputs": [],
   "source": [
    "sozluk1 = {\"isim\": [\"ahm\",\"meh\",\"zey\",\"ati\"],\n",
    "          \"spor\": [\"kosu\",\"yuzme\",\"kosu\",\"basket\"],\n",
    "          \"kalori\": [100,200,250,150]\n",
    "          }\n",
    "\n",
    "dataFrame1 = pd.DataFrame(sozluk1, index= [0,1,2,3]) #pd.DataFrame(data, index)"
   ]
  },
  {
   "cell_type": "code",
   "execution_count": 90,
   "id": "ff33c044",
   "metadata": {},
   "outputs": [],
   "source": [
    "sozluk2 = {\"isim\": [\"osm\",\"lev\",\"atlas\",\"fat\"],\n",
    "          \"spor\": [\"kosu\",\"yuzme\",\"kosu\",\"basket\"],\n",
    "          \"kalori\": [200,100,50,300]\n",
    "          }\n",
    "\n",
    "dataFrame2 = pd.DataFrame(sozluk2, index= [4,5,6,7]) #pd.DataFrame(data, index)"
   ]
  },
  {
   "cell_type": "code",
   "execution_count": 91,
   "id": "c88604dd",
   "metadata": {},
   "outputs": [],
   "source": [
    "sozluk3 = {\"isim\": [\"ays\",\"mah\",\"duy\",\"nur\"],\n",
    "          \"spor\": [\"kosu\",\"yuzme\",\"basket\",\"tenis\"],\n",
    "          \"kalori\": [400,500,100,200]\n",
    "          }\n",
    "\n",
    "dataFrame3 = pd.DataFrame(sozluk3, index= [8,9,10,11]) #pd.DataFrame(data, index)"
   ]
  },
  {
   "cell_type": "code",
   "execution_count": 108,
   "id": "f24887f0",
   "metadata": {},
   "outputs": [
    {
     "data": {
      "text/html": [
       "<div>\n",
       "<style scoped>\n",
       "    .dataframe tbody tr th:only-of-type {\n",
       "        vertical-align: middle;\n",
       "    }\n",
       "\n",
       "    .dataframe tbody tr th {\n",
       "        vertical-align: top;\n",
       "    }\n",
       "\n",
       "    .dataframe thead th {\n",
       "        text-align: right;\n",
       "    }\n",
       "</style>\n",
       "<table border=\"1\" class=\"dataframe\">\n",
       "  <thead>\n",
       "    <tr style=\"text-align: right;\">\n",
       "      <th></th>\n",
       "      <th>isim</th>\n",
       "      <th>spor</th>\n",
       "      <th>kalori</th>\n",
       "    </tr>\n",
       "  </thead>\n",
       "  <tbody>\n",
       "    <tr>\n",
       "      <th>0</th>\n",
       "      <td>ahm</td>\n",
       "      <td>kosu</td>\n",
       "      <td>100</td>\n",
       "    </tr>\n",
       "    <tr>\n",
       "      <th>1</th>\n",
       "      <td>meh</td>\n",
       "      <td>yuzme</td>\n",
       "      <td>200</td>\n",
       "    </tr>\n",
       "    <tr>\n",
       "      <th>2</th>\n",
       "      <td>zey</td>\n",
       "      <td>kosu</td>\n",
       "      <td>250</td>\n",
       "    </tr>\n",
       "    <tr>\n",
       "      <th>3</th>\n",
       "      <td>ati</td>\n",
       "      <td>basket</td>\n",
       "      <td>150</td>\n",
       "    </tr>\n",
       "    <tr>\n",
       "      <th>4</th>\n",
       "      <td>osm</td>\n",
       "      <td>kosu</td>\n",
       "      <td>200</td>\n",
       "    </tr>\n",
       "    <tr>\n",
       "      <th>5</th>\n",
       "      <td>lev</td>\n",
       "      <td>yuzme</td>\n",
       "      <td>100</td>\n",
       "    </tr>\n",
       "    <tr>\n",
       "      <th>6</th>\n",
       "      <td>atlas</td>\n",
       "      <td>kosu</td>\n",
       "      <td>50</td>\n",
       "    </tr>\n",
       "    <tr>\n",
       "      <th>7</th>\n",
       "      <td>fat</td>\n",
       "      <td>basket</td>\n",
       "      <td>300</td>\n",
       "    </tr>\n",
       "    <tr>\n",
       "      <th>8</th>\n",
       "      <td>ays</td>\n",
       "      <td>kosu</td>\n",
       "      <td>400</td>\n",
       "    </tr>\n",
       "    <tr>\n",
       "      <th>9</th>\n",
       "      <td>mah</td>\n",
       "      <td>yuzme</td>\n",
       "      <td>500</td>\n",
       "    </tr>\n",
       "    <tr>\n",
       "      <th>10</th>\n",
       "      <td>duy</td>\n",
       "      <td>basket</td>\n",
       "      <td>100</td>\n",
       "    </tr>\n",
       "    <tr>\n",
       "      <th>11</th>\n",
       "      <td>nur</td>\n",
       "      <td>tenis</td>\n",
       "      <td>200</td>\n",
       "    </tr>\n",
       "  </tbody>\n",
       "</table>\n",
       "</div>"
      ],
      "text/plain": [
       "     isim    spor  kalori\n",
       "0     ahm    kosu     100\n",
       "1     meh   yuzme     200\n",
       "2     zey    kosu     250\n",
       "3     ati  basket     150\n",
       "4     osm    kosu     200\n",
       "5     lev   yuzme     100\n",
       "6   atlas    kosu      50\n",
       "7     fat  basket     300\n",
       "8     ays    kosu     400\n",
       "9     mah   yuzme     500\n",
       "10    duy  basket     100\n",
       "11    nur   tenis     200"
      ]
     },
     "execution_count": 108,
     "metadata": {},
     "output_type": "execute_result"
    }
   ],
   "source": [
    "pd.concat([dataFrame1, dataFrame2, dataFrame3]) #birlestir"
   ]
  },
  {
   "cell_type": "code",
   "execution_count": 98,
   "id": "f365971a",
   "metadata": {},
   "outputs": [
    {
     "data": {
      "text/html": [
       "<div>\n",
       "<style scoped>\n",
       "    .dataframe tbody tr th:only-of-type {\n",
       "        vertical-align: middle;\n",
       "    }\n",
       "\n",
       "    .dataframe tbody tr th {\n",
       "        vertical-align: top;\n",
       "    }\n",
       "\n",
       "    .dataframe thead th {\n",
       "        text-align: right;\n",
       "    }\n",
       "</style>\n",
       "<table border=\"1\" class=\"dataframe\">\n",
       "  <thead>\n",
       "    <tr style=\"text-align: right;\">\n",
       "      <th></th>\n",
       "      <th>isim</th>\n",
       "      <th>spor</th>\n",
       "      <th>kalori</th>\n",
       "      <th>isim</th>\n",
       "      <th>spor</th>\n",
       "      <th>kalori</th>\n",
       "      <th>isim</th>\n",
       "      <th>spor</th>\n",
       "      <th>kalori</th>\n",
       "    </tr>\n",
       "  </thead>\n",
       "  <tbody>\n",
       "    <tr>\n",
       "      <th>0</th>\n",
       "      <td>ahm</td>\n",
       "      <td>kosu</td>\n",
       "      <td>100.0</td>\n",
       "      <td>NaN</td>\n",
       "      <td>NaN</td>\n",
       "      <td>NaN</td>\n",
       "      <td>NaN</td>\n",
       "      <td>NaN</td>\n",
       "      <td>NaN</td>\n",
       "    </tr>\n",
       "    <tr>\n",
       "      <th>1</th>\n",
       "      <td>meh</td>\n",
       "      <td>yuzme</td>\n",
       "      <td>200.0</td>\n",
       "      <td>NaN</td>\n",
       "      <td>NaN</td>\n",
       "      <td>NaN</td>\n",
       "      <td>NaN</td>\n",
       "      <td>NaN</td>\n",
       "      <td>NaN</td>\n",
       "    </tr>\n",
       "    <tr>\n",
       "      <th>2</th>\n",
       "      <td>zey</td>\n",
       "      <td>kosu</td>\n",
       "      <td>250.0</td>\n",
       "      <td>NaN</td>\n",
       "      <td>NaN</td>\n",
       "      <td>NaN</td>\n",
       "      <td>NaN</td>\n",
       "      <td>NaN</td>\n",
       "      <td>NaN</td>\n",
       "    </tr>\n",
       "    <tr>\n",
       "      <th>3</th>\n",
       "      <td>ati</td>\n",
       "      <td>basket</td>\n",
       "      <td>150.0</td>\n",
       "      <td>NaN</td>\n",
       "      <td>NaN</td>\n",
       "      <td>NaN</td>\n",
       "      <td>NaN</td>\n",
       "      <td>NaN</td>\n",
       "      <td>NaN</td>\n",
       "    </tr>\n",
       "    <tr>\n",
       "      <th>4</th>\n",
       "      <td>NaN</td>\n",
       "      <td>NaN</td>\n",
       "      <td>NaN</td>\n",
       "      <td>osm</td>\n",
       "      <td>kosu</td>\n",
       "      <td>200.0</td>\n",
       "      <td>NaN</td>\n",
       "      <td>NaN</td>\n",
       "      <td>NaN</td>\n",
       "    </tr>\n",
       "    <tr>\n",
       "      <th>5</th>\n",
       "      <td>NaN</td>\n",
       "      <td>NaN</td>\n",
       "      <td>NaN</td>\n",
       "      <td>lev</td>\n",
       "      <td>yuzme</td>\n",
       "      <td>100.0</td>\n",
       "      <td>NaN</td>\n",
       "      <td>NaN</td>\n",
       "      <td>NaN</td>\n",
       "    </tr>\n",
       "    <tr>\n",
       "      <th>6</th>\n",
       "      <td>NaN</td>\n",
       "      <td>NaN</td>\n",
       "      <td>NaN</td>\n",
       "      <td>atlas</td>\n",
       "      <td>kosu</td>\n",
       "      <td>50.0</td>\n",
       "      <td>NaN</td>\n",
       "      <td>NaN</td>\n",
       "      <td>NaN</td>\n",
       "    </tr>\n",
       "    <tr>\n",
       "      <th>7</th>\n",
       "      <td>NaN</td>\n",
       "      <td>NaN</td>\n",
       "      <td>NaN</td>\n",
       "      <td>fat</td>\n",
       "      <td>basket</td>\n",
       "      <td>300.0</td>\n",
       "      <td>NaN</td>\n",
       "      <td>NaN</td>\n",
       "      <td>NaN</td>\n",
       "    </tr>\n",
       "    <tr>\n",
       "      <th>8</th>\n",
       "      <td>NaN</td>\n",
       "      <td>NaN</td>\n",
       "      <td>NaN</td>\n",
       "      <td>NaN</td>\n",
       "      <td>NaN</td>\n",
       "      <td>NaN</td>\n",
       "      <td>ays</td>\n",
       "      <td>kosu</td>\n",
       "      <td>400.0</td>\n",
       "    </tr>\n",
       "    <tr>\n",
       "      <th>9</th>\n",
       "      <td>NaN</td>\n",
       "      <td>NaN</td>\n",
       "      <td>NaN</td>\n",
       "      <td>NaN</td>\n",
       "      <td>NaN</td>\n",
       "      <td>NaN</td>\n",
       "      <td>mah</td>\n",
       "      <td>yuzme</td>\n",
       "      <td>500.0</td>\n",
       "    </tr>\n",
       "    <tr>\n",
       "      <th>10</th>\n",
       "      <td>NaN</td>\n",
       "      <td>NaN</td>\n",
       "      <td>NaN</td>\n",
       "      <td>NaN</td>\n",
       "      <td>NaN</td>\n",
       "      <td>NaN</td>\n",
       "      <td>duy</td>\n",
       "      <td>basket</td>\n",
       "      <td>100.0</td>\n",
       "    </tr>\n",
       "    <tr>\n",
       "      <th>11</th>\n",
       "      <td>NaN</td>\n",
       "      <td>NaN</td>\n",
       "      <td>NaN</td>\n",
       "      <td>NaN</td>\n",
       "      <td>NaN</td>\n",
       "      <td>NaN</td>\n",
       "      <td>nur</td>\n",
       "      <td>tenis</td>\n",
       "      <td>200.0</td>\n",
       "    </tr>\n",
       "  </tbody>\n",
       "</table>\n",
       "</div>"
      ],
      "text/plain": [
       "   isim    spor  kalori   isim    spor  kalori isim    spor  kalori\n",
       "0   ahm    kosu   100.0    NaN     NaN     NaN  NaN     NaN     NaN\n",
       "1   meh   yuzme   200.0    NaN     NaN     NaN  NaN     NaN     NaN\n",
       "2   zey    kosu   250.0    NaN     NaN     NaN  NaN     NaN     NaN\n",
       "3   ati  basket   150.0    NaN     NaN     NaN  NaN     NaN     NaN\n",
       "4   NaN     NaN     NaN    osm    kosu   200.0  NaN     NaN     NaN\n",
       "5   NaN     NaN     NaN    lev   yuzme   100.0  NaN     NaN     NaN\n",
       "6   NaN     NaN     NaN  atlas    kosu    50.0  NaN     NaN     NaN\n",
       "7   NaN     NaN     NaN    fat  basket   300.0  NaN     NaN     NaN\n",
       "8   NaN     NaN     NaN    NaN     NaN     NaN  ays    kosu   400.0\n",
       "9   NaN     NaN     NaN    NaN     NaN     NaN  mah   yuzme   500.0\n",
       "10  NaN     NaN     NaN    NaN     NaN     NaN  duy  basket   100.0\n",
       "11  NaN     NaN     NaN    NaN     NaN     NaN  nur   tenis   200.0"
      ]
     },
     "execution_count": 98,
     "metadata": {},
     "output_type": "execute_result"
    }
   ],
   "source": [
    "#Kolonlari birlestirmek icin:\n",
    "pd.concat([dataFrame1, dataFrame2, dataFrame3], axis= 1)"
   ]
  },
  {
   "cell_type": "markdown",
   "id": "833c4ba7",
   "metadata": {},
   "source": [
    "## merge:\n",
    "\n",
    "Kolonlari ortak olan datalari, tek data olarak gosterir."
   ]
  },
  {
   "cell_type": "code",
   "execution_count": 100,
   "id": "e23a1db2",
   "metadata": {},
   "outputs": [],
   "source": [
    "mergeSozluk1 = {\"isim\": [\"ahm\",\"meh\",\"zey\",\"ati\"],\n",
    "          \"spor\": [\"kosu\",\"yuzme\",\"kosu\",\"basket\"],\n",
    "          }\n",
    "\n",
    "mergeDataFrame1 = pd.DataFrame(mergeSozluk1, index= [0,1,2,3]) #pd.DataFrame(data, index)"
   ]
  },
  {
   "cell_type": "code",
   "execution_count": 101,
   "id": "e4dfc293",
   "metadata": {},
   "outputs": [],
   "source": [
    "mergeSozluk2 = {\"isim\": [\"ahm\",\"meh\",\"zey\",\"ati\"],\n",
    "          \"kalori\": [100,200,250,150]\n",
    "          }\n",
    "\n",
    "mergeDataFrame2 = pd.DataFrame(mergeSozluk2, index= [0,1,2,3]) #pd.DataFrame(data, index)"
   ]
  },
  {
   "cell_type": "code",
   "execution_count": 106,
   "id": "bbb7fd69",
   "metadata": {},
   "outputs": [
    {
     "data": {
      "text/html": [
       "<div>\n",
       "<style scoped>\n",
       "    .dataframe tbody tr th:only-of-type {\n",
       "        vertical-align: middle;\n",
       "    }\n",
       "\n",
       "    .dataframe tbody tr th {\n",
       "        vertical-align: top;\n",
       "    }\n",
       "\n",
       "    .dataframe thead th {\n",
       "        text-align: right;\n",
       "    }\n",
       "</style>\n",
       "<table border=\"1\" class=\"dataframe\">\n",
       "  <thead>\n",
       "    <tr style=\"text-align: right;\">\n",
       "      <th></th>\n",
       "      <th>isim</th>\n",
       "      <th>spor</th>\n",
       "      <th>kalori</th>\n",
       "    </tr>\n",
       "  </thead>\n",
       "  <tbody>\n",
       "    <tr>\n",
       "      <th>0</th>\n",
       "      <td>ahm</td>\n",
       "      <td>kosu</td>\n",
       "      <td>100</td>\n",
       "    </tr>\n",
       "    <tr>\n",
       "      <th>1</th>\n",
       "      <td>meh</td>\n",
       "      <td>yuzme</td>\n",
       "      <td>200</td>\n",
       "    </tr>\n",
       "    <tr>\n",
       "      <th>2</th>\n",
       "      <td>zey</td>\n",
       "      <td>kosu</td>\n",
       "      <td>250</td>\n",
       "    </tr>\n",
       "    <tr>\n",
       "      <th>3</th>\n",
       "      <td>ati</td>\n",
       "      <td>basket</td>\n",
       "      <td>150</td>\n",
       "    </tr>\n",
       "  </tbody>\n",
       "</table>\n",
       "</div>"
      ],
      "text/plain": [
       "  isim    spor  kalori\n",
       "0  ahm    kosu     100\n",
       "1  meh   yuzme     200\n",
       "2  zey    kosu     250\n",
       "3  ati  basket     150"
      ]
     },
     "execution_count": 106,
     "metadata": {},
     "output_type": "execute_result"
    }
   ],
   "source": [
    "pd.merge(mergeDataFrame1, mergeDataFrame2, on= \"isim\") #on: ortak olan kolon"
   ]
  },
  {
   "cell_type": "markdown",
   "id": "1bddc0ab",
   "metadata": {},
   "source": [
    "# Pandas Ileri Operasyonlar:\n",
    "\n",
    ".unique(): tekil\n",
    "\n",
    ".nunique(): tekil sayisi\n",
    "\n",
    ".value_counts(): kacar tane"
   ]
  },
  {
   "cell_type": "code",
   "execution_count": 110,
   "id": "29eb8cb8",
   "metadata": {},
   "outputs": [],
   "source": [
    "import numpy as np\n",
    "import pandas as pd"
   ]
  },
  {
   "cell_type": "code",
   "execution_count": 111,
   "id": "18aa6ff7",
   "metadata": {},
   "outputs": [
    {
     "data": {
      "text/html": [
       "<div>\n",
       "<style scoped>\n",
       "    .dataframe tbody tr th:only-of-type {\n",
       "        vertical-align: middle;\n",
       "    }\n",
       "\n",
       "    .dataframe tbody tr th {\n",
       "        vertical-align: top;\n",
       "    }\n",
       "\n",
       "    .dataframe thead th {\n",
       "        text-align: right;\n",
       "    }\n",
       "</style>\n",
       "<table border=\"1\" class=\"dataframe\">\n",
       "  <thead>\n",
       "    <tr style=\"text-align: right;\">\n",
       "      <th></th>\n",
       "      <th>calisan ismi</th>\n",
       "      <th>depart</th>\n",
       "      <th>maas</th>\n",
       "    </tr>\n",
       "  </thead>\n",
       "  <tbody>\n",
       "    <tr>\n",
       "      <th>0</th>\n",
       "      <td>ahm</td>\n",
       "      <td>yazilim</td>\n",
       "      <td>1000</td>\n",
       "    </tr>\n",
       "    <tr>\n",
       "      <th>1</th>\n",
       "      <td>meh</td>\n",
       "      <td>yazilim</td>\n",
       "      <td>1500</td>\n",
       "    </tr>\n",
       "    <tr>\n",
       "      <th>2</th>\n",
       "      <td>ati</td>\n",
       "      <td>pazar</td>\n",
       "      <td>2000</td>\n",
       "    </tr>\n",
       "    <tr>\n",
       "      <th>3</th>\n",
       "      <td>bur</td>\n",
       "      <td>pazar</td>\n",
       "      <td>3000</td>\n",
       "    </tr>\n",
       "    <tr>\n",
       "      <th>4</th>\n",
       "      <td>zey</td>\n",
       "      <td>hukuk</td>\n",
       "      <td>4000</td>\n",
       "    </tr>\n",
       "    <tr>\n",
       "      <th>5</th>\n",
       "      <td>fur</td>\n",
       "      <td>hukuk</td>\n",
       "      <td>5000</td>\n",
       "    </tr>\n",
       "  </tbody>\n",
       "</table>\n",
       "</div>"
      ],
      "text/plain": [
       "  calisan ismi   depart  maas\n",
       "0          ahm  yazilim  1000\n",
       "1          meh  yazilim  1500\n",
       "2          ati    pazar  2000\n",
       "3          bur    pazar  3000\n",
       "4          zey    hukuk  4000\n",
       "5          fur    hukuk  5000"
      ]
     },
     "execution_count": 111,
     "metadata": {},
     "output_type": "execute_result"
    }
   ],
   "source": [
    "maasSozluk2 = {\"calisan ismi\": [\"ahm\",\"meh\",\"ati\",\"bur\",\"zey\",\"fur\"],\n",
    "               \"depart\": [\"yazilim\",\"yazilim\",\"pazar\",\"pazar\",\"hukuk\",\"hukuk\"],\n",
    "               \"maas\": [1000,1500,2000,3000,4000,5000]\n",
    "             }\n",
    "\n",
    "maasDataFrame2 = pd.DataFrame(maasSozluk2)\n",
    "maasDataFrame2"
   ]
  },
  {
   "cell_type": "code",
   "execution_count": 112,
   "id": "b338c4be",
   "metadata": {},
   "outputs": [
    {
     "data": {
      "text/plain": [
       "0    yazilim\n",
       "1    yazilim\n",
       "2      pazar\n",
       "3      pazar\n",
       "4      hukuk\n",
       "5      hukuk\n",
       "Name: depart, dtype: object"
      ]
     },
     "execution_count": 112,
     "metadata": {},
     "output_type": "execute_result"
    }
   ],
   "source": [
    "#orn:\n",
    "maasDataFrame2[\"depart\"]"
   ]
  },
  {
   "cell_type": "code",
   "execution_count": 113,
   "id": "191b4b54",
   "metadata": {},
   "outputs": [
    {
     "data": {
      "text/plain": [
       "array(['yazilim', 'pazar', 'hukuk'], dtype=object)"
      ]
     },
     "execution_count": 113,
     "metadata": {},
     "output_type": "execute_result"
    }
   ],
   "source": [
    "#.unique(): tekil\n",
    "maasDataFrame2[\"depart\"].unique() #tekil deparmanlari getirir"
   ]
  },
  {
   "cell_type": "code",
   "execution_count": 114,
   "id": "4b1b64fe",
   "metadata": {},
   "outputs": [
    {
     "data": {
      "text/plain": [
       "3"
      ]
     },
     "execution_count": 114,
     "metadata": {},
     "output_type": "execute_result"
    }
   ],
   "source": [
    "#.nunique(): tekil sayisi\n",
    "maasDataFrame2[\"depart\"].nunique() #tekil departmanlarin sayisi-->yaz+paz+huk=3"
   ]
  },
  {
   "cell_type": "code",
   "execution_count": 115,
   "id": "28cf83ed",
   "metadata": {},
   "outputs": [
    {
     "data": {
      "text/plain": [
       "yazilim    2\n",
       "pazar      2\n",
       "hukuk      2\n",
       "Name: depart, dtype: int64"
      ]
     },
     "execution_count": 115,
     "metadata": {},
     "output_type": "execute_result"
    }
   ],
   "source": [
    "#.value_counts(): kacar tane\n",
    "maasDataFrame2[\"depart\"].value_counts() #her bir departmandan kacar tane"
   ]
  },
  {
   "cell_type": "markdown",
   "id": "77a181d8",
   "metadata": {},
   "source": [
    "## Series lere de fonksiyon uygulanabilir:\n",
    "\n",
    ".apply(): fonk.nu uygula\n",
    "\n",
    ".isnull(): eksik deger var mi? True-evt var, False-hyr yok\n",
    "\n",
    ".pivot_table()\n",
    "\n",
    "appfunc= np.sum"
   ]
  },
  {
   "cell_type": "code",
   "execution_count": 117,
   "id": "fd4037a0",
   "metadata": {},
   "outputs": [],
   "source": [
    "def bruttenNete(maasx):\n",
    "    return maasx * 0.66   "
   ]
  },
  {
   "cell_type": "code",
   "execution_count": 118,
   "id": "e541e3a2",
   "metadata": {},
   "outputs": [
    {
     "data": {
      "text/plain": [
       "0     660.0\n",
       "1     990.0\n",
       "2    1320.0\n",
       "3    1980.0\n",
       "4    2640.0\n",
       "5    3300.0\n",
       "Name: maas, dtype: float64"
      ]
     },
     "execution_count": 118,
     "metadata": {},
     "output_type": "execute_result"
    }
   ],
   "source": [
    "maasDataFrame2[\"maas\"].apply(bruttenNete) #fonk.nu uyg."
   ]
  },
  {
   "cell_type": "code",
   "execution_count": 119,
   "id": "bcb899c3",
   "metadata": {},
   "outputs": [
    {
     "data": {
      "text/html": [
       "<div>\n",
       "<style scoped>\n",
       "    .dataframe tbody tr th:only-of-type {\n",
       "        vertical-align: middle;\n",
       "    }\n",
       "\n",
       "    .dataframe tbody tr th {\n",
       "        vertical-align: top;\n",
       "    }\n",
       "\n",
       "    .dataframe thead th {\n",
       "        text-align: right;\n",
       "    }\n",
       "</style>\n",
       "<table border=\"1\" class=\"dataframe\">\n",
       "  <thead>\n",
       "    <tr style=\"text-align: right;\">\n",
       "      <th></th>\n",
       "      <th>calisan ismi</th>\n",
       "      <th>depart</th>\n",
       "      <th>maas</th>\n",
       "    </tr>\n",
       "  </thead>\n",
       "  <tbody>\n",
       "    <tr>\n",
       "      <th>0</th>\n",
       "      <td>False</td>\n",
       "      <td>False</td>\n",
       "      <td>False</td>\n",
       "    </tr>\n",
       "    <tr>\n",
       "      <th>1</th>\n",
       "      <td>False</td>\n",
       "      <td>False</td>\n",
       "      <td>False</td>\n",
       "    </tr>\n",
       "    <tr>\n",
       "      <th>2</th>\n",
       "      <td>False</td>\n",
       "      <td>False</td>\n",
       "      <td>False</td>\n",
       "    </tr>\n",
       "    <tr>\n",
       "      <th>3</th>\n",
       "      <td>False</td>\n",
       "      <td>False</td>\n",
       "      <td>False</td>\n",
       "    </tr>\n",
       "    <tr>\n",
       "      <th>4</th>\n",
       "      <td>False</td>\n",
       "      <td>False</td>\n",
       "      <td>False</td>\n",
       "    </tr>\n",
       "    <tr>\n",
       "      <th>5</th>\n",
       "      <td>False</td>\n",
       "      <td>False</td>\n",
       "      <td>False</td>\n",
       "    </tr>\n",
       "  </tbody>\n",
       "</table>\n",
       "</div>"
      ],
      "text/plain": [
       "   calisan ismi  depart   maas\n",
       "0         False   False  False\n",
       "1         False   False  False\n",
       "2         False   False  False\n",
       "3         False   False  False\n",
       "4         False   False  False\n",
       "5         False   False  False"
      ]
     },
     "execution_count": 119,
     "metadata": {},
     "output_type": "execute_result"
    }
   ],
   "source": [
    "maasDataFrame2.isnull() #eksik deger var mi? True-evt var, False-hyr yok"
   ]
  },
  {
   "cell_type": "code",
   "execution_count": 120,
   "id": "30af28c0",
   "metadata": {},
   "outputs": [],
   "source": [
    "yeniSozlukVeri = {\"Karakter sinifi\": [\"south park\",\"south park\",\"simpson\",\"simpson\",\"simpson\"],\n",
    "            \"Karakter ismi\": [\"cartman\", \"kenny\", \"homer\", \"bart\",\"marge\"],\n",
    "            \"Karakter yas\": [9,10,50,20,10]\n",
    "           }\n",
    "karakterDataFrame = pd.DataFrame(yeniSozlukVeri)"
   ]
  },
  {
   "cell_type": "code",
   "execution_count": 123,
   "id": "8f4c1409",
   "metadata": {},
   "outputs": [
    {
     "data": {
      "text/html": [
       "<div>\n",
       "<style scoped>\n",
       "    .dataframe tbody tr th:only-of-type {\n",
       "        vertical-align: middle;\n",
       "    }\n",
       "\n",
       "    .dataframe tbody tr th {\n",
       "        vertical-align: top;\n",
       "    }\n",
       "\n",
       "    .dataframe thead th {\n",
       "        text-align: right;\n",
       "    }\n",
       "</style>\n",
       "<table border=\"1\" class=\"dataframe\">\n",
       "  <thead>\n",
       "    <tr style=\"text-align: right;\">\n",
       "      <th></th>\n",
       "      <th></th>\n",
       "      <th>Karakter yas</th>\n",
       "    </tr>\n",
       "    <tr>\n",
       "      <th>Karakter sinifi</th>\n",
       "      <th>Karakter ismi</th>\n",
       "      <th></th>\n",
       "    </tr>\n",
       "  </thead>\n",
       "  <tbody>\n",
       "    <tr>\n",
       "      <th rowspan=\"3\" valign=\"top\">simpson</th>\n",
       "      <th>bart</th>\n",
       "      <td>20</td>\n",
       "    </tr>\n",
       "    <tr>\n",
       "      <th>homer</th>\n",
       "      <td>50</td>\n",
       "    </tr>\n",
       "    <tr>\n",
       "      <th>marge</th>\n",
       "      <td>10</td>\n",
       "    </tr>\n",
       "    <tr>\n",
       "      <th rowspan=\"2\" valign=\"top\">south park</th>\n",
       "      <th>cartman</th>\n",
       "      <td>9</td>\n",
       "    </tr>\n",
       "    <tr>\n",
       "      <th>kenny</th>\n",
       "      <td>10</td>\n",
       "    </tr>\n",
       "  </tbody>\n",
       "</table>\n",
       "</div>"
      ],
      "text/plain": [
       "                               Karakter yas\n",
       "Karakter sinifi Karakter ismi              \n",
       "simpson         bart                     20\n",
       "                homer                    50\n",
       "                marge                    10\n",
       "south park      cartman                   9\n",
       "                kenny                    10"
      ]
     },
     "execution_count": 123,
     "metadata": {},
     "output_type": "execute_result"
    }
   ],
   "source": [
    "karakterDataFrame.pivot_table(values= \"Karakter yas\", index= [\"Karakter sinifi\", \"Karakter ismi\"])"
   ]
  },
  {
   "cell_type": "code",
   "execution_count": null,
   "id": "e65e2e2f",
   "metadata": {},
   "outputs": [],
   "source": []
  }
 ],
 "metadata": {
  "kernelspec": {
   "display_name": "Python 3 (ipykernel)",
   "language": "python",
   "name": "python3"
  },
  "language_info": {
   "codemirror_mode": {
    "name": "ipython",
    "version": 3
   },
   "file_extension": ".py",
   "mimetype": "text/x-python",
   "name": "python",
   "nbconvert_exporter": "python",
   "pygments_lexer": "ipython3",
   "version": "3.9.7"
  }
 },
 "nbformat": 4,
 "nbformat_minor": 5
}
